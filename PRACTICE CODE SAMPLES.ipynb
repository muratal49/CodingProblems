{
 "cells": [
  {
   "cell_type": "code",
   "execution_count": 27,
   "id": "802218ff",
   "metadata": {},
   "outputs": [
    {
     "name": "stdout",
     "output_type": "stream",
     "text": [
      "[1, 3, 5, 13]\n",
      "[0, 2, 8]\n"
     ]
    }
   ],
   "source": [
    "# a list contains both even and odd numbers. \n",
    "seq = [0, 1, 2, 3, 5, 8, 13]\n",
    "\n",
    "# result contains odd numbers of the list\n",
    "result = filter(lambda x: x % 2 != 0, seq)\n",
    "print(list(result))\n",
    "\n",
    "# result contains even numbers of the list\n",
    "result = filter(lambda x: x % 2 == 0, seq)\n",
    "print(list(result))"
   ]
  },
  {
   "cell_type": "code",
   "execution_count": 29,
   "id": "f17a73a7",
   "metadata": {},
   "outputs": [
    {
     "name": "stdout",
     "output_type": "stream",
     "text": [
      "The maximum element of the list is : 13\n"
     ]
    }
   ],
   "source": [
    "# python code to demonstrate working of reduce() \n",
    "\n",
    "from functools import reduce\n",
    "\n",
    "# using reduce to compute maximum element from list \n",
    "print(\"The maximum element of the list is : \", end=\"\") \n",
    "print(reduce(lambda a, b: a if a > b else b, seq)) \n"
   ]
  },
  {
   "cell_type": "code",
   "execution_count": 20,
   "id": "a31d25ad",
   "metadata": {},
   "outputs": [
    {
     "name": "stdout",
     "output_type": "stream",
     "text": [
      "The filtered letters are:\n",
      "e\n",
      "e\n"
     ]
    },
    {
     "data": {
      "text/plain": [
       "filter"
      ]
     },
     "execution_count": 20,
     "metadata": {},
     "output_type": "execute_result"
    }
   ],
   "source": [
    "# function that filters vowels \n",
    "def fun(variable): \n",
    "\tletters = ['a', 'e', 'i', 'o', 'u'] \n",
    "\tif (variable in letters): \n",
    "\t\treturn True\n",
    "\telse: \n",
    "\t\treturn False\n",
    "\n",
    "\n",
    "# sequence \n",
    "sequence = ['g', 'e', 'e', 'j', 'k', 's', 'p', 'r'] \n",
    "\n",
    "# using filter function \n",
    "filtered = filter(fun, sequence) \n",
    "\n",
    "print('The filtered letters are:') \n",
    "for s in filtered: \n",
    "\tprint(s) \n",
    "type(filtered)"
   ]
  },
  {
   "cell_type": "code",
   "execution_count": 14,
   "id": "c82aae1f",
   "metadata": {},
   "outputs": [
    {
     "name": "stdout",
     "output_type": "stream",
     "text": [
      "{'a': 1, 'b': 2, 'c': 3, 'd': 4, 'e': 5}\n",
      "0 : ('a', 1)\n",
      "1 : ('b', 2)\n",
      "2 : ('c', 3)\n",
      "3 : ('d', 4)\n",
      "4 : ('e', 5)\n"
     ]
    }
   ],
   "source": [
    "# Lists to represent keys and values \n",
    "keys = ['a','b','c','d','e'] \n",
    "values = [1,2,3,4,5] \n",
    "\n",
    "# but this line shows dict comprehension here \n",
    "myDict = { k:v for (k,v) in zip(keys, values)} \n",
    "\n",
    "# We can use below too \n",
    "# myDict = dict(zip(keys, values)) \n",
    "\n",
    "print (myDict)\n",
    "for i,p in enumerate(zip(keys, values)):\n",
    "    print(i,':',p)"
   ]
  },
  {
   "cell_type": "code",
   "execution_count": 6,
   "id": "4aa47c56",
   "metadata": {},
   "outputs": [
    {
     "name": "stdout",
     "output_type": "stream",
     "text": [
      "The repeating number is 5 .\n",
      "The missing number is 1 .\n"
     ]
    }
   ],
   "source": [
    "def printTwoElements(arr):\n",
    "\tn = len(arr)\n",
    "\ttemp = [0] * n # Creating temp array of size n with initial values as 0.\n",
    "\trepeatingNumber = -1\n",
    "\tmissingNumber = -1\n",
    "\n",
    "\tfor i in range(n):\n",
    "\t\ttemp[arr[i] - 1] += 1\n",
    "\t\tif temp[arr[i] - 1] > 1:\n",
    "\t\t\trepeatingNumber = arr[i]\n",
    "\tfor i in range(n):\n",
    "\t\tif temp[i] == 0:\n",
    "\t\t\tmissingNumber = i + 1\n",
    "\t\t\tbreak\n",
    "\n",
    "\tprint(\"The repeating number is\", repeatingNumber, \".\")\n",
    "\tprint(\"The missing number is\", missingNumber, \".\")\n",
    "\n",
    "\n",
    "arr = [7, 3, 4, 5, 5, 6, 2]\n",
    "printTwoElements(arr)\n",
    "\n",
    "# This code is contributed by vivek1208\n"
   ]
  },
  {
   "cell_type": "code",
   "execution_count": 9,
   "id": "6fe8725e",
   "metadata": {},
   "outputs": [
    {
     "name": "stdout",
     "output_type": "stream",
     "text": [
      "IBM: 161.0100\n"
     ]
    }
   ],
   "source": [
    "import requests\n",
    "import json\n",
    "# Function to get live stock data for a symbol\n",
    "def get_stock_data():\n",
    "\turl = f\"https://www.alphavantage.co/query?function=TIME_SERIES_INTRADAY&symbol=IBM&interval=5min&outputsize=full&apikey=demo\"\n",
    "\tresponse = requests.get(url)\n",
    "\t\n",
    "\t# Check if the response is successful\n",
    "\tif response.status_code == 200:\n",
    "\t\tdata = response.json()\n",
    "\t\tlast_refreshed = data[\"Meta Data\"][\"3. Last Refreshed\"]\n",
    "\t\tprice = data[\"Time Series (5min)\"][last_refreshed][\"1. open\"]\n",
    "\t\treturn price\n",
    "\telse:\n",
    "\t\treturn None\n",
    "\n",
    "stock_prices = {}\n",
    "price = get_stock_data()\n",
    "symbol=\"IBM\"\n",
    "if price is not None:\n",
    "\tstock_prices[symbol] = price\n",
    "\n",
    "print(f\"{symbol}: {price}\")\n"
   ]
  },
  {
   "cell_type": "code",
   "execution_count": 4,
   "id": "02a943da",
   "metadata": {},
   "outputs": [
    {
     "data": {
      "text/plain": [
       "{'IBM': '160.9500'}"
      ]
     },
     "execution_count": 4,
     "metadata": {},
     "output_type": "execute_result"
    }
   ],
   "source": [
    "stock_prices"
   ]
  },
  {
   "cell_type": "code",
   "execution_count": 30,
   "id": "7a340647",
   "metadata": {},
   "outputs": [
    {
     "name": "stdout",
     "output_type": "stream",
     "text": [
      "<_io.BufferedWriter name='data.pkl'>\n"
     ]
    }
   ],
   "source": [
    "import pickle\n",
    "\n",
    "# Sample data (a Python object, in this case, a dictionary)\n",
    "data = {'name': 'John', 'age': 30, 'city': 'New York'}\n",
    "\n",
    "# Pickle the data (serialize)\n",
    "with open('data.pkl', 'wb') as file:\n",
    "    pickle.dump(data, file)\n",
    "print(file)"
   ]
  },
  {
   "cell_type": "code",
   "execution_count": 31,
   "id": "33a41a87",
   "metadata": {},
   "outputs": [
    {
     "name": "stdout",
     "output_type": "stream",
     "text": [
      "{'name': 'John', 'age': 30, 'city': 'New York'}\n"
     ]
    }
   ],
   "source": [
    "with open('data.pkl', 'rb') as file:\n",
    "    loaded_data = pickle.load(file)\n",
    "\n",
    "print(loaded_data)"
   ]
  },
  {
   "cell_type": "code",
   "execution_count": 32,
   "id": "faadf063",
   "metadata": {},
   "outputs": [],
   "source": [
    "class ogrenci:\n",
    "    def _init_ (self,isim, soy,yas):\n",
    "        self.name=isim\n",
    "        self.last=soy\n",
    "        self.age=yas"
   ]
  },
  {
   "cell_type": "code",
   "execution_count": 50,
   "id": "e77abccf",
   "metadata": {},
   "outputs": [
    {
     "name": "stdout",
     "output_type": "stream",
     "text": [
      "   ID  Category_A  Category_B  Category_C\n",
      "0   1           1           0           0\n",
      "1   2           0           1           0\n",
      "2   3           1           0           0\n",
      "3   4           0           0           1\n"
     ]
    }
   ],
   "source": [
    "import pandas as pd\n",
    "\n",
    "# Sample DataFrame with a categorical column 'Category'\n",
    "data = {'ID': [1, 2, 3, 4],\n",
    "        'Category': ['A', 'B', 'A', 'C']}\n",
    "df = pd.DataFrame(data)\n",
    "\n",
    "# Perform one-hot encoding and drop the main feature (Category in this case)\n",
    "df_encoded = pd.get_dummies(df, columns=['Category'], drop_first=False)\n",
    "\n",
    "# Display the result\n",
    "print(df_encoded)\n"
   ]
  },
  {
   "cell_type": "markdown",
   "id": "b625f421",
   "metadata": {},
   "source": [
    "### TIME SERIES WORKBOOK\n"
   ]
  },
  {
   "cell_type": "code",
   "execution_count": 2,
   "id": "121dfacc",
   "metadata": {},
   "outputs": [
    {
     "ename": "ImportError",
     "evalue": "\nThe plotly.plotly module is deprecated,\nplease install the chart-studio package and use the\nchart_studio.plotly module instead. \n",
     "output_type": "error",
     "traceback": [
      "\u001b[0;31m---------------------------------------------------------------------------\u001b[0m",
      "\u001b[0;31mImportError\u001b[0m                               Traceback (most recent call last)",
      "Input \u001b[0;32mIn [2]\u001b[0m, in \u001b[0;36m<module>\u001b[0;34m\u001b[0m\n\u001b[1;32m     11\u001b[0m \u001b[38;5;28;01mfrom\u001b[39;00m \u001b[38;5;21;01mpylab\u001b[39;00m \u001b[38;5;28;01mimport\u001b[39;00m rcParams\n\u001b[1;32m     12\u001b[0m \u001b[38;5;28;01mfrom\u001b[39;00m \u001b[38;5;21;01mplotly\u001b[39;00m \u001b[38;5;28;01mimport\u001b[39;00m tools\n\u001b[0;32m---> 13\u001b[0m \u001b[38;5;28;01mimport\u001b[39;00m \u001b[38;5;21;01mplotly\u001b[39;00m\u001b[38;5;21;01m.\u001b[39;00m\u001b[38;5;21;01mplotly\u001b[39;00m \u001b[38;5;28;01mas\u001b[39;00m \u001b[38;5;21;01mpy\u001b[39;00m\n\u001b[1;32m     14\u001b[0m \u001b[38;5;28;01mfrom\u001b[39;00m \u001b[38;5;21;01mplotly\u001b[39;00m\u001b[38;5;21;01m.\u001b[39;00m\u001b[38;5;21;01moffline\u001b[39;00m \u001b[38;5;28;01mimport\u001b[39;00m init_notebook_mode, iplot\n\u001b[1;32m     15\u001b[0m init_notebook_mode(connected\u001b[38;5;241m=\u001b[39m\u001b[38;5;28;01mTrue\u001b[39;00m)\n",
      "File \u001b[0;32m/opt/homebrew/lib/python3.9/site-packages/plotly/plotly/__init__.py:4\u001b[0m, in \u001b[0;36m<module>\u001b[0;34m\u001b[0m\n\u001b[1;32m      1\u001b[0m \u001b[38;5;28;01mfrom\u001b[39;00m \u001b[38;5;21;01m__future__\u001b[39;00m \u001b[38;5;28;01mimport\u001b[39;00m absolute_import\n\u001b[1;32m      2\u001b[0m \u001b[38;5;28;01mfrom\u001b[39;00m \u001b[38;5;21;01m_plotly_future_\u001b[39;00m \u001b[38;5;28;01mimport\u001b[39;00m _chart_studio_error\n\u001b[0;32m----> 4\u001b[0m \u001b[43m_chart_studio_error\u001b[49m\u001b[43m(\u001b[49m\u001b[38;5;124;43m\"\u001b[39;49m\u001b[38;5;124;43mplotly\u001b[39;49m\u001b[38;5;124;43m\"\u001b[39;49m\u001b[43m)\u001b[49m\n",
      "File \u001b[0;32m/opt/homebrew/lib/python3.9/site-packages/_plotly_future_/__init__.py:43\u001b[0m, in \u001b[0;36m_chart_studio_error\u001b[0;34m(submodule)\u001b[0m\n\u001b[1;32m     42\u001b[0m \u001b[38;5;28;01mdef\u001b[39;00m \u001b[38;5;21m_chart_studio_error\u001b[39m(submodule):\n\u001b[0;32m---> 43\u001b[0m     \u001b[38;5;28;01mraise\u001b[39;00m \u001b[38;5;167;01mImportError\u001b[39;00m(\n\u001b[1;32m     44\u001b[0m         \u001b[38;5;124;03m\"\"\"\u001b[39;00m\n\u001b[1;32m     45\u001b[0m \u001b[38;5;124;03mThe plotly.{submodule} module is deprecated,\u001b[39;00m\n\u001b[1;32m     46\u001b[0m \u001b[38;5;124;03mplease install the chart-studio package and use the\u001b[39;00m\n\u001b[1;32m     47\u001b[0m \u001b[38;5;124;03mchart_studio.{submodule} module instead. \u001b[39;00m\n\u001b[1;32m     48\u001b[0m \u001b[38;5;124;03m\"\"\"\u001b[39;00m\u001b[38;5;241m.\u001b[39mformat(\n\u001b[1;32m     49\u001b[0m             submodule\u001b[38;5;241m=\u001b[39msubmodule\n\u001b[1;32m     50\u001b[0m         )\n\u001b[1;32m     51\u001b[0m     )\n",
      "\u001b[0;31mImportError\u001b[0m: \nThe plotly.plotly module is deprecated,\nplease install the chart-studio package and use the\nchart_studio.plotly module instead. \n"
     ]
    }
   ],
   "source": [
    "# Importing libraries\n",
    "import os\n",
    "import warnings\n",
    "warnings.filterwarnings('ignore')\n",
    "import numpy as np \n",
    "import pandas as pd\n",
    "import matplotlib.pyplot as plt\n",
    "plt.style.use('fivethirtyeight') \n",
    "# Above is a special style template for matplotlib, highly useful for visualizing time series data\n",
    "%matplotlib inline\n",
    "from pylab import rcParams\n",
    "from plotly import tools\n",
    "import plotly.plotly as py\n",
    "from plotly.offline import init_notebook_mode, iplot\n",
    "init_notebook_mode(connected=True)\n",
    "import plotly.graph_objs as go\n",
    "import plotly.figure_factory as ff\n",
    "import statsmodels.api as sm\n",
    "from numpy.random import normal, seed\n",
    "from scipy.stats import norm\n",
    "from statsmodels.tsa.arima_model import ARMA\n",
    "from statsmodels.tsa.stattools import adfuller\n",
    "from statsmodels.graphics.tsaplots import plot_acf, plot_pacf\n",
    "from statsmodels.tsa.arima_process import ArmaProcess\n",
    "from statsmodels.tsa.arima_model import ARIMA\n",
    "import math\n",
    "from sklearn.metrics import mean_squared_error\n",
    "print(os.listdir(\"../input\"))"
   ]
  },
  {
   "cell_type": "code",
   "execution_count": 3,
   "id": "75506bf3",
   "metadata": {},
   "outputs": [
    {
     "data": {
      "text/html": [
       "<div>\n",
       "<style scoped>\n",
       "    .dataframe tbody tr th:only-of-type {\n",
       "        vertical-align: middle;\n",
       "    }\n",
       "\n",
       "    .dataframe tbody tr th {\n",
       "        vertical-align: top;\n",
       "    }\n",
       "\n",
       "    .dataframe thead th {\n",
       "        text-align: right;\n",
       "    }\n",
       "</style>\n",
       "<table border=\"1\" class=\"dataframe\">\n",
       "  <thead>\n",
       "    <tr style=\"text-align: right;\">\n",
       "      <th></th>\n",
       "      <th>class</th>\n",
       "      <th>aa_000</th>\n",
       "      <th>ab_000</th>\n",
       "      <th>ac_000</th>\n",
       "      <th>ad_000</th>\n",
       "      <th>ae_000</th>\n",
       "      <th>af_000</th>\n",
       "      <th>ag_000</th>\n",
       "      <th>ag_001</th>\n",
       "      <th>ag_002</th>\n",
       "      <th>...</th>\n",
       "      <th>ee_002</th>\n",
       "      <th>ee_003</th>\n",
       "      <th>ee_004</th>\n",
       "      <th>ee_005</th>\n",
       "      <th>ee_006</th>\n",
       "      <th>ee_007</th>\n",
       "      <th>ee_008</th>\n",
       "      <th>ee_009</th>\n",
       "      <th>ef_000</th>\n",
       "      <th>eg_000</th>\n",
       "    </tr>\n",
       "  </thead>\n",
       "  <tbody>\n",
       "    <tr>\n",
       "      <th>0</th>\n",
       "      <td>-0.992188</td>\n",
       "      <td>-0.406250</td>\n",
       "      <td>-0.289062</td>\n",
       "      <td>-0.46875</td>\n",
       "      <td>-0.007812</td>\n",
       "      <td>-0.046875</td>\n",
       "      <td>-0.054688</td>\n",
       "      <td>-0.007812</td>\n",
       "      <td>-0.03125</td>\n",
       "      <td>-0.054688</td>\n",
       "      <td>...</td>\n",
       "      <td>-0.382812</td>\n",
       "      <td>-0.382812</td>\n",
       "      <td>-0.375000</td>\n",
       "      <td>-0.351562</td>\n",
       "      <td>-0.312500</td>\n",
       "      <td>-0.195312</td>\n",
       "      <td>-0.304688</td>\n",
       "      <td>-0.171875</td>\n",
       "      <td>-0.023438</td>\n",
       "      <td>-0.023438</td>\n",
       "    </tr>\n",
       "    <tr>\n",
       "      <th>1</th>\n",
       "      <td>-0.992188</td>\n",
       "      <td>-0.406250</td>\n",
       "      <td>-0.289062</td>\n",
       "      <td>-0.46875</td>\n",
       "      <td>-0.007812</td>\n",
       "      <td>-0.046875</td>\n",
       "      <td>-0.054688</td>\n",
       "      <td>-0.007812</td>\n",
       "      <td>-0.03125</td>\n",
       "      <td>-0.054688</td>\n",
       "      <td>...</td>\n",
       "      <td>-0.382812</td>\n",
       "      <td>-0.382812</td>\n",
       "      <td>-0.375000</td>\n",
       "      <td>-0.351562</td>\n",
       "      <td>-0.312500</td>\n",
       "      <td>-0.195312</td>\n",
       "      <td>-0.304688</td>\n",
       "      <td>-0.171875</td>\n",
       "      <td>-0.023438</td>\n",
       "      <td>-0.023438</td>\n",
       "    </tr>\n",
       "    <tr>\n",
       "      <th>2</th>\n",
       "      <td>-0.992188</td>\n",
       "      <td>0.046875</td>\n",
       "      <td>0.554688</td>\n",
       "      <td>-0.46875</td>\n",
       "      <td>-0.007812</td>\n",
       "      <td>-0.046875</td>\n",
       "      <td>-0.054688</td>\n",
       "      <td>-0.007812</td>\n",
       "      <td>-0.03125</td>\n",
       "      <td>-0.054688</td>\n",
       "      <td>...</td>\n",
       "      <td>0.046875</td>\n",
       "      <td>0.312500</td>\n",
       "      <td>-0.000000</td>\n",
       "      <td>-0.109375</td>\n",
       "      <td>0.914062</td>\n",
       "      <td>-0.109375</td>\n",
       "      <td>-0.304688</td>\n",
       "      <td>-0.171875</td>\n",
       "      <td>-0.023438</td>\n",
       "      <td>-0.023438</td>\n",
       "    </tr>\n",
       "    <tr>\n",
       "      <th>3</th>\n",
       "      <td>-0.992188</td>\n",
       "      <td>0.000000</td>\n",
       "      <td>-0.289062</td>\n",
       "      <td>-0.46875</td>\n",
       "      <td>-0.007812</td>\n",
       "      <td>-0.046875</td>\n",
       "      <td>-0.054688</td>\n",
       "      <td>-0.007812</td>\n",
       "      <td>-0.03125</td>\n",
       "      <td>-0.054688</td>\n",
       "      <td>...</td>\n",
       "      <td>0.085938</td>\n",
       "      <td>0.062500</td>\n",
       "      <td>0.031250</td>\n",
       "      <td>0.085938</td>\n",
       "      <td>0.093750</td>\n",
       "      <td>-0.078125</td>\n",
       "      <td>0.320312</td>\n",
       "      <td>-0.109375</td>\n",
       "      <td>-0.023438</td>\n",
       "      <td>-0.023438</td>\n",
       "    </tr>\n",
       "    <tr>\n",
       "      <th>4</th>\n",
       "      <td>-0.992188</td>\n",
       "      <td>-0.390625</td>\n",
       "      <td>-0.289062</td>\n",
       "      <td>-0.46875</td>\n",
       "      <td>-0.007812</td>\n",
       "      <td>-0.046875</td>\n",
       "      <td>-0.054688</td>\n",
       "      <td>-0.007812</td>\n",
       "      <td>-0.03125</td>\n",
       "      <td>-0.054688</td>\n",
       "      <td>...</td>\n",
       "      <td>-0.375000</td>\n",
       "      <td>-0.375000</td>\n",
       "      <td>-0.359375</td>\n",
       "      <td>-0.304688</td>\n",
       "      <td>-0.304688</td>\n",
       "      <td>-0.195312</td>\n",
       "      <td>-0.304688</td>\n",
       "      <td>-0.171875</td>\n",
       "      <td>-0.023438</td>\n",
       "      <td>-0.023438</td>\n",
       "    </tr>\n",
       "  </tbody>\n",
       "</table>\n",
       "<p>5 rows × 171 columns</p>\n",
       "</div>"
      ],
      "text/plain": [
       "      class    aa_000    ab_000   ac_000    ad_000    ae_000    af_000  \\\n",
       "0 -0.992188 -0.406250 -0.289062 -0.46875 -0.007812 -0.046875 -0.054688   \n",
       "1 -0.992188 -0.406250 -0.289062 -0.46875 -0.007812 -0.046875 -0.054688   \n",
       "2 -0.992188  0.046875  0.554688 -0.46875 -0.007812 -0.046875 -0.054688   \n",
       "3 -0.992188  0.000000 -0.289062 -0.46875 -0.007812 -0.046875 -0.054688   \n",
       "4 -0.992188 -0.390625 -0.289062 -0.46875 -0.007812 -0.046875 -0.054688   \n",
       "\n",
       "     ag_000   ag_001    ag_002  ...    ee_002    ee_003    ee_004    ee_005  \\\n",
       "0 -0.007812 -0.03125 -0.054688  ... -0.382812 -0.382812 -0.375000 -0.351562   \n",
       "1 -0.007812 -0.03125 -0.054688  ... -0.382812 -0.382812 -0.375000 -0.351562   \n",
       "2 -0.007812 -0.03125 -0.054688  ...  0.046875  0.312500 -0.000000 -0.109375   \n",
       "3 -0.007812 -0.03125 -0.054688  ...  0.085938  0.062500  0.031250  0.085938   \n",
       "4 -0.007812 -0.03125 -0.054688  ... -0.375000 -0.375000 -0.359375 -0.304688   \n",
       "\n",
       "     ee_006    ee_007    ee_008    ee_009    ef_000    eg_000  \n",
       "0 -0.312500 -0.195312 -0.304688 -0.171875 -0.023438 -0.023438  \n",
       "1 -0.312500 -0.195312 -0.304688 -0.171875 -0.023438 -0.023438  \n",
       "2  0.914062 -0.109375 -0.304688 -0.171875 -0.023438 -0.023438  \n",
       "3  0.093750 -0.078125  0.320312 -0.109375 -0.023438 -0.023438  \n",
       "4 -0.304688 -0.195312 -0.304688 -0.171875 -0.023438 -0.023438  \n",
       "\n",
       "[5 rows x 171 columns]"
      ]
     },
     "execution_count": 3,
     "metadata": {},
     "output_type": "execute_result"
    }
   ],
   "source": [
    "failure = pd.read_csv('/Users/murat/Downloads/aps_failure_test_set_processed_8bit.csv')\n",
    "failure.head()"
   ]
  },
  {
   "cell_type": "code",
   "execution_count": 5,
   "id": "66414ed7",
   "metadata": {},
   "outputs": [
    {
     "ename": "SyntaxError",
     "evalue": "invalid syntax (684128334.py, line 1)",
     "output_type": "error",
     "traceback": [
      "\u001b[0;36m  Input \u001b[0;32mIn [5]\u001b[0;36m\u001b[0m\n\u001b[0;31m    <iframe src=\"https://www.kaggle.com/embed/thebrownviking20/everything-you-can-do-with-a-time-series?cellIds=2&kernelSessionId=4882227\" height=\"300\" style=\"margin: 0 auto; width: 100%; max-width: 950px;\" frameborder=\"0\" scrolling=\"auto\" title=\"Everything you can do with a time series\"></iframe>\u001b[0m\n\u001b[0m    ^\u001b[0m\n\u001b[0;31mSyntaxError\u001b[0m\u001b[0;31m:\u001b[0m invalid syntax\n"
     ]
    }
   ],
   "source": [
    "<iframe src=\"https://www.kaggle.com/embed/thebrownviking20/everything-you-can-do-with-a-time-series?cellIds=2&kernelSessionId=4882227\" height=\"300\" style=\"margin: 0 auto; width: 100%; max-width: 950px;\" frameborder=\"0\" scrolling=\"auto\" title=\"Everything you can do with a time series\"></iframe>"
   ]
  },
  {
   "cell_type": "code",
   "execution_count": 6,
   "id": "58eacc10",
   "metadata": {},
   "outputs": [
    {
     "data": {
      "text/plain": [
       "(array([  4.,  24.,  94., 185., 240., 236., 150.,  54.,  11.,   2.]),\n",
       " array([-3.28774514, -2.60686405, -1.92598295, -1.24510186, -0.56422076,\n",
       "         0.11666033,  0.79754143,  1.47842252,  2.15930362,  2.84018471,\n",
       "         3.52106581]),\n",
       " <BarContainer object of 10 artists>)"
      ]
     },
     "execution_count": 6,
     "metadata": {},
     "output_type": "execute_result"
    },
    {
     "data": {
      "image/png": "[encoded data removed]",
      "text/plain": [
       "<Figure size 432x288 with 1 Axes>"
      ]
     },
     "metadata": {
      "needs_background": "light"
     },
     "output_type": "display_data"
    }
   ],
   "source": [
    "d=np.random.normal(0,1,1000)\n",
    "plt.hist(d)\n",
    "                   "
   ]
  },
  {
   "cell_type": "code",
   "execution_count": 7,
   "id": "044f1eb6",
   "metadata": {},
   "outputs": [
    {
     "data": {
      "image/png": "[encoded data removed]",
      "text/plain": [
       "<Figure size 1080x720 with 16 Axes>"
      ]
     },
     "metadata": {
      "needs_background": "light"
     },
     "output_type": "display_data"
    }
   ],
   "source": [
    "import pandas as pd\n",
    "import matplotlib.pyplot as plt\n",
    "import numpy as np\n",
    "\n",
    "# Create a DataFrame with random data\n",
    "np.random.seed(42)\n",
    "n = 4  # Number of columns and rows\n",
    "data = np.random.randn(100, n**2)\n",
    "columns = [f'column_{i}' for i in range(n**2)]\n",
    "df = pd.DataFrame(data, columns=columns)\n",
    "\n",
    "# Calculate the number of rows needed for the grid\n",
    "num_rows = (n**2 + n - 1) // n\n",
    "\n",
    "# Create the grid of subplots\n",
    "fig, axes = plt.subplots(num_rows, n, figsize=(15, 10))\n",
    "\n",
    "# Flatten the axes array if needed\n",
    "if num_rows > 1:\n",
    "    axes = axes.flatten()\n",
    "else:\n",
    "    axes = [axes]\n",
    "\n",
    "# Loop through each column and plot a histogram\n",
    "for i, column in enumerate(df.columns):\n",
    "    ax = axes[i]\n",
    "    df[column].hist(ax=ax)\n",
    "    ax.set_title(column)\n",
    "    ax.set_xlabel('Value')\n",
    "    ax.set_ylabel('Frequency')\n",
    "\n",
    "# Hide any empty subplots\n",
    "for i in range(len(df.columns), len(axes)):\n",
    "    axes[i].axis('off')\n",
    "\n",
    "# Adjust spacing between subplots and show the plot\n",
    "plt.tight_layout()\n",
    "plt.show()\n"
   ]
  },
  {
   "cell_type": "code",
   "execution_count": 8,
   "id": "bcc71ff0",
   "metadata": {},
   "outputs": [
    {
     "name": "stdout",
     "output_type": "stream",
     "text": [
      "Skewness after transformation:\n",
      "column1   -0.174862\n",
      "column2   -0.174862\n",
      "column3   -0.239742\n",
      "dtype: float64\n"
     ]
    }
   ],
   "source": [
    "import pandas as pd\n",
    "import numpy as np\n",
    "from scipy.stats import skew\n",
    "from sklearn.preprocessing import PowerTransformer  # Alternatively, you can use this for more advanced transformations\n",
    "\n",
    "# Load your dataset into a DataFrame\n",
    "data = {'column1': [1, 2, 3, 4, 5],\n",
    "        'column2': [10, 20, 30, 40, 50],\n",
    "        'column3': [5, 15, 25, 35, 45]}\n",
    "\n",
    "df = pd.DataFrame(data)\n",
    "\n",
    "# Calculate skewness for each column\n",
    "skewness = df.apply(skew)\n",
    "\n",
    "# Apply Box-Cox transformation to reduce skewness (if needed)\n",
    "# You can also use the Yeo-Johnson transformation, which is more flexible\n",
    "transformer = PowerTransformer(method='box-cox', standardize=True)\n",
    "df_transformed = transformer.fit_transform(df)\n",
    "\n",
    "# Convert the transformed array back to a DataFrame\n",
    "df_transformed = pd.DataFrame(df_transformed, columns=df.columns)\n",
    "\n",
    "# Print skewness after transformation\n",
    "skewness_transformed = df_transformed.apply(skew)\n",
    "print(\"Skewness after transformation:\")\n",
    "print(skewness_transformed)"
   ]
  },
  {
   "cell_type": "code",
   "execution_count": 9,
   "id": "32ec3853",
   "metadata": {},
   "outputs": [
    {
     "data": {
      "text/plain": [
       "<Axes: ylabel='Frequency'>"
      ]
     },
     "execution_count": 9,
     "metadata": {},
     "output_type": "execute_result"
    },
    {
     "data": {
      "image/png": "[encoded data removed]",
      "text/plain": [
       "<Figure size 432x288 with 1 Axes>"
      ]
     },
     "metadata": {
      "needs_background": "light"
     },
     "output_type": "display_data"
    }
   ],
   "source": [
    "df_transformed['column1'].plot.hist()\n",
    "df['column1'].plot.hist()\n"
   ]
  },
  {
   "cell_type": "code",
   "execution_count": 11,
   "id": "de47301e",
   "metadata": {},
   "outputs": [
    {
     "data": {
      "text/html": [
       "<div>\n",
       "<style scoped>\n",
       "    .dataframe tbody tr th:only-of-type {\n",
       "        vertical-align: middle;\n",
       "    }\n",
       "\n",
       "    .dataframe tbody tr th {\n",
       "        vertical-align: top;\n",
       "    }\n",
       "\n",
       "    .dataframe thead th {\n",
       "        text-align: right;\n",
       "    }\n",
       "</style>\n",
       "<table border=\"1\" class=\"dataframe\">\n",
       "  <thead>\n",
       "    <tr style=\"text-align: right;\">\n",
       "      <th></th>\n",
       "      <th>column1</th>\n",
       "      <th>column2</th>\n",
       "      <th>column3</th>\n",
       "    </tr>\n",
       "  </thead>\n",
       "  <tbody>\n",
       "    <tr>\n",
       "      <th>0</th>\n",
       "      <td>1</td>\n",
       "      <td>10</td>\n",
       "      <td>5</td>\n",
       "    </tr>\n",
       "    <tr>\n",
       "      <th>1</th>\n",
       "      <td>2</td>\n",
       "      <td>20</td>\n",
       "      <td>15</td>\n",
       "    </tr>\n",
       "    <tr>\n",
       "      <th>2</th>\n",
       "      <td>3</td>\n",
       "      <td>30</td>\n",
       "      <td>25</td>\n",
       "    </tr>\n",
       "    <tr>\n",
       "      <th>3</th>\n",
       "      <td>4</td>\n",
       "      <td>40</td>\n",
       "      <td>35</td>\n",
       "    </tr>\n",
       "    <tr>\n",
       "      <th>4</th>\n",
       "      <td>5</td>\n",
       "      <td>50</td>\n",
       "      <td>45</td>\n",
       "    </tr>\n",
       "  </tbody>\n",
       "</table>\n",
       "</div>"
      ],
      "text/plain": [
       "   column1  column2  column3\n",
       "0        1       10        5\n",
       "1        2       20       15\n",
       "2        3       30       25\n",
       "3        4       40       35\n",
       "4        5       50       45"
      ]
     },
     "execution_count": 11,
     "metadata": {},
     "output_type": "execute_result"
    }
   ],
   "source": [
    "df"
   ]
  },
  {
   "cell_type": "code",
   "execution_count": 12,
   "id": "513fa643",
   "metadata": {},
   "outputs": [
    {
     "name": "stdout",
     "output_type": "stream",
     "text": [
      "Original class distribution: Counter({0: 896, 1: 104})\n",
      "Resampled class distribution: Counter({0: 896, 1: 896})\n"
     ]
    }
   ],
   "source": [
    "\n",
    "import pandas as pd\n",
    "from imblearn.over_sampling import SMOTE\n",
    "from sklearn.datasets import make_classification\n",
    "from collections import Counter\n",
    "\n",
    "# Create a synthetic dataset for demonstration\n",
    "X, y = make_classification(n_samples=1000, n_features=20, n_informative=2, n_redundant=10, weights=[0.9, 0.1])\n",
    "\n",
    "# Apply SMOTE for resampling\n",
    "smote = SMOTE(sampling_strategy='auto')\n",
    "X_resampled, y_resampled = smote.fit_resample(X, y)\n",
    "\n",
    "# Check class distribution before and after SMOTE\n",
    "print(\"Original class distribution:\", Counter(y))\n",
    "print(\"Resampled class distribution:\", Counter(y_resampled))\n"
   ]
  },
  {
   "cell_type": "code",
   "execution_count": 13,
   "id": "bc693b60",
   "metadata": {},
   "outputs": [
    {
     "data": {
      "text/plain": [
       "(1000, 20)"
      ]
     },
     "execution_count": 13,
     "metadata": {},
     "output_type": "execute_result"
    }
   ],
   "source": [
    "X.shape"
   ]
  },
  {
   "cell_type": "code",
   "execution_count": 14,
   "id": "c9028ea8",
   "metadata": {},
   "outputs": [
    {
     "data": {
      "text/plain": [
       "(1792, 20)"
      ]
     },
     "execution_count": 14,
     "metadata": {},
     "output_type": "execute_result"
    }
   ],
   "source": [
    "X_resampled.shape"
   ]
  },
  {
   "cell_type": "code",
   "execution_count": 15,
   "id": "ed97f03f",
   "metadata": {},
   "outputs": [
    {
     "data": {
      "image/png": "[encoded data removed]",
      "text/plain": [
       "<Figure size 432x288 with 1 Axes>"
      ]
     },
     "metadata": {
      "needs_background": "light"
     },
     "output_type": "display_data"
    },
    {
     "ename": "KeyError",
     "evalue": "'Column not found: Value'",
     "output_type": "error",
     "traceback": [
      "\u001b[0;31m---------------------------------------------------------------------------\u001b[0m",
      "\u001b[0;31mKeyError\u001b[0m                                  Traceback (most recent call last)",
      "Input \u001b[0;32mIn [15]\u001b[0m, in \u001b[0;36m<module>\u001b[0;34m\u001b[0m\n\u001b[1;32m     17\u001b[0m plt\u001b[38;5;241m.\u001b[39mshow()\n\u001b[1;32m     18\u001b[0m \u001b[38;5;66;03m# Both of these examples assume that you have a DataFrame with a column named \"Category\" containing the categories you want to plot. You can replace the sample data with your actual dataset.\u001b[39;00m\n\u001b[0;32m---> 19\u001b[0m grouped \u001b[38;5;241m=\u001b[39m \u001b[43mdf\u001b[49m\u001b[38;5;241;43m.\u001b[39;49m\u001b[43mgroupby\u001b[49m\u001b[43m(\u001b[49m\u001b[38;5;124;43m'\u001b[39;49m\u001b[38;5;124;43mCategory\u001b[39;49m\u001b[38;5;124;43m'\u001b[39;49m\u001b[43m)\u001b[49m\u001b[43m[\u001b[49m\u001b[38;5;124;43m'\u001b[39;49m\u001b[38;5;124;43mValue\u001b[39;49m\u001b[38;5;124;43m'\u001b[39;49m\u001b[43m]\u001b[49m\u001b[38;5;241m.\u001b[39mvalue_counts(normalize\u001b[38;5;241m=\u001b[39m\u001b[38;5;28;01mTrue\u001b[39;00m)\u001b[38;5;241m.\u001b[39munstack()\n\u001b[1;32m     21\u001b[0m \u001b[38;5;66;03m# Create a bar plot using Seaborn\u001b[39;00m\n\u001b[1;32m     22\u001b[0m sns\u001b[38;5;241m.\u001b[39mbarplot(data\u001b[38;5;241m=\u001b[39mgrouped, x\u001b[38;5;241m=\u001b[39mgrouped\u001b[38;5;241m.\u001b[39mcolumns, y\u001b[38;5;241m=\u001b[39mgrouped\u001b[38;5;241m.\u001b[39mindex)\n",
      "File \u001b[0;32m/opt/homebrew/lib/python3.9/site-packages/pandas/core/groupby/generic.py:1416\u001b[0m, in \u001b[0;36mDataFrameGroupBy.__getitem__\u001b[0;34m(self, key)\u001b[0m\n\u001b[1;32m   1407\u001b[0m \u001b[38;5;28;01mif\u001b[39;00m \u001b[38;5;28misinstance\u001b[39m(key, \u001b[38;5;28mtuple\u001b[39m) \u001b[38;5;129;01mand\u001b[39;00m \u001b[38;5;28mlen\u001b[39m(key) \u001b[38;5;241m>\u001b[39m \u001b[38;5;241m1\u001b[39m:\n\u001b[1;32m   1408\u001b[0m     \u001b[38;5;66;03m# if len == 1, then it becomes a SeriesGroupBy and this is actually\u001b[39;00m\n\u001b[1;32m   1409\u001b[0m     \u001b[38;5;66;03m# valid syntax, so don't raise warning\u001b[39;00m\n\u001b[1;32m   1410\u001b[0m     warnings\u001b[38;5;241m.\u001b[39mwarn(\n\u001b[1;32m   1411\u001b[0m         \u001b[38;5;124m\"\u001b[39m\u001b[38;5;124mIndexing with multiple keys (implicitly converted to a tuple \u001b[39m\u001b[38;5;124m\"\u001b[39m\n\u001b[1;32m   1412\u001b[0m         \u001b[38;5;124m\"\u001b[39m\u001b[38;5;124mof keys) will be deprecated, use a list instead.\u001b[39m\u001b[38;5;124m\"\u001b[39m,\n\u001b[1;32m   1413\u001b[0m         \u001b[38;5;167;01mFutureWarning\u001b[39;00m,\n\u001b[1;32m   1414\u001b[0m         stacklevel\u001b[38;5;241m=\u001b[39mfind_stack_level(),\n\u001b[1;32m   1415\u001b[0m     )\n\u001b[0;32m-> 1416\u001b[0m \u001b[38;5;28;01mreturn\u001b[39;00m \u001b[38;5;28;43msuper\u001b[39;49m\u001b[43m(\u001b[49m\u001b[43m)\u001b[49m\u001b[38;5;241;43m.\u001b[39;49m\u001b[38;5;21;43m__getitem__\u001b[39;49m\u001b[43m(\u001b[49m\u001b[43mkey\u001b[49m\u001b[43m)\u001b[49m\n",
      "File \u001b[0;32m/opt/homebrew/lib/python3.9/site-packages/pandas/core/base.py:248\u001b[0m, in \u001b[0;36mSelectionMixin.__getitem__\u001b[0;34m(self, key)\u001b[0m\n\u001b[1;32m    246\u001b[0m \u001b[38;5;28;01melse\u001b[39;00m:\n\u001b[1;32m    247\u001b[0m     \u001b[38;5;28;01mif\u001b[39;00m key \u001b[38;5;129;01mnot\u001b[39;00m \u001b[38;5;129;01min\u001b[39;00m \u001b[38;5;28mself\u001b[39m\u001b[38;5;241m.\u001b[39mobj:\n\u001b[0;32m--> 248\u001b[0m         \u001b[38;5;28;01mraise\u001b[39;00m \u001b[38;5;167;01mKeyError\u001b[39;00m(\u001b[38;5;124mf\u001b[39m\u001b[38;5;124m\"\u001b[39m\u001b[38;5;124mColumn not found: \u001b[39m\u001b[38;5;132;01m{\u001b[39;00mkey\u001b[38;5;132;01m}\u001b[39;00m\u001b[38;5;124m\"\u001b[39m)\n\u001b[1;32m    249\u001b[0m     subset \u001b[38;5;241m=\u001b[39m \u001b[38;5;28mself\u001b[39m\u001b[38;5;241m.\u001b[39mobj[key]\n\u001b[1;32m    250\u001b[0m     ndim \u001b[38;5;241m=\u001b[39m subset\u001b[38;5;241m.\u001b[39mndim\n",
      "\u001b[0;31mKeyError\u001b[0m: 'Column not found: Value'"
     ]
    }
   ],
   "source": [
    "import pandas as pd\n",
    "import seaborn as sns\n",
    "import matplotlib.pyplot as plt\n",
    "\n",
    "# Create a sample DataFrame\n",
    "data = {'Category': ['A', 'B', 'A', 'C', 'B', 'A', 'C', 'C', 'B']}\n",
    "df = pd.DataFrame(data)\n",
    "\n",
    "# Count the occurrences of each category\n",
    "category_counts = df['Category'].value_counts()\n",
    "\n",
    "# Create a bar plot using Seaborn\n",
    "sns.barplot(x=category_counts.index, y=category_counts.values)\n",
    "plt.xlabel('Category')\n",
    "plt.ylabel('Count')\n",
    "plt.title('Count of Categories')\n",
    "plt.show()\n",
    "# Both of these examples assume that you have a DataFrame with a column named \"Category\" containing the categories you want to plot. You can replace the sample data with your actual dataset.\n",
    "grouped = df.groupby('Category')['Value'].value_counts(normalize=True).unstack()\n",
    "\n",
    "# Create a bar plot using Seaborn\n",
    "sns.barplot(data=grouped, x=grouped.columns, y=grouped.index)\n",
    "\n",
    "\n",
    "\n",
    "\n"
   ]
  },
  {
   "cell_type": "code",
   "execution_count": null,
   "id": "f2a7fdfc",
   "metadata": {},
   "outputs": [],
   "source": [
    "data = {'Category': ['A', 'B', 'A', 'C', 'B', 'A', 'C', 'C', 'B'],\n",
    "        'Value': [10, 15, 5, 20, 12, 8, 25, 18, 7]}\n",
    "df = pd.DataFrame(data)\n",
    "\n",
    "# Group by 'Category' and calculate the distribution of unique 'Value' counts\n",
    "grouped = df.groupby('Category')['Value'].value_counts(normalize=True).unstack()\n",
    "\n",
    "# Create a bar plot using Seaborn\n",
    "sns.barplot(data=grouped, x=grouped.columns, y=grouped.index)\n",
    "plt.xlabel('Distribution of Unique Values')\n",
    "plt.ylabel('Category')\n",
    "plt.title('Distribution of Unique Values Grouped by Category')\n",
    "plt.show()"
   ]
  },
  {
   "cell_type": "code",
   "execution_count": 16,
   "id": "80eed6e3",
   "metadata": {},
   "outputs": [
    {
     "data": {
      "image/png": "[encoded data removed]",
      "text/plain": [
       "<Figure size 432x288 with 1 Axes>"
      ]
     },
     "metadata": {
      "needs_background": "light"
     },
     "output_type": "display_data"
    }
   ],
   "source": [
    "import pandas as pd\n",
    "import seaborn as sns\n",
    "import matplotlib.pyplot as plt\n",
    "\n",
    "# Create a sample DataFrame\n",
    "data = {'Category': ['A', 'B', 'A', 'C', 'B', 'A', 'C', 'C', 'B'],\n",
    "        'Value': [10, 20, 15, 5, 30, 25, 8, 12, 18]}\n",
    "\n",
    "df = pd.DataFrame(data)\n",
    "\n",
    "# Group by 'Category' and calculate the mean of 'Value'\n",
    "grouped_data = df.groupby('Category')['Value'].sum().reset_index()\n",
    "\n",
    "# Create a bar plot using Seaborn\n",
    "sns.barplot(x='Category', y='Value', data=grouped_data)\n",
    "plt.xlabel('Category')\n",
    "plt.ylabel('Mean Value')\n",
    "plt.title('Mean Value of Categories')\n",
    "plt.show()\n"
   ]
  },
  {
   "cell_type": "code",
   "execution_count": 17,
   "id": "fec16312",
   "metadata": {},
   "outputs": [
    {
     "data": {
      "image/png": "[encoded data removed]",
      "text/plain": [
       "<Figure size 432x288 with 1 Axes>"
      ]
     },
     "metadata": {},
     "output_type": "display_data"
    }
   ],
   "source": [
    "data = {'ColumnA': ['A', 'B', 'A', 'C', 'B', 'A', 'C', 'C', 'D'],\n",
    "        'ColumnB': ['X', 'Y', 'X', 'X', 'Z', 'Y', 'Z', 'Z', 'Y']}\n",
    "\n",
    "df = pd.DataFrame(data)\n",
    "\n",
    "# Create a pivot table to count occurrences of ColumnB categories for each ColumnA category\n",
    "pivot_table = df.pivot_table(index='ColumnA', columns='ColumnB', aggfunc='size', fill_value=0)\n",
    "\n",
    "# Create a bar plot using Seaborn\n",
    "sns.set(style=\"whitegrid\")\n",
    "pivot_table.plot(kind='bar', stacked=True)\n",
    "plt.xlabel('Column A Categories')\n",
    "plt.ylabel('Count')\n",
    "plt.title('Distribution of Column B Categories for Column A Categories')\n",
    "plt.legend(title='Column B')\n",
    "plt.show()"
   ]
  },
  {
   "cell_type": "code",
   "execution_count": 18,
   "id": "e6efa2d9",
   "metadata": {},
   "outputs": [
    {
     "data": {
      "image/png": "[encoded data removed]",
      "text/plain": [
       "<Figure size 432x288 with 1 Axes>"
      ]
     },
     "metadata": {},
     "output_type": "display_data"
    }
   ],
   "source": [
    "import seaborn as sns\n",
    "import matplotlib.pyplot as plt\n",
    "\n",
    "# Create a sample dataset\n",
    "data = [10, 20, 25, 30, 35, 40, 45, 50, 55, 100,2000,1]\n",
    "\n",
    "# Create a violin plot using Seaborn\n",
    "sns.violinplot(data=data)\n",
    "plt.xlabel('Data')\n",
    "plt.title('Violin Plot with Outliers')\n",
    "plt.show()\n"
   ]
  },
  {
   "cell_type": "code",
   "execution_count": 19,
   "id": "38ae4914",
   "metadata": {},
   "outputs": [
    {
     "data": {
      "image/png": "[encoded data removed]",
      "text/plain": [
       "<Figure size 576x432 with 1 Axes>"
      ]
     },
     "metadata": {},
     "output_type": "display_data"
    }
   ],
   "source": [
    "import seaborn as sns\n",
    "import matplotlib.pyplot as plt\n",
    "\n",
    "# Create a sample dataset\n",
    "data = {'X': [10, 20, 25, 30, 35, 40, 45, 50, 55, 100],\n",
    "        'Y': [5, 15, 20, 25, 30, 35, 40, 45, 50, 200]}\n",
    "\n",
    "df = pd.DataFrame(data)\n",
    "\n",
    "# Create a scatter plot with whisker-based outlier visualization\n",
    "plt.figure(figsize=(8, 6))\n",
    "sns.scatterplot(x='X', y='Y', data=df, color='blue')  # Scatter plot\n",
    "sns.boxplot(x='X', data=df, width=0.2, color='orange', whis=1.5)  # Box plot whiskers\n",
    "plt.xlabel('X')\n",
    "plt.ylabel('Y')\n",
    "plt.title('Scatter and Whisker Outlier Plot')\n",
    "plt.show()\n"
   ]
  },
  {
   "cell_type": "code",
   "execution_count": 20,
   "id": "033829ee",
   "metadata": {},
   "outputs": [
    {
     "data": {
      "image/png": "[encoded data removed]",
      "text/plain": [
       "<Figure size 576x432 with 1 Axes>"
      ]
     },
     "metadata": {},
     "output_type": "display_data"
    }
   ],
   "source": [
    "import seaborn as sns\n",
    "import matplotlib.pyplot as plt\n",
    "\n",
    "# Create a sample dataset\n",
    "data = {'X': [10, 20, 25, 30, 35, 40, 45, 50, 55, 100],\n",
    "        'Y': [5, 15, 20, 25, 30, 35, 40, 45, 50, 200]}\n",
    "\n",
    "df = pd.DataFrame(data)\n",
    "\n",
    "# Create a box plot and scatter plot on the same axes\n",
    "plt.figure(figsize=(8, 6))\n",
    "sns.boxplot(x='X', data=df, width=0.2, color='orange', whis=1.5)  # Box plot\n",
    "sns.scatterplot(x='X', y='Y', data=df, color='blue', marker='o')  # Scatter plot\n",
    "plt.xlabel('X')\n",
    "plt.ylabel('Y')\n",
    "plt.title('Box Plot and Scatter Plot on the Same Axes')\n",
    "plt.show()\n"
   ]
  },
  {
   "cell_type": "code",
   "execution_count": 21,
   "id": "b427bdd2",
   "metadata": {},
   "outputs": [
    {
     "name": "stdout",
     "output_type": "stream",
     "text": [
      "Chi-Square: 17.5\n",
      "P-value: 0.00015846132511575128\n",
      "Degrees of Freedom: 2\n",
      "Expected Frequencies: [[30. 15.]\n",
      " [30. 15.]\n",
      " [40. 20.]]\n"
     ]
    }
   ],
   "source": [
    "from scipy.stats import chi2_contingency\n",
    "\n",
    "# Create a sample contingency table\n",
    "data = {'CategoryA': [30, 20, 50],\n",
    "        'CategoryB': [15, 25, 10]}\n",
    "\n",
    "contingency_table = pd.DataFrame(data)\n",
    "\n",
    "# Perform the Chi-Square test of independence\n",
    "chi2, p, dof, expected = chi2_contingency(contingency_table)\n",
    "\n",
    "# Print the test statistics and p-value\n",
    "print(\"Chi-Square:\", chi2)\n",
    "print(\"P-value:\", p)\n",
    "print(\"Degrees of Freedom:\", dof)\n",
    "print(\"Expected Frequencies:\", expected)"
   ]
  },
  {
   "cell_type": "code",
   "execution_count": 22,
   "id": "abce1418",
   "metadata": {},
   "outputs": [
    {
     "data": {
      "image/png": "[encoded data removed]",
      "text/plain": [
       "<Figure size 864x432 with 2 Axes>"
      ]
     },
     "metadata": {},
     "output_type": "display_data"
    }
   ],
   "source": [
    "import pandas as pd\n",
    "import seaborn as sns\n",
    "import matplotlib.pyplot as plt\n",
    "\n",
    "# Create a sample DataFrame\n",
    "data = {'Category': ['A', 'B', 'A', 'B', 'A', 'B', 'A', 'B'],\n",
    "        'Value1': [10, 20, 15, 25, 30, 40, 35, 45],\n",
    "        'Value2': [5, 15, 10, 20, 25, 35, 30, 40]}\n",
    "\n",
    "df = pd.DataFrame(data)\n",
    "\n",
    "# Create pivot tables\n",
    "pivot_table1 = df.pivot_table(index='Category', values='Value1', aggfunc='mean')\n",
    "pivot_table2 = df.pivot_table(index='Category', values='Value2', aggfunc='mean')\n",
    "\n",
    "# Create a grid of subplots using Seaborn\n",
    "fig, axes = plt.subplots(1, 2, figsize=(12, 6))\n",
    "\n",
    "# Plot pivot table 1\n",
    "sns.barplot(x=pivot_table1.index, y=pivot_table1['Value1'], ax=axes[0])\n",
    "axes[0].set_title('Pivot Table 1')\n",
    "\n",
    "# Plot pivot table 2\n",
    "sns.barplot(x=pivot_table2.index, y=pivot_table2['Value2'], ax=axes[1])\n",
    "axes[1].set_title('Pivot Table 2')\n",
    "\n",
    "# Adjust layout and show the plots\n",
    "plt.tight_layout()\n",
    "plt.show()\n"
   ]
  },
  {
   "cell_type": "code",
   "execution_count": 23,
   "id": "f276eb0f",
   "metadata": {},
   "outputs": [
    {
     "data": {
      "text/html": [
       "<div>\n",
       "<style scoped>\n",
       "    .dataframe tbody tr th:only-of-type {\n",
       "        vertical-align: middle;\n",
       "    }\n",
       "\n",
       "    .dataframe tbody tr th {\n",
       "        vertical-align: top;\n",
       "    }\n",
       "\n",
       "    .dataframe thead th {\n",
       "        text-align: right;\n",
       "    }\n",
       "</style>\n",
       "<table border=\"1\" class=\"dataframe\">\n",
       "  <thead>\n",
       "    <tr style=\"text-align: right;\">\n",
       "      <th></th>\n",
       "      <th>Value1</th>\n",
       "    </tr>\n",
       "    <tr>\n",
       "      <th>Category</th>\n",
       "      <th></th>\n",
       "    </tr>\n",
       "  </thead>\n",
       "  <tbody>\n",
       "    <tr>\n",
       "      <th>A</th>\n",
       "      <td>22.5</td>\n",
       "    </tr>\n",
       "    <tr>\n",
       "      <th>B</th>\n",
       "      <td>32.5</td>\n",
       "    </tr>\n",
       "  </tbody>\n",
       "</table>\n",
       "</div>"
      ],
      "text/plain": [
       "          Value1\n",
       "Category        \n",
       "A           22.5\n",
       "B           32.5"
      ]
     },
     "execution_count": 23,
     "metadata": {},
     "output_type": "execute_result"
    }
   ],
   "source": [
    "pivot_table1"
   ]
  },
  {
   "cell_type": "code",
   "execution_count": 24,
   "id": "e6f2b243",
   "metadata": {},
   "outputs": [
    {
     "ename": "NameError",
     "evalue": "name 'x' is not defined",
     "output_type": "error",
     "traceback": [
      "\u001b[0;31m---------------------------------------------------------------------------\u001b[0m",
      "\u001b[0;31mNameError\u001b[0m                                 Traceback (most recent call last)",
      "Input \u001b[0;32mIn [24]\u001b[0m, in \u001b[0;36m<module>\u001b[0;34m\u001b[0m\n\u001b[0;32m----> 1\u001b[0m x\u001b[38;5;241m/\u001b[39m\u001b[38;5;241m/\u001b[39m\u001b[38;5;241m=\u001b[39m\u001b[38;5;241m3\u001b[39m\n\u001b[1;32m      2\u001b[0m x\n",
      "\u001b[0;31mNameError\u001b[0m: name 'x' is not defined"
     ]
    }
   ],
   "source": [
    "x//=3\n",
    "x"
   ]
  },
  {
   "cell_type": "code",
   "execution_count": 25,
   "id": "736cbabf",
   "metadata": {},
   "outputs": [],
   "source": [
    "list1 = [\"apple\", \"banana\", \"cherry\"]\n",
    "list2 = [1, 5, 7, 9, 3]\n",
    "list3 = [True, False, False]"
   ]
  },
  {
   "cell_type": "code",
   "execution_count": 26,
   "id": "45adf958",
   "metadata": {},
   "outputs": [
    {
     "name": "stdout",
     "output_type": "stream",
     "text": [
      "0 apple\n",
      "1 None\n",
      "2 None\n"
     ]
    }
   ],
   "source": [
    "for i,test in enumerate(list3):\n",
    "    if test:\n",
    "        print (i,list1[i])\n",
    "    else:\n",
    "        print(i, 'None')"
   ]
  },
  {
   "cell_type": "code",
   "execution_count": 18,
   "id": "a812869a",
   "metadata": {},
   "outputs": [],
   "source": [
    "list1=list(('ali','beli',5))"
   ]
  },
  {
   "cell_type": "code",
   "execution_count": 19,
   "id": "0fa33d59",
   "metadata": {},
   "outputs": [
    {
     "data": {
      "text/plain": [
       "['ali', 'beli', 5]"
      ]
     },
     "execution_count": 19,
     "metadata": {},
     "output_type": "execute_result"
    }
   ],
   "source": [
    "list1"
   ]
  },
  {
   "cell_type": "code",
   "execution_count": 20,
   "id": "225802cc",
   "metadata": {},
   "outputs": [
    {
     "name": "stdout",
     "output_type": "stream",
     "text": [
      "['cherry', 'orange', 'kiwi']\n"
     ]
    }
   ],
   "source": [
    "thislist = [\"apple\", \"banana\", \"cherry\", \"orange\", \"kiwi\", \"melon\", \"mango\"]\n",
    "print(thislist[2:5])"
   ]
  },
  {
   "cell_type": "code",
   "execution_count": 21,
   "id": "6693864a",
   "metadata": {},
   "outputs": [
    {
     "name": "stdout",
     "output_type": "stream",
     "text": [
      "['apple', 'orange', 'banana', 'cherry']\n"
     ]
    }
   ],
   "source": [
    "thislist = [\"apple\", \"banana\", \"cherry\"]\n",
    "thislist.insert(1, \"orange\")\n",
    "print(thislist)"
   ]
  },
  {
   "cell_type": "code",
   "execution_count": 22,
   "id": "248466e6",
   "metadata": {},
   "outputs": [
    {
     "name": "stdout",
     "output_type": "stream",
     "text": [
      "['apple', 'banana', 'cherry', 'mango', 'pineapple', 'papaya']\n"
     ]
    }
   ],
   "source": [
    "thislist = [\"apple\", \"banana\", \"cherry\"]\n",
    "tropical = [\"mango\", \"pineapple\", \"papaya\"]\n",
    "thislist.extend(tropical)\n",
    "print(thislist)"
   ]
  },
  {
   "cell_type": "code",
   "execution_count": 26,
   "id": "4bbb53f1",
   "metadata": {},
   "outputs": [
    {
     "data": {
      "text/plain": [
       "'cherry'"
      ]
     },
     "execution_count": 26,
     "metadata": {},
     "output_type": "execute_result"
    }
   ],
   "source": [
    "thislist = [\"apple\", \"banana\", \"cherry\"]\n",
    "thislist.pop(2)\n"
   ]
  },
  {
   "cell_type": "code",
   "execution_count": 27,
   "id": "1050d854",
   "metadata": {},
   "outputs": [
    {
     "data": {
      "text/plain": [
       "['apple', 'banana']"
      ]
     },
     "execution_count": 27,
     "metadata": {},
     "output_type": "execute_result"
    }
   ],
   "source": [
    "thislist"
   ]
  },
  {
   "cell_type": "code",
   "execution_count": 28,
   "id": "f0e43b56",
   "metadata": {},
   "outputs": [
    {
     "name": "stdout",
     "output_type": "stream",
     "text": [
      "['apple', 'cherry']\n"
     ]
    }
   ],
   "source": [
    "thislist = [\"apple\", \"banana\", \"cherry\"]\n",
    "thislist.pop(1)\n",
    "print(thislist)"
   ]
  },
  {
   "cell_type": "code",
   "execution_count": 29,
   "id": "c7bf5b87",
   "metadata": {},
   "outputs": [
    {
     "data": {
      "text/plain": [
       "'cherry'"
      ]
     },
     "execution_count": 29,
     "metadata": {},
     "output_type": "execute_result"
    }
   ],
   "source": [
    "thislist.pop()"
   ]
  },
  {
   "cell_type": "code",
   "execution_count": 32,
   "id": "c6ffca0d",
   "metadata": {},
   "outputs": [
    {
     "name": "stdout",
     "output_type": "stream",
     "text": [
      "apple\n",
      "banana\n",
      "cherry\n"
     ]
    },
    {
     "data": {
      "text/plain": [
       "[None, None, None]"
      ]
     },
     "execution_count": 32,
     "metadata": {},
     "output_type": "execute_result"
    }
   ],
   "source": [
    "thislist = [\"apple\", \"banana\", \"cherry\"]\n",
    "[print(x) for x in thislist]\n",
    "\n"
   ]
  },
  {
   "cell_type": "code",
   "execution_count": 38,
   "id": "99c79e37",
   "metadata": {},
   "outputs": [],
   "source": [
    "fruits = [\"apple\", \"banana\", \"cherry\", \"kiwi\", \"mango\"]\n",
    "new=[]"
   ]
  },
  {
   "cell_type": "code",
   "execution_count": 41,
   "id": "d0d536c0",
   "metadata": {},
   "outputs": [
    {
     "data": {
      "text/plain": [
       "[None, None, None, None, None]"
      ]
     },
     "execution_count": 41,
     "metadata": {},
     "output_type": "execute_result"
    }
   ],
   "source": [
    "[new.append(x) for x in fruits]\n",
    "# new"
   ]
  },
  {
   "cell_type": "code",
   "execution_count": 42,
   "id": "34fbc785",
   "metadata": {},
   "outputs": [
    {
     "name": "stdout",
     "output_type": "stream",
     "text": [
      "['cherry']\n"
     ]
    }
   ],
   "source": [
    "fruits = [\"apple\", \"banana\", \"cherry\"]\n",
    "\n",
    "newlist = [x for x in fruits  if \"a\" not in x ]\n",
    "\n",
    "print(newlist)"
   ]
  },
  {
   "cell_type": "code",
   "execution_count": 55,
   "id": "420b2af7",
   "metadata": {},
   "outputs": [],
   "source": [
    "newlist = [10 if x>4 else x for x in range(10) if x%2!=0]"
   ]
  },
  {
   "cell_type": "code",
   "execution_count": 56,
   "id": "5f55d63a",
   "metadata": {},
   "outputs": [
    {
     "data": {
      "text/plain": [
       "[1, 3, 10, 10, 10]"
      ]
     },
     "execution_count": 56,
     "metadata": {},
     "output_type": "execute_result"
    }
   ],
   "source": [
    "newlist"
   ]
  },
  {
   "cell_type": "code",
   "execution_count": 54,
   "id": "2b7b57f4",
   "metadata": {},
   "outputs": [
    {
     "ename": "SyntaxError",
     "evalue": "invalid syntax (789018009.py, line 1)",
     "output_type": "error",
     "traceback": [
      "\u001b[0;36m  Input \u001b[0;32mIn [54]\u001b[0;36m\u001b[0m\n\u001b[0;31m    newlist = [x for x in fruits if x != \"banana\" else \"orange\" ]\u001b[0m\n\u001b[0m                                                  ^\u001b[0m\n\u001b[0;31mSyntaxError\u001b[0m\u001b[0;31m:\u001b[0m invalid syntax\n"
     ]
    }
   ],
   "source": [
    "newlist = [x for x in fruits if x != \"banana\" else \"orange\" ]\n",
    "newlist"
   ]
  },
  {
   "cell_type": "code",
   "execution_count": 59,
   "id": "b7f9432a",
   "metadata": {},
   "outputs": [
    {
     "ename": "SyntaxError",
     "evalue": "invalid syntax (514885050.py, line 2)",
     "output_type": "error",
     "traceback": [
      "\u001b[0;36m  Input \u001b[0;32mIn [59]\u001b[0;36m\u001b[0m\n\u001b[0;31m    thislist.sort(key=//4)\u001b[0m\n\u001b[0m                      ^\u001b[0m\n\u001b[0;31mSyntaxError\u001b[0m\u001b[0;31m:\u001b[0m invalid syntax\n"
     ]
    }
   ],
   "source": [
    "thislist = [100, 50, 65, 82, 23]\n",
    "thislist.sort(key=)\n",
    "print(thislist)"
   ]
  },
  {
   "cell_type": "code",
   "execution_count": 62,
   "id": "0794373e",
   "metadata": {},
   "outputs": [
    {
     "name": "stdout",
     "output_type": "stream",
     "text": [
      "[1, 2, 3, 'a', 'b', 'c']\n"
     ]
    }
   ],
   "source": [
    "list1 = [\"a\", \"b\" , \"c\"]\n",
    "list2 = [1, 2, 3]\n",
    "\n",
    "list2.extend(list1)\n",
    "print(list2)"
   ]
  },
  {
   "cell_type": "code",
   "execution_count": 63,
   "id": "5e70d34f",
   "metadata": {},
   "outputs": [
    {
     "name": "stdout",
     "output_type": "stream",
     "text": [
      "<class 'tuple'>\n",
      "<class 'str'>\n"
     ]
    }
   ],
   "source": [
    "thistuple = (\"apple\",)\n",
    "print(type(thistuple))\n",
    "\n",
    "#NOT a tuple\n",
    "thistuple = (\"apple\")\n",
    "print(type(thistuple))"
   ]
  },
  {
   "cell_type": "code",
   "execution_count": 10,
   "id": "d8bfe47b",
   "metadata": {},
   "outputs": [],
   "source": [
    "(green, yellow, *red) = fruits"
   ]
  },
  {
   "cell_type": "code",
   "execution_count": 11,
   "id": "6b8a2298",
   "metadata": {},
   "outputs": [
    {
     "name": "stdout",
     "output_type": "stream",
     "text": [
      "apple\n"
     ]
    }
   ],
   "source": [
    "print(green)"
   ]
  },
  {
   "cell_type": "code",
   "execution_count": 5,
   "id": "06f52746",
   "metadata": {},
   "outputs": [
    {
     "data": {
      "text/plain": [
       "['apple', 'banana', 'cherry']"
      ]
     },
     "execution_count": 5,
     "metadata": {},
     "output_type": "execute_result"
    }
   ],
   "source": [
    "fruits"
   ]
  },
  {
   "cell_type": "code",
   "execution_count": 6,
   "id": "96106774",
   "metadata": {},
   "outputs": [
    {
     "name": "stdout",
     "output_type": "stream",
     "text": [
      "apple\n",
      "banana\n",
      "['cherry', 'strawberry', 'raspberry']\n"
     ]
    }
   ],
   "source": [
    "fruits = (\"apple\", \"banana\", \"cherry\", \"strawberry\", \"raspberry\")\n",
    "\n",
    "(green, yellow, *red) = fruits\n",
    "\n",
    "print(green)\n",
    "print(yellow)\n",
    "print(red)"
   ]
  },
  {
   "cell_type": "code",
   "execution_count": 17,
   "id": "7d1114bc",
   "metadata": {},
   "outputs": [
    {
     "name": "stdout",
     "output_type": "stream",
     "text": [
      "apple 1\n",
      "banana 1\n",
      "cherry 1\n"
     ]
    }
   ],
   "source": [
    "for x in fruits :\n",
    "#     if \"a\" in x:\n",
    "        print(x, fruits.count(x))"
   ]
  },
  {
   "cell_type": "code",
   "execution_count": 21,
   "id": "642662cc",
   "metadata": {},
   "outputs": [
    {
     "name": "stdout",
     "output_type": "stream",
     "text": [
      "{True, 2, 'apple', 'cherry', 'banana'}\n"
     ]
    }
   ],
   "source": [
    "thisset = {\"apple\", \"banana\", \"cherry\", True, 1, 2}\n",
    "\n",
    "print(thisset)"
   ]
  },
  {
   "cell_type": "code",
   "execution_count": 22,
   "id": "532d5bd2",
   "metadata": {},
   "outputs": [],
   "source": [
    "a={1,2,2,2,1}"
   ]
  },
  {
   "cell_type": "code",
   "execution_count": 23,
   "id": "c3c07cb2",
   "metadata": {},
   "outputs": [
    {
     "data": {
      "text/plain": [
       "{1, 2}"
      ]
     },
     "execution_count": 23,
     "metadata": {},
     "output_type": "execute_result"
    }
   ],
   "source": [
    "a"
   ]
  },
  {
   "cell_type": "code",
   "execution_count": 24,
   "id": "12c62c6d",
   "metadata": {},
   "outputs": [
    {
     "name": "stdout",
     "output_type": "stream",
     "text": [
      "{'brand': 'Ford', 'model': 'Mustang', 'year': 2020}\n"
     ]
    }
   ],
   "source": [
    "thisdict = {\n",
    "  \"brand\": \"Ford\",\n",
    "  \"model\": \"Mustang\",\n",
    "  \"year\": 1964,\n",
    "  \"year\": 2020\n",
    "}\n",
    "print(thisdict)"
   ]
  },
  {
   "cell_type": "code",
   "execution_count": 25,
   "id": "58294b68",
   "metadata": {},
   "outputs": [
    {
     "data": {
      "text/plain": [
       "3"
      ]
     },
     "execution_count": 25,
     "metadata": {},
     "output_type": "execute_result"
    }
   ],
   "source": [
    "len(thisdict)"
   ]
  },
  {
   "cell_type": "code",
   "execution_count": 32,
   "id": "bbdd508d",
   "metadata": {},
   "outputs": [],
   "source": [
    "a=thisdict.keys()"
   ]
  },
  {
   "cell_type": "code",
   "execution_count": 37,
   "id": "ca041753",
   "metadata": {},
   "outputs": [
    {
     "name": "stdout",
     "output_type": "stream",
     "text": [
      "0 brand\n",
      "1 model\n",
      "2 year\n"
     ]
    }
   ],
   "source": [
    "for i,z in enumerate(a):\n",
    "    print(i,z)"
   ]
  },
  {
   "cell_type": "code",
   "execution_count": 38,
   "id": "6ce7819f",
   "metadata": {},
   "outputs": [
    {
     "data": {
      "text/plain": [
       "'Mustang'"
      ]
     },
     "execution_count": 38,
     "metadata": {},
     "output_type": "execute_result"
    }
   ],
   "source": [
    "thisdict.get(\"model\")"
   ]
  },
  {
   "cell_type": "code",
   "execution_count": 46,
   "id": "0eaff851",
   "metadata": {},
   "outputs": [
    {
     "name": "stdout",
     "output_type": "stream",
     "text": [
      "1\n",
      "2\n",
      "3\n",
      "4\n",
      "5\n",
      "6\n"
     ]
    }
   ],
   "source": [
    "i = 0\n",
    "while i < 6:\n",
    "  i += 1\n",
    "  if i == 3:\n",
    "    pass\n",
    "  print(i)"
   ]
  },
  {
   "cell_type": "code",
   "execution_count": 48,
   "id": "54097dd9",
   "metadata": {},
   "outputs": [
    {
     "name": "stdout",
     "output_type": "stream",
     "text": [
      "0\n",
      "1\n",
      "2\n",
      "3\n",
      "4\n",
      "5\n",
      "Finally finished!\n"
     ]
    }
   ],
   "source": [
    "for x in range(6):\n",
    "  if x == 7: break\n",
    "  print(x)\n",
    "else:\n",
    "    \n",
    "  print(\"Finally finished!\")"
   ]
  },
  {
   "cell_type": "code",
   "execution_count": 51,
   "id": "6501f3c9",
   "metadata": {},
   "outputs": [
    {
     "name": "stdout",
     "output_type": "stream",
     "text": [
      "The youngest child is Murat\n"
     ]
    }
   ],
   "source": [
    "def my_function(*kids):\n",
    "  print(\"The youngest child is \" + kids[-1])\n",
    "\n",
    "my_function(\"Emil\", \"Tobias\", \"Linus\",'Murat')"
   ]
  },
  {
   "cell_type": "code",
   "execution_count": 52,
   "id": "77ea3c5e",
   "metadata": {},
   "outputs": [
    {
     "name": "stdout",
     "output_type": "stream",
     "text": [
      "\n",
      "\n",
      "Recursion Example Results\n",
      "1\n",
      "3\n",
      "6\n",
      "10\n",
      "15\n",
      "21\n"
     ]
    },
    {
     "data": {
      "text/plain": [
       "21"
      ]
     },
     "execution_count": 52,
     "metadata": {},
     "output_type": "execute_result"
    }
   ],
   "source": [
    "def tri_recursion(k):\n",
    "  if(k > 0):\n",
    "    result = k + tri_recursion(k - 1)\n",
    "    print(result)\n",
    "  else:\n",
    "    result = 0\n",
    "  return result\n",
    "\n",
    "print(\"\\n\\nRecursion Example Results\")\n",
    "tri_recursion(6)"
   ]
  },
  {
   "cell_type": "code",
   "execution_count": 53,
   "id": "b7361fd7",
   "metadata": {},
   "outputs": [
    {
     "name": "stdout",
     "output_type": "stream",
     "text": [
      "15\n"
     ]
    }
   ],
   "source": [
    "x = lambda a : a + 10\n",
    "print(x(5))"
   ]
  },
  {
   "cell_type": "code",
   "execution_count": 54,
   "id": "6d2a1b81",
   "metadata": {},
   "outputs": [
    {
     "name": "stdout",
     "output_type": "stream",
     "text": [
      "22\n"
     ]
    }
   ],
   "source": [
    "def myfunc(n):\n",
    "  return lambda a : a * n\n",
    "\n",
    "mydoubler = myfunc(2)\n",
    "\n",
    "print(mydoubler(11))"
   ]
  },
  {
   "cell_type": "code",
   "execution_count": 59,
   "id": "dca3355e",
   "metadata": {},
   "outputs": [
    {
     "name": "stdout",
     "output_type": "stream",
     "text": [
      "John(36)\n"
     ]
    }
   ],
   "source": [
    "class Person:\n",
    "  def __init__(self, name2, age2):\n",
    "    self.name = name2\n",
    "    self.age = age2\n",
    "\n",
    "  def __str__(self):\n",
    "    return f\"{self.name}({self.age})\"\n",
    "\n",
    "p1 = Person(\"John\", 36)\n",
    "\n",
    "print(p1)"
   ]
  },
  {
   "cell_type": "code",
   "execution_count": 60,
   "id": "9e9d0244",
   "metadata": {},
   "outputs": [
    {
     "data": {
      "text/plain": [
       "'John'"
      ]
     },
     "execution_count": 60,
     "metadata": {},
     "output_type": "execute_result"
    }
   ],
   "source": [
    "p1.name\n"
   ]
  },
  {
   "cell_type": "code",
   "execution_count": 63,
   "id": "ddea95c8",
   "metadata": {},
   "outputs": [
    {
     "name": "stdout",
     "output_type": "stream",
     "text": [
      "John Doe\n"
     ]
    }
   ],
   "source": [
    "class Person:\n",
    "  def __init__(self, fname, lname):\n",
    "    self.firstname = fname\n",
    "    self.lastname = lname\n",
    "\n",
    "  def printname(self):\n",
    "    print(self.firstname, self.lastname)\n",
    "\n",
    "#Use the Person class to create an object, and then execute the printname method:\n",
    "\n",
    "x = Person(\"John\", \"Doe\")\n",
    "x.printname()"
   ]
  },
  {
   "cell_type": "code",
   "execution_count": 64,
   "id": "178bf67f",
   "metadata": {},
   "outputs": [
    {
     "name": "stdout",
     "output_type": "stream",
     "text": [
      "Ford\n",
      "Mustang\n",
      "Move!\n",
      "Ibiza\n",
      "Touring 20\n",
      "Sail!\n",
      "Boeing\n",
      "747\n",
      "Fly!\n"
     ]
    }
   ],
   "source": [
    "class Vehicle:\n",
    "  def __init__(self, brand, model):\n",
    "    self.brand = brand\n",
    "    self.model = model\n",
    "\n",
    "  def move(self):\n",
    "    print(\"Move!\")\n",
    "\n",
    "class Car(Vehicle):\n",
    "  pass\n",
    "\n",
    "class Boat(Vehicle):\n",
    "  def move(self):\n",
    "    print(\"Sail!\")\n",
    "\n",
    "class Plane(Vehicle):\n",
    "  def move(self):\n",
    "    print(\"Fly!\")\n",
    "\n",
    "car1 = Car(\"Ford\", \"Mustang\") #Create a Car object\n",
    "boat1 = Boat(\"Ibiza\", \"Touring 20\") #Create a Boat object\n",
    "plane1 = Plane(\"Boeing\", \"747\") #Create a Plane object\n",
    "\n",
    "for x in (car1, boat1, plane1):\n",
    "  print(x.brand)\n",
    "  print(x.model)\n",
    "  x.move()"
   ]
  },
  {
   "cell_type": "code",
   "execution_count": 65,
   "id": "0523b242",
   "metadata": {},
   "outputs": [
    {
     "name": "stdout",
     "output_type": "stream",
     "text": [
      "['_Processor', '_WIN32_CLIENT_RELEASES', '_WIN32_SERVER_RELEASES', '__builtins__', '__cached__', '__copyright__', '__doc__', '__file__', '__loader__', '__name__', '__package__', '__spec__', '__version__', '_comparable_version', '_component_re', '_default_architecture', '_follow_symlinks', '_get_machine_win32', '_ironpython26_sys_version_parser', '_ironpython_sys_version_parser', '_java_getprop', '_libc_search', '_mac_ver_xml', '_node', '_norm_version', '_platform', '_platform_cache', '_pypy_sys_version_parser', '_sys_version', '_sys_version_cache', '_sys_version_parser', '_syscmd_file', '_syscmd_ver', '_uname_cache', '_unknown_as_blank', '_ver_output', '_ver_stages', 'architecture', 'collections', 'functools', 'itertools', 'java_ver', 'libc_ver', 'mac_ver', 'machine', 'node', 'os', 'platform', 'processor', 'python_branch', 'python_build', 'python_compiler', 'python_implementation', 'python_revision', 'python_version', 'python_version_tuple', 're', 'release', 'subprocess', 'sys', 'system', 'system_alias', 'uname', 'uname_result', 'version', 'win32_edition', 'win32_is_iot', 'win32_ver']\n"
     ]
    }
   ],
   "source": [
    "import platform\n",
    "\n",
    "x = dir(platform)\n",
    "print(x)"
   ]
  },
  {
   "cell_type": "code",
   "execution_count": 66,
   "id": "1a28c5d3",
   "metadata": {},
   "outputs": [
    {
     "ename": "NameError",
     "evalue": "name 'np' is not defined",
     "output_type": "error",
     "traceback": [
      "\u001b[0;31m---------------------------------------------------------------------------\u001b[0m",
      "\u001b[0;31mNameError\u001b[0m                                 Traceback (most recent call last)",
      "Input \u001b[0;32mIn [66]\u001b[0m, in \u001b[0;36m<module>\u001b[0;34m\u001b[0m\n\u001b[0;32m----> 1\u001b[0m x \u001b[38;5;241m=\u001b[39m \u001b[38;5;28mdir\u001b[39m(\u001b[43mnp\u001b[49m)\n\u001b[1;32m      2\u001b[0m \u001b[38;5;28mprint\u001b[39m(x)\n",
      "\u001b[0;31mNameError\u001b[0m: name 'np' is not defined"
     ]
    }
   ],
   "source": [
    "x = dir(np)\n",
    "print(x)"
   ]
  },
  {
   "cell_type": "code",
   "execution_count": 79,
   "id": "53ded115",
   "metadata": {},
   "outputs": [
    {
     "name": "stdout",
     "output_type": "stream",
     "text": [
      "Monday\n"
     ]
    }
   ],
   "source": [
    "import datetime\n",
    "\n",
    "x = datetime.datetime.now()\n",
    "print(x.strftime('%A'))"
   ]
  },
  {
   "cell_type": "code",
   "execution_count": 68,
   "id": "6ecaad2b",
   "metadata": {},
   "outputs": [
    {
     "data": {
      "text/plain": [
       "<function datetime.date>"
      ]
     },
     "execution_count": 68,
     "metadata": {},
     "output_type": "execute_result"
    }
   ],
   "source": [
    "x.date"
   ]
  },
  {
   "cell_type": "code",
   "execution_count": 83,
   "id": "25b5e5ff",
   "metadata": {},
   "outputs": [],
   "source": [
    "import math\n",
    "\n",
    "x=math.sqrt(9)"
   ]
  },
  {
   "cell_type": "code",
   "execution_count": 85,
   "id": "d04c58c9",
   "metadata": {},
   "outputs": [
    {
     "data": {
      "text/plain": [
       "3"
      ]
     },
     "execution_count": 85,
     "metadata": {},
     "output_type": "execute_result"
    }
   ],
   "source": [
    "int(x)"
   ]
  },
  {
   "cell_type": "code",
   "execution_count": 86,
   "id": "64ac12a5",
   "metadata": {},
   "outputs": [
    {
     "name": "stdout",
     "output_type": "stream",
     "text": [
      "{\"name\": \"John\", \"age\": 30}\n",
      "[\"apple\", \"bananas\"]\n",
      "[\"apple\", \"bananas\"]\n",
      "\"hello\"\n",
      "42\n",
      "31.76\n",
      "true\n",
      "false\n",
      "null\n"
     ]
    }
   ],
   "source": [
    "import json\n",
    "\n",
    "print(json.dumps({\"name\": \"John\", \"age\": 30}))\n",
    "print(json.dumps([\"apple\", \"bananas\"]))\n",
    "print(json.dumps((\"apple\", \"bananas\")))\n",
    "print(json.dumps(\"hello\"))\n",
    "print(json.dumps(42))\n",
    "print(json.dumps(31.76))\n",
    "print(json.dumps(True))\n",
    "print(json.dumps(False))\n",
    "print(json.dumps(None))"
   ]
  },
  {
   "cell_type": "code",
   "execution_count": 87,
   "id": "48e8973c",
   "metadata": {},
   "outputs": [
    {
     "name": "stdout",
     "output_type": "stream",
     "text": [
      "{\"name\": \"John\", \"age\": 30, \"married\": true, \"divorced\": false, \"children\": [\"Ann\", \"Billy\"], \"pets\": null, \"cars\": [{\"model\": \"BMW 230\", \"mpg\": 27.5}, {\"model\": \"Ford Edge\", \"mpg\": 24.1}]}\n"
     ]
    }
   ],
   "source": [
    "import json\n",
    "\n",
    "x = {\n",
    "  \"name\": \"John\",\n",
    "  \"age\": 30,\n",
    "  \"married\": True,\n",
    "  \"divorced\": False,\n",
    "  \"children\": (\"Ann\",\"Billy\"),\n",
    "  \"pets\": None,\n",
    "  \"cars\": [\n",
    "    {\"model\": \"BMW 230\", \"mpg\": 27.5},\n",
    "    {\"model\": \"Ford Edge\", \"mpg\": 24.1}\n",
    "  ]\n",
    "}\n",
    "\n",
    "print(json.dumps(x))"
   ]
  },
  {
   "cell_type": "code",
   "execution_count": 88,
   "id": "a9ec74ba",
   "metadata": {},
   "outputs": [
    {
     "data": {
      "text/plain": [
       "'{\\n    \"name\" = \"John\". \\n    \"age\" = 30. \\n    \"married\" = true. \\n    \"divorced\" = false. \\n    \"children\" = [\\n        \"Ann\". \\n        \"Billy\"\\n    ]. \\n    \"pets\" = null. \\n    \"cars\" = [\\n        {\\n            \"model\" = \"BMW 230\". \\n            \"mpg\" = 27.5\\n        }. \\n        {\\n            \"model\" = \"Ford Edge\". \\n            \"mpg\" = 24.1\\n        }\\n    ]\\n}'"
      ]
     },
     "execution_count": 88,
     "metadata": {},
     "output_type": "execute_result"
    }
   ],
   "source": [
    "json.dumps(x, indent=4, separators=(\". \", \" = \"))"
   ]
  },
  {
   "cell_type": "code",
   "execution_count": 89,
   "id": "075f2bcb",
   "metadata": {},
   "outputs": [
    {
     "name": "stdout",
     "output_type": "stream",
     "text": [
      "Package                 Version\n",
      "----------------------- -----------\n",
      "anyio                   3.5.0\n",
      "appnope                 0.1.2\n",
      "argh                    0.26.2\n",
      "argon2-cffi             21.3.0\n",
      "argon2-cffi-bindings    21.2.0\n",
      "asttokens               2.0.5\n",
      "attrs                   21.4.0\n",
      "Babel                   2.9.1\n",
      "backcall                0.2.0\n",
      "beautifulsoup4          4.11.1\n",
      "black                   21.12b0\n",
      "bleach                  4.1.0\n",
      "Boruta                  0.3\n",
      "branca                  0.5.0\n",
      "Brotli                  1.0.9\n",
      "bs4                     0.0.1\n",
      "certifi                 2021.10.8\n",
      "cffi                    1.15.0\n",
      "cfgv                    3.3.1\n",
      "charset-normalizer      2.0.10\n",
      "click                   8.0.3\n",
      "comm                    0.1.4\n",
      "contourpy               1.0.7\n",
      "cycler                  0.11.0\n",
      "dash                    2.4.1\n",
      "dash-core-components    2.0.0\n",
      "dash-html-components    2.0.0\n",
      "dash-table              5.0.0\n",
      "debugpy                 1.5.1\n",
      "decorator               5.1.1\n",
      "defusedxml              0.7.1\n",
      "distlib                 0.3.6\n",
      "dnspython               2.3.0\n",
      "entrypoints             0.3\n",
      "et-xmlfile              1.1.0\n",
      "executing               0.8.2\n",
      "filelock                3.9.0\n",
      "flake8                  3.9.2\n",
      "Flask                   2.1.2\n",
      "Flask-Compress          1.12\n",
      "folium                  0.5.0\n",
      "fonttools               4.33.3\n",
      "future                  0.18.3\n",
      "geocoder                1.38.1\n",
      "identify                2.5.18\n",
      "idna                    3.3\n",
      "imbalanced-learn        0.11.0\n",
      "imblearn                0.0\n",
      "importlib-metadata      4.11.3\n",
      "importlib-resources     5.12.0\n",
      "install                 1.3.5\n",
      "ipykernel               6.6.1\n",
      "ipython                 8.0.0\n",
      "ipython-genutils        0.2.0\n",
      "ipython-sql             0.4.1\n",
      "ipywidgets              8.1.0\n",
      "isort                   5.12.0\n",
      "itsdangerous            2.1.2\n",
      "jedi                    0.18.1\n",
      "Jinja2                  3.0.3\n",
      "joblib                  1.2.0\n",
      "json5                   0.9.6\n",
      "jsonschema              4.4.0\n",
      "jupyter-client          7.1.0\n",
      "jupyter-core            4.9.1\n",
      "jupyter-server          1.13.2\n",
      "jupyterlab              3.2.7\n",
      "jupyterlab-pygments     0.1.2\n",
      "jupyterlab-server       2.10.3\n",
      "jupyterlab-widgets      3.0.8\n",
      "kiwisolver              1.4.2\n",
      "lxml                    4.8.0\n",
      "MarkupSafe              2.0.1\n",
      "matplotlib              3.7.0\n",
      "matplotlib-inline       0.1.3\n",
      "mccabe                  0.6.1\n",
      "mistune                 0.8.4\n",
      "multitasking            0.0.10\n",
      "mypy-extensions         0.4.3\n",
      "nbclassic               0.3.5\n",
      "nbclient                0.5.9\n",
      "nbconvert               6.4.0\n",
      "nbformat                5.1.3\n",
      "nest-asyncio            1.5.4\n",
      "nltk                    3.7\n",
      "nodeenv                 1.7.0\n",
      "notebook                6.4.7\n",
      "numpy                   1.24.2\n",
      "openpyxl                3.1.2\n",
      "packaging               21.3\n",
      "pandas                  1.5.3\n",
      "pandocfilters           1.5.0\n",
      "parso                   0.8.3\n",
      "pathspec                0.9.0\n",
      "pathtools               0.1.2\n",
      "pexpect                 4.8.0\n",
      "pickleshare             0.7.5\n",
      "picotui                 0.9.1\n",
      "Pillow                  9.1.0\n",
      "pip                     23.0.1\n",
      "platformdirs            2.4.1\n",
      "plotly                  5.3.1\n",
      "pre-commit              2.21.0\n",
      "pretty-confusion-matrix 0.1.1\n",
      "prettytable             0.7.2\n",
      "projectpro              0.0.29\n",
      "prometheus-client       0.12.0\n",
      "prompt-toolkit          3.0.24\n",
      "ptyprocess              0.7.0\n",
      "pure-eval               0.2.1\n",
      "py4j                    0.10.7\n",
      "pycodestyle             2.7.0\n",
      "pycparser               2.21\n",
      "pyflakes                2.3.1\n",
      "Pygments                2.11.2\n",
      "pymongo                 4.3.3\n",
      "pyparsing               3.0.6\n",
      "pyrsistent              0.18.0\n",
      "pyspark                 2.4.5\n",
      "python-dateutil         2.8.2\n",
      "pytz                    2021.3\n",
      "PyYAML                  6.0\n",
      "pyzmq                   22.3.0\n",
      "ratelim                 0.1.6\n",
      "regex                   2022.10.31\n",
      "requests                2.26.0\n",
      "scikit-learn            1.3.0\n",
      "scipy                   1.8.0\n",
      "seaborn                 0.12.2\n",
      "Send2Trash              1.8.0\n",
      "setuptools              59.0.1\n",
      "six                     1.16.0\n",
      "sklearn                 0.0\n",
      "sniffio                 1.2.0\n",
      "soupsieve               2.3.2.post1\n",
      "SQLAlchemy              1.4.40\n",
      "sqlparse                0.4.2\n",
      "stack-data              0.1.3\n",
      "tenacity                8.0.1\n",
      "terminado               0.12.1\n",
      "testpath                0.5.0\n",
      "theia                   0.9.2\n",
      "threadpoolctl           3.1.0\n",
      "tk                      0.1.0\n",
      "tomli                   1.2.3\n",
      "torch                   1.9.0\n",
      "torchvision             0.13.0\n",
      "tornado                 6.1\n",
      "tqdm                    4.64.1\n",
      "traitlets               5.1.1\n",
      "typing_extensions       4.0.1\n",
      "urllib3                 1.26.8\n",
      "virtualenv              20.19.0\n",
      "watchdog                0.8.3\n",
      "wcwidth                 0.2.5\n",
      "webencodings            0.5.1\n",
      "websocket-client        1.2.3\n",
      "websockets              3.3\n",
      "Werkzeug                2.1.2\n",
      "wheel                   0.37.0\n",
      "widgetsnbextension      4.0.8\n",
      "xgboost                 1.7.5\n",
      "yfinance                0.1.67\n",
      "zipp                    3.8.0\n",
      "\n",
      "\u001b[1m[\u001b[0m\u001b[34;49mnotice\u001b[0m\u001b[1;39;49m]\u001b[0m\u001b[39;49m A new release of pip is available: \u001b[0m\u001b[31;49m23.0.1\u001b[0m\u001b[39;49m -> \u001b[0m\u001b[32;49m23.2.1\u001b[0m\n",
      "\u001b[1m[\u001b[0m\u001b[34;49mnotice\u001b[0m\u001b[1;39;49m]\u001b[0m\u001b[39;49m To update, run: \u001b[0m\u001b[32;49mpython3.9 -m pip install --upgrade pip\u001b[0m\n",
      "Note: you may need to restart the kernel to use updated packages.\n"
     ]
    }
   ],
   "source": [
    "pip list"
   ]
  },
  {
   "cell_type": "code",
   "execution_count": 90,
   "id": "d4fc8a47",
   "metadata": {},
   "outputs": [
    {
     "name": "stdout",
     "output_type": "stream",
     "text": [
      "[[2.84076288 4.67040826 0.18791932]\n",
      " [1.42531618 0.33074287 1.61363666]]\n"
     ]
    }
   ],
   "source": [
    "from numpy import random\n",
    "\n",
    "x = random.chisquare(df=2, size=(2, 3))\n",
    "\n",
    "print(x)"
   ]
  },
  {
   "cell_type": "code",
   "execution_count": 94,
   "id": "bc224ba6",
   "metadata": {},
   "outputs": [
    {
     "name": "stderr",
     "output_type": "stream",
     "text": [
      "/var/folders/nd/dj_lrx2d6j3fccjhjy5pqygc0000gn/T/ipykernel_17786/3768465582.py:2: UserWarning: \n",
      "\n",
      "`distplot` is a deprecated function and will be removed in seaborn v0.14.0.\n",
      "\n",
      "Please adapt your code to use either `displot` (a figure-level function with\n",
      "similar flexibility) or `kdeplot` (an axes-level function for kernel density plots).\n",
      "\n",
      "For a guide to updating your code to use the new functions, please see\n",
      "https://gist.github.com/mwaskom/de44147ed2974457ad6372750bbe5751\n",
      "\n",
      "  sns.distplot(random.chisquare(df=3, size=1000), hist=False)\n"
     ]
    },
    {
     "ename": "NameError",
     "evalue": "name 'plt' is not defined",
     "output_type": "error",
     "traceback": [
      "\u001b[0;31m---------------------------------------------------------------------------\u001b[0m",
      "\u001b[0;31mNameError\u001b[0m                                 Traceback (most recent call last)",
      "Input \u001b[0;32mIn [94]\u001b[0m, in \u001b[0;36m<module>\u001b[0;34m\u001b[0m\n\u001b[1;32m      1\u001b[0m \u001b[38;5;28;01mimport\u001b[39;00m \u001b[38;5;21;01mseaborn\u001b[39;00m \u001b[38;5;28;01mas\u001b[39;00m \u001b[38;5;21;01msns\u001b[39;00m\n\u001b[1;32m      2\u001b[0m sns\u001b[38;5;241m.\u001b[39mdistplot(random\u001b[38;5;241m.\u001b[39mchisquare(df\u001b[38;5;241m=\u001b[39m\u001b[38;5;241m3\u001b[39m, size\u001b[38;5;241m=\u001b[39m\u001b[38;5;241m1000\u001b[39m), hist\u001b[38;5;241m=\u001b[39m\u001b[38;5;28;01mFalse\u001b[39;00m)\n\u001b[0;32m----> 4\u001b[0m \u001b[43mplt\u001b[49m\u001b[38;5;241m.\u001b[39mshow()\n",
      "\u001b[0;31mNameError\u001b[0m: name 'plt' is not defined"
     ]
    },
    {
     "data": {
      "image/png": "[encoded data removed]",
      "text/plain": [
       "<Figure size 432x288 with 1 Axes>"
      ]
     },
     "metadata": {
      "needs_background": "light"
     },
     "output_type": "display_data"
    }
   ],
   "source": [
    "import seaborn as sns\n",
    "sns.distplot(random.chisquare(df=3, size=1000), hist=False)\n",
    "\n",
    "plt.show()\n"
   ]
  },
  {
   "cell_type": "code",
   "execution_count": 98,
   "id": "6e848444",
   "metadata": {},
   "outputs": [
    {
     "name": "stdout",
     "output_type": "stream",
     "text": [
      "[[1 2 3]\n",
      " [4 5 6]]\n"
     ]
    }
   ],
   "source": [
    "import numpy as np\n",
    "\n",
    "arr = np.array(([1, 2, 3], [4, 5, 6]))\n",
    "\n",
    "print(arr)"
   ]
  },
  {
   "cell_type": "code",
   "execution_count": 99,
   "id": "2be3f0c1",
   "metadata": {},
   "outputs": [
    {
     "name": "stdout",
     "output_type": "stream",
     "text": [
      "[[[1 2 3]\n",
      "  [4 5 6]]\n",
      "\n",
      " [[1 2 3]\n",
      "  [4 5 6]]]\n"
     ]
    }
   ],
   "source": [
    "import numpy as np\n",
    "\n",
    "arr = np.array([[[1, 2, 3], [4, 5, 6]], [[1, 2, 3], [4, 5, 6]]])\n",
    "\n",
    "print(arr)"
   ]
  },
  {
   "cell_type": "code",
   "execution_count": 100,
   "id": "0a63e430",
   "metadata": {},
   "outputs": [
    {
     "name": "stdout",
     "output_type": "stream",
     "text": [
      "0\n",
      "1\n",
      "2\n",
      "3\n"
     ]
    }
   ],
   "source": [
    "import numpy as np\n",
    "\n",
    "a = np.array(42)\n",
    "b = np.array([1, 2, 3, 4, 5])\n",
    "c = np.array([[1, 2, 3], [4, 5, 6]])\n",
    "d = np.array([[[1, 2, 3], [4, 5, 6]], [[1, 2, 3], [4, 5, 6]]])\n",
    "\n",
    "print(a.ndim)\n",
    "print(b.ndim)\n",
    "print(c.ndim)\n",
    "print(d.ndim)"
   ]
  },
  {
   "cell_type": "code",
   "execution_count": 102,
   "id": "753d3a8a",
   "metadata": {},
   "outputs": [
    {
     "name": "stdout",
     "output_type": "stream",
     "text": [
      "[1 2 3]\n"
     ]
    }
   ],
   "source": [
    "import numpy as np\n",
    "\n",
    "arr = np.array([1.1, 2.1, 3.1])\n",
    "\n",
    "newarr = arr.astype(int)\n",
    "\n",
    "print(newarr)"
   ]
  },
  {
   "cell_type": "code",
   "execution_count": 106,
   "id": "aa99297e",
   "metadata": {},
   "outputs": [
    {
     "name": "stdout",
     "output_type": "stream",
     "text": [
      "[1.1 2.1 3.1]\n"
     ]
    }
   ],
   "source": [
    "import numpy as np\n",
    "\n",
    "arr = np.array([1.1, 2.1, 3.1])\n",
    "\n",
    "newarr = arr.astype(float,'F')\n",
    "\n",
    "print(newarr)"
   ]
  },
  {
   "cell_type": "code",
   "execution_count": 107,
   "id": "52e9d440",
   "metadata": {},
   "outputs": [
    {
     "name": "stdout",
     "output_type": "stream",
     "text": [
      "[31  2  3  4  5]\n",
      "[31  2  3  4  5]\n"
     ]
    }
   ],
   "source": [
    "arr = np.array([1, 2, 3, 4, 5])\n",
    "x = arr.view()\n",
    "x[0] = 31\n",
    "\n",
    "print(arr)\n",
    "print(x)"
   ]
  },
  {
   "cell_type": "code",
   "execution_count": 108,
   "id": "1d246a43",
   "metadata": {},
   "outputs": [
    {
     "name": "stdout",
     "output_type": "stream",
     "text": [
      "[[[[[1 2 3 4]]]]]\n",
      "shape of array : (1, 1, 1, 1, 4)\n"
     ]
    }
   ],
   "source": [
    "arr = np.array([1, 2, 3, 4], ndmin=5)\n",
    "\n",
    "print(arr)\n",
    "print('shape of array :', arr.shape)"
   ]
  },
  {
   "cell_type": "code",
   "execution_count": 113,
   "id": "a6053dff",
   "metadata": {},
   "outputs": [
    {
     "name": "stdout",
     "output_type": "stream",
     "text": [
      "[1 2 3]\n",
      "[4 5 6]\n"
     ]
    }
   ],
   "source": [
    "arr = np.array([[1, 2, 3], [4, 5, 6]])\n",
    "\n",
    "for x in arr:\n",
    "#     for y in x:\n",
    "        print(x)"
   ]
  },
  {
   "cell_type": "code",
   "execution_count": 119,
   "id": "40386b40",
   "metadata": {},
   "outputs": [
    {
     "ename": "AxisError",
     "evalue": "axis 1 is out of bounds for array of dimension 1",
     "output_type": "error",
     "traceback": [
      "\u001b[0;31m---------------------------------------------------------------------------\u001b[0m",
      "\u001b[0;31mAxisError\u001b[0m                                 Traceback (most recent call last)",
      "Input \u001b[0;32mIn [119]\u001b[0m, in \u001b[0;36m<module>\u001b[0;34m\u001b[0m\n\u001b[1;32m      1\u001b[0m arr1 \u001b[38;5;241m=\u001b[39m np\u001b[38;5;241m.\u001b[39marray([\u001b[38;5;241m1\u001b[39m, \u001b[38;5;241m2\u001b[39m, \u001b[38;5;241m3\u001b[39m])\n\u001b[1;32m      3\u001b[0m arr2 \u001b[38;5;241m=\u001b[39m np\u001b[38;5;241m.\u001b[39marray([\u001b[38;5;241m4\u001b[39m, \u001b[38;5;241m5\u001b[39m, \u001b[38;5;241m6\u001b[39m])\n\u001b[0;32m----> 5\u001b[0m arr \u001b[38;5;241m=\u001b[39m \u001b[43mnp\u001b[49m\u001b[38;5;241;43m.\u001b[39;49m\u001b[43mconcatenate\u001b[49m\u001b[43m(\u001b[49m\u001b[43m(\u001b[49m\u001b[43marr1\u001b[49m\u001b[43m,\u001b[49m\u001b[43m \u001b[49m\u001b[43marr2\u001b[49m\u001b[43m)\u001b[49m\u001b[43m,\u001b[49m\u001b[43maxis\u001b[49m\u001b[38;5;241;43m=\u001b[39;49m\u001b[38;5;241;43m1\u001b[39;49m\u001b[43m)\u001b[49m\n\u001b[1;32m      7\u001b[0m \u001b[38;5;28mprint\u001b[39m(arr)\n",
      "File \u001b[0;32m<__array_function__ internals>:200\u001b[0m, in \u001b[0;36mconcatenate\u001b[0;34m(*args, **kwargs)\u001b[0m\n",
      "\u001b[0;31mAxisError\u001b[0m: axis 1 is out of bounds for array of dimension 1"
     ]
    }
   ],
   "source": [
    "\n",
    "arr1 = np.array([1, 2, 3])\n",
    "\n",
    "arr2 = np.array([4, 5, 6])\n",
    "\n",
    "arr = np.concatenate((arr1, arr2),axis=1)\n",
    "\n",
    "print(arr)"
   ]
  },
  {
   "cell_type": "code",
   "execution_count": 130,
   "id": "154d95f5",
   "metadata": {},
   "outputs": [
    {
     "name": "stdout",
     "output_type": "stream",
     "text": [
      "[[1 2]\n",
      " [3 4]\n",
      " [5 6]\n",
      " [7 8]]\n",
      "(4, 2)\n"
     ]
    }
   ],
   "source": [
    "arr1 = np.array([[1, 2], [3, 4]])\n",
    "\n",
    "arr2 = np.array([[5, 6], [7, 8]])\n",
    "\n",
    "arr = np.concatenate((arr1, arr2), axis=0)\n",
    "\n",
    "\n",
    "print(arr)\n",
    "print(arr.shape)"
   ]
  },
  {
   "cell_type": "code",
   "execution_count": 131,
   "id": "2ccf1d05",
   "metadata": {},
   "outputs": [
    {
     "name": "stdout",
     "output_type": "stream",
     "text": [
      "[array([1, 2]), array([3, 4]), array([5]), array([6])]\n"
     ]
    }
   ],
   "source": [
    "arr = np.array([1, 2, 3, 4, 5, 6])\n",
    "\n",
    "newarr = np.array_split(arr, 4)\n",
    "\n",
    "print(newarr)"
   ]
  },
  {
   "cell_type": "code",
   "execution_count": 132,
   "id": "4d320832",
   "metadata": {},
   "outputs": [
    {
     "name": "stdout",
     "output_type": "stream",
     "text": [
      "[[2 3 4]\n",
      " [0 1 5]]\n"
     ]
    }
   ],
   "source": [
    "arr = np.array([[3, 2, 4], [5, 0, 1]])\n",
    "\n",
    "print(np.sort(arr))"
   ]
  },
  {
   "cell_type": "code",
   "execution_count": 133,
   "id": "51d2df5c",
   "metadata": {},
   "outputs": [],
   "source": [
    "arr = np.array([41, 42, 43, 44])"
   ]
  },
  {
   "cell_type": "code",
   "execution_count": 134,
   "id": "b7a8dbc7",
   "metadata": {},
   "outputs": [
    {
     "data": {
      "text/plain": [
       "array([41, 42, 43, 44])"
      ]
     },
     "execution_count": 134,
     "metadata": {},
     "output_type": "execute_result"
    }
   ],
   "source": [
    "arr"
   ]
  },
  {
   "cell_type": "code",
   "execution_count": 138,
   "id": "e65e90f1",
   "metadata": {},
   "outputs": [
    {
     "name": "stdout",
     "output_type": "stream",
     "text": [
      "[41 42 43 44]\n"
     ]
    }
   ],
   "source": [
    "print(arr)"
   ]
  },
  {
   "cell_type": "code",
   "execution_count": 139,
   "id": "8a0c0899",
   "metadata": {},
   "outputs": [
    {
     "data": {
      "text/plain": [
       "array([2, 4, 6])"
      ]
     },
     "execution_count": 139,
     "metadata": {},
     "output_type": "execute_result"
    }
   ],
   "source": [
    "arr = np.array([1, 2, 3, 4, 5, 6, 7])\n",
    "\n",
    "\n",
    "\n",
    "newarr = arr[arr % 2 == 0]\n",
    "\n",
    "newarr "
   ]
  },
  {
   "cell_type": "code",
   "execution_count": 140,
   "id": "b22c09f4",
   "metadata": {},
   "outputs": [
    {
     "name": "stdout",
     "output_type": "stream",
     "text": [
      "<class 'numpy.ufunc'>\n"
     ]
    }
   ],
   "source": [
    "print(type(np.add))"
   ]
  },
  {
   "cell_type": "code",
   "execution_count": 141,
   "id": "e5d6dda2",
   "metadata": {},
   "outputs": [
    {
     "name": "stdout",
     "output_type": "stream",
     "text": [
      "<class 'function'>\n"
     ]
    }
   ],
   "source": [
    "print(type(np.concatenate))"
   ]
  },
  {
   "cell_type": "code",
   "execution_count": 146,
   "id": "d7f3e246",
   "metadata": {},
   "outputs": [
    {
     "name": "stdout",
     "output_type": "stream",
     "text": [
      "[1 2 1 2 3 4]\n",
      "<class 'numpy.ndarray'>\n"
     ]
    }
   ],
   "source": [
    "arr = np.array([-1, -2, 1, 2, 3, -4])\n",
    "\n",
    "newarr = np.absolute(arr)\n",
    "x=abs(arr)\n",
    "print(newarr)\n",
    "print(type(x))"
   ]
  },
  {
   "cell_type": "code",
   "execution_count": 147,
   "id": "8482cc94",
   "metadata": {},
   "outputs": [
    {
     "name": "stdout",
     "output_type": "stream",
     "text": [
      "[-3.  3.]\n"
     ]
    }
   ],
   "source": [
    "arr = np.trunc([-3.1666, 3.6667])\n",
    "\n",
    "print(arr)"
   ]
  },
  {
   "cell_type": "code",
   "execution_count": 148,
   "id": "16e0273b",
   "metadata": {},
   "outputs": [],
   "source": [
    "arr = np.around(3.1666, 2)"
   ]
  },
  {
   "cell_type": "code",
   "execution_count": 149,
   "id": "f9df3885",
   "metadata": {},
   "outputs": [
    {
     "data": {
      "text/plain": [
       "3.17"
      ]
     },
     "execution_count": 149,
     "metadata": {},
     "output_type": "execute_result"
    }
   ],
   "source": [
    "arr"
   ]
  },
  {
   "cell_type": "code",
   "execution_count": 160,
   "id": "ef5dc141",
   "metadata": {},
   "outputs": [
    {
     "name": "stdout",
     "output_type": "stream",
     "text": [
      "[[0 3 8]\n",
      " [8 0 4]\n",
      " [8 5 9]]\n"
     ]
    }
   ],
   "source": [
    "from numpy import random\n",
    "\n",
    "x = random.randint(10,size=(3,3))\n",
    "\n",
    "print(x)"
   ]
  },
  {
   "cell_type": "code",
   "execution_count": 161,
   "id": "c9df97f8",
   "metadata": {},
   "outputs": [
    {
     "name": "stdout",
     "output_type": "stream",
     "text": [
      "[[3 7 7 3 9]\n",
      " [7 9 9 9 5]\n",
      " [7 7 7 7 7]]\n"
     ]
    }
   ],
   "source": [
    "x = random.choice([3, 5, 7, 9], size=(3, 5))\n",
    "\n",
    "print(x)"
   ]
  },
  {
   "cell_type": "code",
   "execution_count": 162,
   "id": "1e22f0ff",
   "metadata": {},
   "outputs": [
    {
     "name": "stdout",
     "output_type": "stream",
     "text": [
      "[7 5 7 5 5 3 7 5 5 3 7 7 7 7 3 7 5 3 5 7 5 3 7 7 7 7 7 5 7 7 5 7 7 7 5 7 7\n",
      " 7 3 7 7 7 5 7 5 7 7 7 7 5 3 5 3 7 5 7 5 7 7 7 7 7 7 3 5 5 7 7 7 7 7 7 3 7\n",
      " 7 3 7 5 7 7 5 7 5 7 3 7 7 7 7 7 3 3 7 7 5 7 5 5 5 7]\n"
     ]
    }
   ],
   "source": [
    "x = random.choice([3, 5, 7, 9], p=[0.1, 0.3, 0.6, 0.0], size=(100))\n",
    "\n",
    "print(x)"
   ]
  },
  {
   "cell_type": "code",
   "execution_count": 163,
   "id": "b2dea23b",
   "metadata": {},
   "outputs": [
    {
     "name": "stderr",
     "output_type": "stream",
     "text": [
      "/var/folders/nd/dj_lrx2d6j3fccjhjy5pqygc0000gn/T/ipykernel_17786/174120514.py:4: UserWarning: \n",
      "\n",
      "`distplot` is a deprecated function and will be removed in seaborn v0.14.0.\n",
      "\n",
      "Please adapt your code to use either `displot` (a figure-level function with\n",
      "similar flexibility) or `histplot` (an axes-level function for histograms).\n",
      "\n",
      "For a guide to updating your code to use the new functions, please see\n",
      "https://gist.github.com/mwaskom/de44147ed2974457ad6372750bbe5751\n",
      "\n",
      "  sns.distplot([0, 1, 2, 3, 4, 5])\n"
     ]
    },
    {
     "data": {
      "image/png": "[encoded data removed]",
      "text/plain": [
       "<Figure size 432x288 with 1 Axes>"
      ]
     },
     "metadata": {
      "needs_background": "light"
     },
     "output_type": "display_data"
    }
   ],
   "source": [
    "import matplotlib.pyplot as plt\n",
    "import seaborn as sns\n",
    "\n",
    "sns.distplot([0, 1, 2, 3, 4, 5])\n",
    "\n",
    "plt.show()"
   ]
  },
  {
   "cell_type": "code",
   "execution_count": 177,
   "id": "4fe2daea",
   "metadata": {},
   "outputs": [
    {
     "name": "stderr",
     "output_type": "stream",
     "text": [
      "/var/folders/nd/dj_lrx2d6j3fccjhjy5pqygc0000gn/T/ipykernel_17786/794554355.py:3: UserWarning: \n",
      "\n",
      "`distplot` is a deprecated function and will be removed in seaborn v0.14.0.\n",
      "\n",
      "Please adapt your code to use either `displot` (a figure-level function with\n",
      "similar flexibility) or `kdeplot` (an axes-level function for kernel density plots).\n",
      "\n",
      "For a guide to updating your code to use the new functions, please see\n",
      "https://gist.github.com/mwaskom/de44147ed2974457ad6372750bbe5751\n",
      "\n",
      "  sns.distplot(x, hist=False)\n"
     ]
    },
    {
     "data": {
      "image/png": "[encoded data removed]",
      "text/plain": [
       "<Figure size 432x288 with 1 Axes>"
      ]
     },
     "metadata": {
      "needs_background": "light"
     },
     "output_type": "display_data"
    }
   ],
   "source": [
    "\n",
    "x = random.normal(loc=2, scale=4, size=(1000))\n",
    "\n",
    "sns.distplot(x, hist=False)\n",
    "plt.show()"
   ]
  },
  {
   "cell_type": "code",
   "execution_count": 178,
   "id": "fd0ee8d2",
   "metadata": {},
   "outputs": [
    {
     "name": "stdout",
     "output_type": "stream",
     "text": [
      "[7 5 3 6 6 4 5 6 6 1]\n"
     ]
    }
   ],
   "source": [
    "x = random.binomial(n=10, p=0.5, size=10)\n",
    "\n",
    "print(x)"
   ]
  },
  {
   "cell_type": "code",
   "execution_count": 191,
   "id": "1edc9056",
   "metadata": {},
   "outputs": [],
   "source": [
    "x=np.linspace(1,100,100)"
   ]
  },
  {
   "cell_type": "code",
   "execution_count": 192,
   "id": "4532b201",
   "metadata": {},
   "outputs": [
    {
     "data": {
      "text/plain": [
       "array([  1.,   2.,   3.,   4.,   5.,   6.,   7.,   8.,   9.,  10.,  11.,\n",
       "        12.,  13.,  14.,  15.,  16.,  17.,  18.,  19.,  20.,  21.,  22.,\n",
       "        23.,  24.,  25.,  26.,  27.,  28.,  29.,  30.,  31.,  32.,  33.,\n",
       "        34.,  35.,  36.,  37.,  38.,  39.,  40.,  41.,  42.,  43.,  44.,\n",
       "        45.,  46.,  47.,  48.,  49.,  50.,  51.,  52.,  53.,  54.,  55.,\n",
       "        56.,  57.,  58.,  59.,  60.,  61.,  62.,  63.,  64.,  65.,  66.,\n",
       "        67.,  68.,  69.,  70.,  71.,  72.,  73.,  74.,  75.,  76.,  77.,\n",
       "        78.,  79.,  80.,  81.,  82.,  83.,  84.,  85.,  86.,  87.,  88.,\n",
       "        89.,  90.,  91.,  92.,  93.,  94.,  95.,  96.,  97.,  98.,  99.,\n",
       "       100.])"
      ]
     },
     "execution_count": 192,
     "metadata": {},
     "output_type": "execute_result"
    }
   ],
   "source": [
    "x"
   ]
  },
  {
   "cell_type": "code",
   "execution_count": 199,
   "id": "94a28072",
   "metadata": {},
   "outputs": [
    {
     "data": {
      "text/plain": [
       "[<matplotlib.lines.Line2D at 0x282b41eb0>]"
      ]
     },
     "execution_count": 199,
     "metadata": {},
     "output_type": "execute_result"
    },
    {
     "data": {
      "image/png": "[encoded data removed]",
      "text/plain": [
       "<Figure size 432x288 with 1 Axes>"
      ]
     },
     "metadata": {
      "needs_background": "light"
     },
     "output_type": "display_data"
    }
   ],
   "source": [
    "plt.plot(x,np.log(x))"
   ]
  },
  {
   "cell_type": "code",
   "execution_count": 202,
   "id": "50287630",
   "metadata": {},
   "outputs": [
    {
     "ename": "AttributeError",
     "evalue": "module 'numpy' has no attribute 'ln'",
     "output_type": "error",
     "traceback": [
      "\u001b[0;31m---------------------------------------------------------------------------\u001b[0m",
      "\u001b[0;31mAttributeError\u001b[0m                            Traceback (most recent call last)",
      "Input \u001b[0;32mIn [202]\u001b[0m, in \u001b[0;36m<module>\u001b[0;34m\u001b[0m\n\u001b[0;32m----> 1\u001b[0m \u001b[43mnp\u001b[49m\u001b[38;5;241;43m.\u001b[39;49m\u001b[43mln\u001b[49m(\u001b[38;5;241m100\u001b[39m)\n",
      "File \u001b[0;32m/opt/homebrew/lib/python3.9/site-packages/numpy/__init__.py:320\u001b[0m, in \u001b[0;36m__getattr__\u001b[0;34m(attr)\u001b[0m\n\u001b[1;32m    317\u001b[0m     \u001b[38;5;28;01mfrom\u001b[39;00m \u001b[38;5;21;01m.\u001b[39;00m\u001b[38;5;21;01mtesting\u001b[39;00m \u001b[38;5;28;01mimport\u001b[39;00m Tester\n\u001b[1;32m    318\u001b[0m     \u001b[38;5;28;01mreturn\u001b[39;00m Tester\n\u001b[0;32m--> 320\u001b[0m \u001b[38;5;28;01mraise\u001b[39;00m \u001b[38;5;167;01mAttributeError\u001b[39;00m(\u001b[38;5;124m\"\u001b[39m\u001b[38;5;124mmodule \u001b[39m\u001b[38;5;132;01m{!r}\u001b[39;00m\u001b[38;5;124m has no attribute \u001b[39m\u001b[38;5;124m\"\u001b[39m\n\u001b[1;32m    321\u001b[0m                      \u001b[38;5;124m\"\u001b[39m\u001b[38;5;132;01m{!r}\u001b[39;00m\u001b[38;5;124m\"\u001b[39m\u001b[38;5;241m.\u001b[39mformat(\u001b[38;5;18m__name__\u001b[39m, attr))\n",
      "\u001b[0;31mAttributeError\u001b[0m: module 'numpy' has no attribute 'ln'"
     ]
    }
   ],
   "source": []
  },
  {
   "cell_type": "code",
   "execution_count": 242,
   "id": "8fa167be",
   "metadata": {},
   "outputs": [],
   "source": [
    "x=np.linspace(1,100,100)\n",
    "y=random.randint(1,100,100)\n",
    "z=random.normal(0,1,100)\n",
    "t=np.sin(y)\n"
   ]
  },
  {
   "cell_type": "code",
   "execution_count": 241,
   "id": "fb358add",
   "metadata": {},
   "outputs": [
    {
     "data": {
      "image/png": "[encoded data removed]",
      "text/plain": [
       "<Figure size 432x288 with 1 Axes>"
      ]
     },
     "metadata": {
      "needs_background": "light"
     },
     "output_type": "display_data"
    },
    {
     "name": "stderr",
     "output_type": "stream",
     "text": [
      "/var/folders/nd/dj_lrx2d6j3fccjhjy5pqygc0000gn/T/ipykernel_17786/2217316563.py:3: UserWarning: Legend does not support handles for str instances.\n",
      "A proxy artist may be used instead.\n",
      "See: https://matplotlib.org/stable/tutorials/intermediate/legend_guide.html#controlling-the-legend-entries\n",
      "  plt.legend(\"y\",'z')\n"
     ]
    },
    {
     "data": {
      "text/plain": [
       "<matplotlib.legend.Legend at 0x285d90df0>"
      ]
     },
     "execution_count": 241,
     "metadata": {},
     "output_type": "execute_result"
    },
    {
     "data": {
      "image/png": "[encoded data removed]",
      "text/plain": [
       "<Figure size 432x288 with 1 Axes>"
      ]
     },
     "metadata": {
      "needs_background": "light"
     },
     "output_type": "display_data"
    }
   ],
   "source": [
    "plt.plot(t)\n",
    "plt.show()\n",
    "plt.legend(\"y\",'z')\n"
   ]
  },
  {
   "cell_type": "code",
   "execution_count": 254,
   "id": "c479ac18",
   "metadata": {},
   "outputs": [
    {
     "name": "stderr",
     "output_type": "stream",
     "text": [
      "/var/folders/nd/dj_lrx2d6j3fccjhjy5pqygc0000gn/T/ipykernel_17786/1038879697.py:1: UserWarning: \n",
      "\n",
      "`distplot` is a deprecated function and will be removed in seaborn v0.14.0.\n",
      "\n",
      "Please adapt your code to use either `displot` (a figure-level function with\n",
      "similar flexibility) or `histplot` (an axes-level function for histograms).\n",
      "\n",
      "For a guide to updating your code to use the new functions, please see\n",
      "https://gist.github.com/mwaskom/de44147ed2974457ad6372750bbe5751\n",
      "\n",
      "  sns.distplot(x )\n"
     ]
    },
    {
     "data": {
      "text/plain": [
       "<Axes: ylabel='Density'>"
      ]
     },
     "execution_count": 254,
     "metadata": {},
     "output_type": "execute_result"
    },
    {
     "data": {
      "image/png": "[encoded data removed]",
      "text/plain": [
       "<Figure size 432x288 with 1 Axes>"
      ]
     },
     "metadata": {
      "needs_background": "light"
     },
     "output_type": "display_data"
    }
   ],
   "source": [
    "sns.distplot(x )"
   ]
  },
  {
   "cell_type": "code",
   "execution_count": 244,
   "id": "e97abcd1",
   "metadata": {},
   "outputs": [
    {
     "data": {
      "text/plain": [
       "100"
      ]
     },
     "execution_count": 244,
     "metadata": {},
     "output_type": "execute_result"
    }
   ],
   "source": [
    "z.size"
   ]
  },
  {
   "cell_type": "code",
   "execution_count": 249,
   "id": "aac9d015",
   "metadata": {},
   "outputs": [
    {
     "data": {
      "text/plain": [
       "(array([[0., 1., 1., 0., 0., 1., 0., 0., 0., 0.],\n",
       "        [1., 1., 0., 1., 1., 0., 0., 0., 0., 1.],\n",
       "        [1., 0., 0., 0., 0., 1., 2., 0., 2., 0.],\n",
       "        [0., 1., 2., 2., 0., 1., 0., 0., 1., 0.],\n",
       "        [3., 2., 1., 1., 5., 1., 2., 3., 2., 1.],\n",
       "        [1., 0., 4., 2., 3., 2., 0., 3., 0., 3.],\n",
       "        [1., 2., 0., 3., 0., 1., 5., 3., 2., 2.],\n",
       "        [0., 3., 1., 0., 1., 2., 1., 0., 2., 0.],\n",
       "        [2., 0., 1., 0., 0., 0., 0., 1., 1., 1.],\n",
       "        [1., 0., 0., 1., 0., 1., 0., 0., 0., 2.]]),\n",
       " array([-2.83823397, -2.34935706, -1.86048015, -1.37160324, -0.88272634,\n",
       "        -0.39384943,  0.09502748,  0.58390439,  1.0727813 ,  1.56165821,\n",
       "         2.05053512]),\n",
       " array([  1. ,  10.9,  20.8,  30.7,  40.6,  50.5,  60.4,  70.3,  80.2,\n",
       "         90.1, 100. ]),\n",
       " <matplotlib.collections.QuadMesh at 0x285f193a0>)"
      ]
     },
     "execution_count": 249,
     "metadata": {},
     "output_type": "execute_result"
    },
    {
     "data": {
      "image/png": "[encoded data removed]",
      "text/plain": [
       "<Figure size 432x288 with 1 Axes>"
      ]
     },
     "metadata": {
      "needs_background": "light"
     },
     "output_type": "display_data"
    }
   ],
   "source": [
    "plt.dis(z)"
   ]
  },
  {
   "cell_type": "code",
   "execution_count": 315,
   "id": "0e23addc",
   "metadata": {},
   "outputs": [],
   "source": [
    "s=np.sin(np.pi*x/50)\n",
    "c=np.cos(np.pi*x/50)\n",
    "y=x/100"
   ]
  },
  {
   "cell_type": "code",
   "execution_count": 316,
   "id": "cca8d697",
   "metadata": {},
   "outputs": [
    {
     "data": {
      "image/png": "[encoded data removed]",
      "text/plain": [
       "<Figure size 432x288 with 1 Axes>"
      ]
     },
     "metadata": {
      "needs_background": "light"
     },
     "output_type": "display_data"
    }
   ],
   "source": [
    "plt.plot(s,':r',c,'gs')\n",
    "plt.legend(labels=['x','y'])\n",
    "plt.show()"
   ]
  },
  {
   "cell_type": "code",
   "execution_count": 317,
   "id": "53ccb1ea",
   "metadata": {},
   "outputs": [
    {
     "data": {
      "text/plain": [
       "<Axes: >"
      ]
     },
     "execution_count": 317,
     "metadata": {},
     "output_type": "execute_result"
    },
    {
     "data": {
      "image/png": "[encoded data removed]",
      "text/plain": [
       "<Figure size 432x288 with 1 Axes>"
      ]
     },
     "metadata": {
      "needs_background": "light"
     },
     "output_type": "display_data"
    }
   ],
   "source": [
    "sns.lineplot(x=c,y=s)"
   ]
  },
  {
   "cell_type": "code",
   "execution_count": 320,
   "id": "9d02aae3",
   "metadata": {},
   "outputs": [],
   "source": [
    "y=random.choice(s,10)"
   ]
  },
  {
   "cell_type": "code",
   "execution_count": 321,
   "id": "688f0a43",
   "metadata": {},
   "outputs": [
    {
     "data": {
      "text/plain": [
       "array([-7.70513243e-01, -7.28968627e-01,  9.04827052e-01,  1.22464680e-16,\n",
       "       -9.51056516e-01, -3.09016994e-01,  4.25779292e-01,  6.84547106e-01,\n",
       "       -1.25333234e-01, -5.35826795e-01])"
      ]
     },
     "execution_count": 321,
     "metadata": {},
     "output_type": "execute_result"
    }
   ],
   "source": [
    "x"
   ]
  },
  {
   "cell_type": "code",
   "execution_count": 355,
   "id": "600b13a5",
   "metadata": {},
   "outputs": [],
   "source": [
    "x=np.linspace(1,10,num=10,endpoint=True)"
   ]
  },
  {
   "cell_type": "code",
   "execution_count": 356,
   "id": "45335621",
   "metadata": {},
   "outputs": [
    {
     "data": {
      "text/plain": [
       "10"
      ]
     },
     "execution_count": 356,
     "metadata": {},
     "output_type": "execute_result"
    }
   ],
   "source": [
    "x.size"
   ]
  },
  {
   "cell_type": "code",
   "execution_count": 357,
   "id": "d122deb4",
   "metadata": {},
   "outputs": [
    {
     "data": {
      "text/plain": [
       "array([ 1.,  2.,  3.,  4.,  5.,  6.,  7.,  8.,  9., 10.])"
      ]
     },
     "execution_count": 357,
     "metadata": {},
     "output_type": "execute_result"
    }
   ],
   "source": [
    "x"
   ]
  },
  {
   "cell_type": "code",
   "execution_count": 361,
   "id": "501d3702",
   "metadata": {},
   "outputs": [
    {
     "data": {
      "text/plain": [
       "<BarContainer object of 10 artists>"
      ]
     },
     "execution_count": 361,
     "metadata": {},
     "output_type": "execute_result"
    },
    {
     "data": {
      "image/png": "[encoded data removed]",
      "text/plain": [
       "<Figure size 432x288 with 1 Axes>"
      ]
     },
     "metadata": {
      "needs_background": "light"
     },
     "output_type": "display_data"
    }
   ],
   "source": [
    "plt.bar(x,y)"
   ]
  },
  {
   "cell_type": "code",
   "execution_count": 364,
   "id": "6862c4be",
   "metadata": {},
   "outputs": [
    {
     "data": {
      "text/plain": [
       "array([1, 2, 3, 4, 5, 6, 7, 8, 9])"
      ]
     },
     "execution_count": 364,
     "metadata": {},
     "output_type": "execute_result"
    }
   ],
   "source": [
    "np.arange(1,10,1)"
   ]
  },
  {
   "cell_type": "code",
   "execution_count": 118,
   "id": "67a96035",
   "metadata": {},
   "outputs": [],
   "source": [
    "import matplotlib.pyplot as plt\n",
    "x=np.random.randint(100,size=100)\n",
    "y=random.rand(100)\n",
    "color=np.random.randint(200,size=100)\n",
    "size=np.random.randint(100,size=100)\n"
   ]
  },
  {
   "cell_type": "code",
   "execution_count": 119,
   "id": "6cf5b8a9",
   "metadata": {
    "scrolled": true
   },
   "outputs": [
    {
     "data": {
      "image/png": "[encoded data removed]",
      "text/plain": [
       "<Figure size 432x288 with 2 Axes>"
      ]
     },
     "metadata": {
      "needs_background": "light"
     },
     "output_type": "display_data"
    }
   ],
   "source": [
    "plt.scatter(x,y,s=size,c=color,cmap='nipy_spectral')\n",
    "plt.colorbar()\n",
    "plt.show()"
   ]
  },
  {
   "cell_type": "code",
   "execution_count": 123,
   "id": "479e3581",
   "metadata": {},
   "outputs": [
    {
     "data": {
      "text/plain": [
       "<Axes: xlabel='Duration', ylabel='Pulse'>"
      ]
     },
     "execution_count": 123,
     "metadata": {},
     "output_type": "execute_result"
    },
    {
     "data": {
      "image/png": "[encoded data removed]",
      "text/plain": [
       "<Figure size 432x288 with 1 Axes>"
      ]
     },
     "metadata": {
      "needs_background": "light"
     },
     "output_type": "display_data"
    }
   ],
   "source": [
    "df.plot(kind='scatter',x='Duration',y='Pulse')"
   ]
  },
  {
   "cell_type": "code",
   "execution_count": 420,
   "id": "82f51f3c",
   "metadata": {},
   "outputs": [
    {
     "data": {
      "image/png": "[encoded data removed]",
      "text/plain": [
       "<Figure size 1008x648 with 1 Axes>"
      ]
     },
     "metadata": {
      "needs_background": "light"
     },
     "output_type": "display_data"
    }
   ],
   "source": [
    "from mpl_toolkits import mplot3d \n",
    "import numpy as np \n",
    "import matplotlib.pyplot as plt \n",
    "\n",
    "x = np.outer(np.linspace(-4, 4, 33), np.ones(33)) \n",
    "y = x.copy().T\n",
    "z = (np.sin(x **2) + np.cos(y **2) ) \n",
    "\n",
    "\n",
    "fig = plt.figure(figsize =(14, 9)) \n",
    "ax = plt.axes(projection ='3d') \n",
    "\n",
    "ax.plot_surface(x, y, z) \n",
    "\n",
    "\n",
    "plt.show() "
   ]
  },
  {
   "cell_type": "code",
   "execution_count": 416,
   "id": "6fe4190c",
   "metadata": {},
   "outputs": [
    {
     "data": {
      "text/plain": [
       "array([[-4.  , -4.  , -4.  , ..., -4.  , -4.  , -4.  ],\n",
       "       [-3.75, -3.75, -3.75, ..., -3.75, -3.75, -3.75],\n",
       "       [-3.5 , -3.5 , -3.5 , ..., -3.5 , -3.5 , -3.5 ],\n",
       "       ...,\n",
       "       [ 3.5 ,  3.5 ,  3.5 , ...,  3.5 ,  3.5 ,  3.5 ],\n",
       "       [ 3.75,  3.75,  3.75, ...,  3.75,  3.75,  3.75],\n",
       "       [ 4.  ,  4.  ,  4.  , ...,  4.  ,  4.  ,  4.  ]])"
      ]
     },
     "execution_count": 416,
     "metadata": {},
     "output_type": "execute_result"
    }
   ],
   "source": [
    "x"
   ]
  },
  {
   "cell_type": "code",
   "execution_count": 417,
   "id": "423d8ec4",
   "metadata": {},
   "outputs": [
    {
     "data": {
      "text/plain": [
       "array([[-4.  , -3.75, -3.5 , ...,  3.5 ,  3.75,  4.  ],\n",
       "       [-4.  , -3.75, -3.5 , ...,  3.5 ,  3.75,  4.  ],\n",
       "       [-4.  , -3.75, -3.5 , ...,  3.5 ,  3.75,  4.  ],\n",
       "       ...,\n",
       "       [-4.  , -3.75, -3.5 , ...,  3.5 ,  3.75,  4.  ],\n",
       "       [-4.  , -3.75, -3.5 , ...,  3.5 ,  3.75,  4.  ],\n",
       "       [-4.  , -3.75, -3.5 , ...,  3.5 ,  3.75,  4.  ]])"
      ]
     },
     "execution_count": 417,
     "metadata": {},
     "output_type": "execute_result"
    }
   ],
   "source": [
    "y"
   ]
  },
  {
   "cell_type": "code",
   "execution_count": 418,
   "id": "eae002b4",
   "metadata": {},
   "outputs": [
    {
     "data": {
      "text/plain": [
       "array([[-1.2455628 , -0.21330574,  0.66246753, ...,  0.66246753,\n",
       "        -0.21330574, -1.2455628 ],\n",
       "       [ 0.03955424,  1.0718113 ,  1.94758457, ...,  1.94758457,\n",
       "         1.0718113 ,  0.03955424],\n",
       "       [-1.26877884, -0.23652177,  0.63925149, ...,  0.63925149,\n",
       "        -0.23652177, -1.26877884],\n",
       "       ...,\n",
       "       [-1.26877884, -0.23652177,  0.63925149, ...,  0.63925149,\n",
       "        -0.23652177, -1.26877884],\n",
       "       [ 0.03955424,  1.0718113 ,  1.94758457, ...,  1.94758457,\n",
       "         1.0718113 ,  0.03955424],\n",
       "       [-1.2455628 , -0.21330574,  0.66246753, ...,  0.66246753,\n",
       "        -0.21330574, -1.2455628 ]])"
      ]
     },
     "execution_count": 418,
     "metadata": {},
     "output_type": "execute_result"
    }
   ],
   "source": [
    "z"
   ]
  },
  {
   "cell_type": "code",
   "execution_count": 421,
   "id": "77a5df6f",
   "metadata": {},
   "outputs": [
    {
     "data": {
      "image/png": "[encoded data removed]",
      "text/plain": [
       "<Figure size 648x216 with 3 Axes>"
      ]
     },
     "metadata": {
      "needs_background": "light"
     },
     "output_type": "display_data"
    }
   ],
   "source": [
    "fig, (ax1, ax2, ax3) = plt.subplots(1, 3, figsize=(9, 3),\n",
    "                                    subplot_kw={'aspect': 'equal'})\n",
    "ax1.fill(x, y)\n",
    "ax2.fill(x, y, facecolor='lightsalmon', edgecolor='orangered', linewidth=3)\n",
    "ax3.fill(x, y, facecolor='none', edgecolor='purple', linewidth=3)\n",
    "\n",
    "plt.show()"
   ]
  },
  {
   "cell_type": "code",
   "execution_count": 1,
   "id": "2ee1735a",
   "metadata": {},
   "outputs": [],
   "source": [
    "import ipywidgets as widgets\n",
    "from IPython.display import display"
   ]
  },
  {
   "cell_type": "code",
   "execution_count": 2,
   "id": "43fefbea",
   "metadata": {},
   "outputs": [],
   "source": [
    "import os"
   ]
  },
  {
   "cell_type": "code",
   "execution_count": 3,
   "id": "22905383",
   "metadata": {},
   "outputs": [
    {
     "data": {
      "application/vnd.jupyter.widget-view+json": {
       "model_id": "aba5bafbe6c54ade8d54d7e60e78b7b2",
       "version_major": 2,
       "version_minor": 0
      },
      "text/plain": [
       "IntSlider(value=50, description='Value:')"
      ]
     },
     "metadata": {},
     "output_type": "display_data"
    }
   ],
   "source": [
    "import ipywidgets as widgets\n",
    "from IPython.display import display\n",
    "\n",
    "# Create an IntSlider widget\n",
    "slider = widgets.IntSlider(value=50, min=0, max=100, step=1, description='Value:', orientation='horizontal')\n",
    "\n",
    "# Display the slider\n",
    "display(slider)\n"
   ]
  },
  {
   "cell_type": "code",
   "execution_count": 9,
   "id": "0057f306",
   "metadata": {},
   "outputs": [
    {
     "name": "stdout",
     "output_type": "stream",
     "text": [
      "[1 2 3 4 5]\n"
     ]
    }
   ],
   "source": [
    "from numpy import random\n",
    "import numpy as np\n",
    "\n",
    "arr = np.array([1, 2, 3, 4, 5])\n",
    "\n",
    "random.permutation(arr)\n",
    "\n",
    "print(arr)"
   ]
  },
  {
   "cell_type": "code",
   "execution_count": 33,
   "id": "a84392c3",
   "metadata": {},
   "outputs": [],
   "source": [
    "\n",
    "arr = np.array([1, 2, 3, 4, 5],dtype='f')\n",
    "\n"
   ]
  },
  {
   "cell_type": "code",
   "execution_count": 34,
   "id": "679309d5",
   "metadata": {},
   "outputs": [
    {
     "name": "stdout",
     "output_type": "stream",
     "text": [
      "60\n"
     ]
    }
   ],
   "source": [
    "arr = np.arange(1, 11)\n",
    "\n",
    "x = np.lcm.reduce([4,5,6])\n",
    "\n",
    "print(x)"
   ]
  },
  {
   "cell_type": "code",
   "execution_count": 37,
   "id": "6f04eeff",
   "metadata": {},
   "outputs": [
    {
     "data": {
      "text/plain": [
       "array([1, 3, 5, 7, 9])"
      ]
     },
     "execution_count": 37,
     "metadata": {},
     "output_type": "execute_result"
    }
   ],
   "source": [
    "arr[::2]"
   ]
  },
  {
   "cell_type": "code",
   "execution_count": 38,
   "id": "5a4edaef",
   "metadata": {},
   "outputs": [
    {
     "data": {
      "text/plain": [
       "(10,)"
      ]
     },
     "execution_count": 38,
     "metadata": {},
     "output_type": "execute_result"
    }
   ],
   "source": [
    "arr.shape"
   ]
  },
  {
   "cell_type": "code",
   "execution_count": 50,
   "id": "f3ce3696",
   "metadata": {},
   "outputs": [
    {
     "ename": "AttributeError",
     "evalue": "'numpy.ndarray' object has no attribute 'where'",
     "output_type": "error",
     "traceback": [
      "\u001b[0;31m---------------------------------------------------------------------------\u001b[0m",
      "\u001b[0;31mAttributeError\u001b[0m                            Traceback (most recent call last)",
      "Input \u001b[0;32mIn [50]\u001b[0m, in \u001b[0;36m<module>\u001b[0;34m\u001b[0m\n\u001b[0;32m----> 1\u001b[0m \u001b[43marr\u001b[49m\u001b[38;5;241;43m.\u001b[39;49m\u001b[43mwhere\u001b[49m(arr\u001b[38;5;241m=\u001b[39m\u001b[38;5;241m4\u001b[39m)\n",
      "\u001b[0;31mAttributeError\u001b[0m: 'numpy.ndarray' object has no attribute 'where'"
     ]
    }
   ],
   "source": [
    "arr.where(arr=4)"
   ]
  },
  {
   "cell_type": "code",
   "execution_count": 51,
   "id": "d57ee5ff",
   "metadata": {},
   "outputs": [
    {
     "data": {
      "text/plain": [
       "array([ 1,  2,  3,  4,  5,  6,  7,  8,  9, 10])"
      ]
     },
     "execution_count": 51,
     "metadata": {},
     "output_type": "execute_result"
    }
   ],
   "source": [
    "arr"
   ]
  },
  {
   "cell_type": "code",
   "execution_count": 52,
   "id": "00416ba0",
   "metadata": {},
   "outputs": [],
   "source": [
    "x=arr.copy()"
   ]
  },
  {
   "cell_type": "code",
   "execution_count": 53,
   "id": "45bc6782",
   "metadata": {},
   "outputs": [],
   "source": [
    "x[2]=10"
   ]
  },
  {
   "cell_type": "code",
   "execution_count": 54,
   "id": "4f4a9122",
   "metadata": {},
   "outputs": [
    {
     "data": {
      "text/plain": [
       "array([ 1,  2, 10,  4,  5,  6,  7,  8,  9, 10])"
      ]
     },
     "execution_count": 54,
     "metadata": {},
     "output_type": "execute_result"
    }
   ],
   "source": [
    "x"
   ]
  },
  {
   "cell_type": "code",
   "execution_count": 55,
   "id": "70543f5f",
   "metadata": {},
   "outputs": [
    {
     "data": {
      "text/plain": [
       "array([ 1,  2,  3,  4,  5,  6,  7,  8,  9, 10])"
      ]
     },
     "execution_count": 55,
     "metadata": {},
     "output_type": "execute_result"
    }
   ],
   "source": [
    "arr"
   ]
  },
  {
   "cell_type": "code",
   "execution_count": 56,
   "id": "a947ffba",
   "metadata": {},
   "outputs": [],
   "source": [
    "y=arr.view()"
   ]
  },
  {
   "cell_type": "code",
   "execution_count": 57,
   "id": "39d24893",
   "metadata": {},
   "outputs": [],
   "source": [
    "y[2]=10"
   ]
  },
  {
   "cell_type": "code",
   "execution_count": 58,
   "id": "50785d90",
   "metadata": {},
   "outputs": [
    {
     "data": {
      "text/plain": [
       "array([ 1,  2, 10,  4,  5,  6,  7,  8,  9, 10])"
      ]
     },
     "execution_count": 58,
     "metadata": {},
     "output_type": "execute_result"
    }
   ],
   "source": [
    "arr"
   ]
  },
  {
   "cell_type": "code",
   "execution_count": 67,
   "id": "d9ac380e",
   "metadata": {},
   "outputs": [
    {
     "data": {
      "text/plain": [
       "(array([2, 9]),)"
      ]
     },
     "execution_count": 67,
     "metadata": {},
     "output_type": "execute_result"
    }
   ],
   "source": [
    "np.where(y==10)"
   ]
  },
  {
   "cell_type": "code",
   "execution_count": 68,
   "id": "47c87ce6",
   "metadata": {},
   "outputs": [
    {
     "data": {
      "text/plain": [
       "1"
      ]
     },
     "execution_count": 68,
     "metadata": {},
     "output_type": "execute_result"
    }
   ],
   "source": [
    "y.ndim"
   ]
  },
  {
   "cell_type": "code",
   "execution_count": 69,
   "id": "16d054fa",
   "metadata": {},
   "outputs": [
    {
     "data": {
      "text/plain": [
       "dtype('int64')"
      ]
     },
     "execution_count": 69,
     "metadata": {},
     "output_type": "execute_result"
    }
   ],
   "source": [
    "y.dtype"
   ]
  },
  {
   "cell_type": "code",
   "execution_count": 71,
   "id": "ef47d103",
   "metadata": {},
   "outputs": [],
   "source": [
    "z=np.array(y,'f')"
   ]
  },
  {
   "cell_type": "code",
   "execution_count": 72,
   "id": "2e31e91c",
   "metadata": {},
   "outputs": [
    {
     "data": {
      "text/plain": [
       "array([ 1.,  2., 10.,  4.,  5.,  6.,  7.,  8.,  9., 10.], dtype=float32)"
      ]
     },
     "execution_count": 72,
     "metadata": {},
     "output_type": "execute_result"
    }
   ],
   "source": [
    "z"
   ]
  },
  {
   "cell_type": "code",
   "execution_count": 73,
   "id": "df9b20b6",
   "metadata": {},
   "outputs": [
    {
     "data": {
      "text/plain": [
       "dtype('float32')"
      ]
     },
     "execution_count": 73,
     "metadata": {},
     "output_type": "execute_result"
    }
   ],
   "source": [
    "z.dtype"
   ]
  },
  {
   "cell_type": "code",
   "execution_count": 74,
   "id": "b7e2a8a7",
   "metadata": {},
   "outputs": [],
   "source": [
    "z=np.array(z,'int')"
   ]
  },
  {
   "cell_type": "code",
   "execution_count": 75,
   "id": "2a17d33c",
   "metadata": {},
   "outputs": [
    {
     "data": {
      "text/plain": [
       "array([ 1,  2, 10,  4,  5,  6,  7,  8,  9, 10])"
      ]
     },
     "execution_count": 75,
     "metadata": {},
     "output_type": "execute_result"
    }
   ],
   "source": [
    "z"
   ]
  },
  {
   "cell_type": "code",
   "execution_count": 77,
   "id": "993ed0dc",
   "metadata": {},
   "outputs": [],
   "source": [
    "df=random.randint(10, size=(3,5))"
   ]
  },
  {
   "cell_type": "code",
   "execution_count": 78,
   "id": "c26f4e50",
   "metadata": {},
   "outputs": [
    {
     "data": {
      "text/plain": [
       "array([[5, 5, 9, 2, 3],\n",
       "       [1, 4, 3, 6, 7],\n",
       "       [9, 9, 4, 4, 0]])"
      ]
     },
     "execution_count": 78,
     "metadata": {},
     "output_type": "execute_result"
    }
   ],
   "source": [
    "df"
   ]
  },
  {
   "cell_type": "code",
   "execution_count": 79,
   "id": "765f6482",
   "metadata": {},
   "outputs": [],
   "source": [
    "import pandas as pd"
   ]
  },
  {
   "cell_type": "code",
   "execution_count": 80,
   "id": "7f0addbf",
   "metadata": {},
   "outputs": [],
   "source": [
    "df=pd.DataFrame(df)"
   ]
  },
  {
   "cell_type": "code",
   "execution_count": 81,
   "id": "383470c8",
   "metadata": {},
   "outputs": [
    {
     "data": {
      "text/html": [
       "<div>\n",
       "<style scoped>\n",
       "    .dataframe tbody tr th:only-of-type {\n",
       "        vertical-align: middle;\n",
       "    }\n",
       "\n",
       "    .dataframe tbody tr th {\n",
       "        vertical-align: top;\n",
       "    }\n",
       "\n",
       "    .dataframe thead th {\n",
       "        text-align: right;\n",
       "    }\n",
       "</style>\n",
       "<table border=\"1\" class=\"dataframe\">\n",
       "  <thead>\n",
       "    <tr style=\"text-align: right;\">\n",
       "      <th></th>\n",
       "      <th>0</th>\n",
       "      <th>1</th>\n",
       "      <th>2</th>\n",
       "      <th>3</th>\n",
       "      <th>4</th>\n",
       "    </tr>\n",
       "  </thead>\n",
       "  <tbody>\n",
       "    <tr>\n",
       "      <th>0</th>\n",
       "      <td>5</td>\n",
       "      <td>5</td>\n",
       "      <td>9</td>\n",
       "      <td>2</td>\n",
       "      <td>3</td>\n",
       "    </tr>\n",
       "    <tr>\n",
       "      <th>1</th>\n",
       "      <td>1</td>\n",
       "      <td>4</td>\n",
       "      <td>3</td>\n",
       "      <td>6</td>\n",
       "      <td>7</td>\n",
       "    </tr>\n",
       "    <tr>\n",
       "      <th>2</th>\n",
       "      <td>9</td>\n",
       "      <td>9</td>\n",
       "      <td>4</td>\n",
       "      <td>4</td>\n",
       "      <td>0</td>\n",
       "    </tr>\n",
       "  </tbody>\n",
       "</table>\n",
       "</div>"
      ],
      "text/plain": [
       "   0  1  2  3  4\n",
       "0  5  5  9  2  3\n",
       "1  1  4  3  6  7\n",
       "2  9  9  4  4  0"
      ]
     },
     "execution_count": 81,
     "metadata": {},
     "output_type": "execute_result"
    }
   ],
   "source": [
    "df"
   ]
  },
  {
   "cell_type": "code",
   "execution_count": 84,
   "id": "d50fbcbf",
   "metadata": {},
   "outputs": [
    {
     "data": {
      "text/html": [
       "<div>\n",
       "<style scoped>\n",
       "    .dataframe tbody tr th:only-of-type {\n",
       "        vertical-align: middle;\n",
       "    }\n",
       "\n",
       "    .dataframe tbody tr th {\n",
       "        vertical-align: top;\n",
       "    }\n",
       "\n",
       "    .dataframe thead th {\n",
       "        text-align: right;\n",
       "    }\n",
       "</style>\n",
       "<table border=\"1\" class=\"dataframe\">\n",
       "  <thead>\n",
       "    <tr style=\"text-align: right;\">\n",
       "      <th></th>\n",
       "      <th>0</th>\n",
       "      <th>1</th>\n",
       "      <th>2</th>\n",
       "      <th>3</th>\n",
       "      <th>4</th>\n",
       "    </tr>\n",
       "  </thead>\n",
       "  <tbody>\n",
       "    <tr>\n",
       "      <th>0</th>\n",
       "      <td>5</td>\n",
       "      <td>5</td>\n",
       "      <td>9</td>\n",
       "      <td>2</td>\n",
       "      <td>3</td>\n",
       "    </tr>\n",
       "  </tbody>\n",
       "</table>\n",
       "</div>"
      ],
      "text/plain": [
       "   0  1  2  3  4\n",
       "0  5  5  9  2  3"
      ]
     },
     "execution_count": 84,
     "metadata": {},
     "output_type": "execute_result"
    }
   ],
   "source": [
    "df.loc[[0]]"
   ]
  },
  {
   "cell_type": "code",
   "execution_count": 90,
   "id": "eb755ff7",
   "metadata": {},
   "outputs": [
    {
     "ename": "AttributeError",
     "evalue": "'DataFrame' object has no attribute 'print_full'",
     "output_type": "error",
     "traceback": [
      "\u001b[0;31m---------------------------------------------------------------------------\u001b[0m",
      "\u001b[0;31mAttributeError\u001b[0m                            Traceback (most recent call last)",
      "Input \u001b[0;32mIn [90]\u001b[0m, in \u001b[0;36m<module>\u001b[0;34m\u001b[0m\n\u001b[0;32m----> 1\u001b[0m \u001b[43mdf\u001b[49m\u001b[38;5;241;43m.\u001b[39;49m\u001b[43mprint_full\u001b[49m()\n",
      "File \u001b[0;32m/opt/homebrew/lib/python3.9/site-packages/pandas/core/generic.py:5902\u001b[0m, in \u001b[0;36mNDFrame.__getattr__\u001b[0;34m(self, name)\u001b[0m\n\u001b[1;32m   5895\u001b[0m \u001b[38;5;28;01mif\u001b[39;00m (\n\u001b[1;32m   5896\u001b[0m     name \u001b[38;5;129;01mnot\u001b[39;00m \u001b[38;5;129;01min\u001b[39;00m \u001b[38;5;28mself\u001b[39m\u001b[38;5;241m.\u001b[39m_internal_names_set\n\u001b[1;32m   5897\u001b[0m     \u001b[38;5;129;01mand\u001b[39;00m name \u001b[38;5;129;01mnot\u001b[39;00m \u001b[38;5;129;01min\u001b[39;00m \u001b[38;5;28mself\u001b[39m\u001b[38;5;241m.\u001b[39m_metadata\n\u001b[1;32m   5898\u001b[0m     \u001b[38;5;129;01mand\u001b[39;00m name \u001b[38;5;129;01mnot\u001b[39;00m \u001b[38;5;129;01min\u001b[39;00m \u001b[38;5;28mself\u001b[39m\u001b[38;5;241m.\u001b[39m_accessors\n\u001b[1;32m   5899\u001b[0m     \u001b[38;5;129;01mand\u001b[39;00m \u001b[38;5;28mself\u001b[39m\u001b[38;5;241m.\u001b[39m_info_axis\u001b[38;5;241m.\u001b[39m_can_hold_identifiers_and_holds_name(name)\n\u001b[1;32m   5900\u001b[0m ):\n\u001b[1;32m   5901\u001b[0m     \u001b[38;5;28;01mreturn\u001b[39;00m \u001b[38;5;28mself\u001b[39m[name]\n\u001b[0;32m-> 5902\u001b[0m \u001b[38;5;28;01mreturn\u001b[39;00m \u001b[38;5;28;43mobject\u001b[39;49m\u001b[38;5;241;43m.\u001b[39;49m\u001b[38;5;21;43m__getattribute__\u001b[39;49m\u001b[43m(\u001b[49m\u001b[38;5;28;43mself\u001b[39;49m\u001b[43m,\u001b[49m\u001b[43m \u001b[49m\u001b[43mname\u001b[49m\u001b[43m)\u001b[49m\n",
      "\u001b[0;31mAttributeError\u001b[0m: 'DataFrame' object has no attribute 'print_full'"
     ]
    }
   ],
   "source": [
    "df.print_full()"
   ]
  },
  {
   "cell_type": "code",
   "execution_count": 91,
   "id": "d64b2619",
   "metadata": {},
   "outputs": [
    {
     "data": {
      "text/plain": [
       "<Axes: >"
      ]
     },
     "execution_count": 91,
     "metadata": {},
     "output_type": "execute_result"
    },
    {
     "data": {
      "image/png": "[encoded data removed]",
      "text/plain": [
       "<Figure size 432x288 with 1 Axes>"
      ]
     },
     "metadata": {
      "needs_background": "light"
     },
     "output_type": "display_data"
    }
   ],
   "source": [
    "df.plot()"
   ]
  },
  {
   "cell_type": "code",
   "execution_count": 95,
   "id": "7e1bd7b9",
   "metadata": {},
   "outputs": [
    {
     "data": {
      "text/plain": [
       "0    1\n",
       "1    7\n",
       "2    2\n",
       "dtype: int64"
      ]
     },
     "execution_count": 95,
     "metadata": {},
     "output_type": "execute_result"
    }
   ],
   "source": [
    "import pandas\n",
    "\n",
    "mydataset = {\n",
    "  'cars': [\"BMW\", \"Volvo\", \"Ford\"],\n",
    "  'passings': [3, 7, 2]\n",
    "}\n",
    "\n",
    "myvar = pandas.DataFrame(mydataset)\n",
    "a = [1, 7, 2]\n",
    "\n",
    "myvar1 = pd.Series(a)\n",
    "myvar1"
   ]
  },
  {
   "cell_type": "code",
   "execution_count": 99,
   "id": "67929e0d",
   "metadata": {},
   "outputs": [
    {
     "data": {
      "text/plain": [
       "7"
      ]
     },
     "execution_count": 99,
     "metadata": {},
     "output_type": "execute_result"
    }
   ],
   "source": [
    "myvar1[1]"
   ]
  },
  {
   "cell_type": "code",
   "execution_count": 100,
   "id": "1c06ad89",
   "metadata": {},
   "outputs": [
    {
     "name": "stdout",
     "output_type": "stream",
     "text": [
      "x    1\n",
      "y    7\n",
      "z    2\n",
      "dtype: int64\n"
     ]
    }
   ],
   "source": [
    "a = [1, 7, 2]\n",
    "\n",
    "myvar = pd.Series(a, index = [\"x\", \"y\", \"z\"])\n",
    "\n",
    "print(myvar)"
   ]
  },
  {
   "cell_type": "code",
   "execution_count": 102,
   "id": "901b6d15",
   "metadata": {},
   "outputs": [
    {
     "data": {
      "text/plain": [
       "7"
      ]
     },
     "execution_count": 102,
     "metadata": {},
     "output_type": "execute_result"
    }
   ],
   "source": [
    "myvar['y']"
   ]
  },
  {
   "cell_type": "code",
   "execution_count": 103,
   "id": "19c93c5c",
   "metadata": {},
   "outputs": [
    {
     "name": "stdout",
     "output_type": "stream",
     "text": [
      "day1    420\n",
      "day2    380\n",
      "day3    390\n",
      "dtype: int64\n"
     ]
    }
   ],
   "source": [
    "calories = {\"day1\": 420, \"day2\": 380, \"day3\": 390}\n",
    "\n",
    "myvar = pd.Series(calories)\n",
    "\n",
    "print(myvar)"
   ]
  },
  {
   "cell_type": "code",
   "execution_count": 104,
   "id": "41778e5d",
   "metadata": {},
   "outputs": [
    {
     "name": "stdout",
     "output_type": "stream",
     "text": [
      "day1    420\n",
      "day2    380\n",
      "dtype: int64\n"
     ]
    }
   ],
   "source": [
    "calories = {\"day1\": 420, \"day2\": 380, \"day3\": 390}\n",
    "\n",
    "myvar = pd.Series(calories, index = [\"day1\", \"day2\"])\n",
    "\n",
    "print(myvar)"
   ]
  },
  {
   "cell_type": "code",
   "execution_count": 111,
   "id": "c1afad9c",
   "metadata": {},
   "outputs": [
    {
     "name": "stdout",
     "output_type": "stream",
     "text": [
      "   Duration  Pulse  Maxpulse  Calories\n",
      "0        60    110       130     409.1\n",
      "1        60    117       145     479.0\n",
      "2        60    103       135     340.0\n",
      "3        45    109       175     282.4\n",
      "4        45    117       148     406.0\n",
      "5        60    102       127     300.5\n"
     ]
    },
    {
     "data": {
      "text/plain": [
       "0    117\n",
       "Name: Pulse, dtype: int64"
      ]
     },
     "execution_count": 111,
     "metadata": {},
     "output_type": "execute_result"
    }
   ],
   "source": [
    "data = {\n",
    "  \"Duration\":{\n",
    "    \"0\":60,\n",
    "    \"1\":60,\n",
    "    \"2\":60,\n",
    "    \"3\":45,\n",
    "    \"4\":45,\n",
    "    \"5\":60\n",
    "  },\n",
    "  \"Pulse\":{\n",
    "    \"0\":110,\n",
    "    \"1\":117,\n",
    "    \"2\":103,\n",
    "    \"3\":109,\n",
    "    \"4\":117,\n",
    "    \"5\":102\n",
    "  },\n",
    "  \"Maxpulse\":{\n",
    "    \"0\":130,\n",
    "    \"1\":145,\n",
    "    \"2\":135,\n",
    "    \"3\":175,\n",
    "    \"4\":148,\n",
    "    \"5\":127\n",
    "  },\n",
    "  \"Calories\":{\n",
    "    \"0\":409.1,\n",
    "    \"1\":479.0,\n",
    "    \"2\":340.0,\n",
    "    \"3\":282.4,\n",
    "    \"4\":406.0,\n",
    "    \"5\":300.5\n",
    "  }\n",
    "}\n",
    "\n",
    "df = pd.DataFrame(data)\n",
    "\n",
    "print(df) \n",
    "x=df['Pulse'].mode()\n",
    "x"
   ]
  },
  {
   "cell_type": "code",
   "execution_count": 113,
   "id": "1e50619b",
   "metadata": {},
   "outputs": [
    {
     "data": {
      "text/plain": [
       "117"
      ]
     },
     "execution_count": 113,
     "metadata": {},
     "output_type": "execute_result"
    }
   ],
   "source": [
    "x[0]"
   ]
  },
  {
   "cell_type": "code",
   "execution_count": 124,
   "id": "2bdff49d",
   "metadata": {},
   "outputs": [],
   "source": [
    "from scipy import constants"
   ]
  },
  {
   "cell_type": "code",
   "execution_count": 129,
   "id": "8b023e5a",
   "metadata": {},
   "outputs": [
    {
     "data": {
      "text/plain": [
       "3600.0"
      ]
     },
     "execution_count": 129,
     "metadata": {},
     "output_type": "execute_result"
    }
   ],
   "source": [
    "constants.hour"
   ]
  },
  {
   "cell_type": "code",
   "execution_count": 137,
   "id": "7da29c39",
   "metadata": {},
   "outputs": [],
   "source": [
    "from scipy.optimize import root\n"
   ]
  },
  {
   "cell_type": "code",
   "execution_count": 140,
   "id": "7da90989",
   "metadata": {},
   "outputs": [],
   "source": [
    "def ff(x):\n",
    "    return x+4\n",
    "myroot=root(ff,0)"
   ]
  },
  {
   "cell_type": "code",
   "execution_count": 153,
   "id": "42ad78d5",
   "metadata": {},
   "outputs": [
    {
     "data": {
      "image/png": "[encoded data removed]",
      "text/plain": [
       "<Figure size 432x288 with 1 Axes>"
      ]
     },
     "metadata": {
      "needs_background": "light"
     },
     "output_type": "display_data"
    }
   ],
   "source": [
    "import numpy as np\n",
    "from scipy.spatial import Delaunay\n",
    "import matplotlib.pyplot as plt\n",
    "\n",
    "points = np.array([\n",
    "  [2, 4],\n",
    "  [3, 4],\n",
    "  [3, 0],\n",
    "  [2, 2],\n",
    "  [4, 1]\n",
    "])\n",
    "\n",
    "simplices = Delaunay(points).simplices\n",
    "\n",
    "# plt.triplot(points[:, 0], points[:, 1], simplices)\n",
    "plt.scatter(points[:, 0], points[:, 1], color='r')\n",
    "\n",
    "plt.show()"
   ]
  },
  {
   "cell_type": "code",
   "execution_count": 155,
   "id": "9854c582",
   "metadata": {},
   "outputs": [],
   "source": [
    "speed = [99,86,87,88,111,86,103,87,94,78,77,85,86]\n",
    "\n",
    "x = np.mean(speed)\n"
   ]
  },
  {
   "cell_type": "code",
   "execution_count": 162,
   "id": "159b8134",
   "metadata": {},
   "outputs": [
    {
     "ename": "AttributeError",
     "evalue": "module 'math' has no attribute 'mean'",
     "output_type": "error",
     "traceback": [
      "\u001b[0;31m---------------------------------------------------------------------------\u001b[0m",
      "\u001b[0;31mAttributeError\u001b[0m                            Traceback (most recent call last)",
      "Input \u001b[0;32mIn [162]\u001b[0m, in \u001b[0;36m<module>\u001b[0;34m\u001b[0m\n\u001b[1;32m      1\u001b[0m \u001b[38;5;28;01mimport\u001b[39;00m \u001b[38;5;21;01mmath\u001b[39;00m\n\u001b[0;32m----> 2\u001b[0m x\u001b[38;5;241m=\u001b[39m\u001b[43mmath\u001b[49m\u001b[38;5;241;43m.\u001b[39;49m\u001b[43mmean\u001b[49m(speed)\n",
      "\u001b[0;31mAttributeError\u001b[0m: module 'math' has no attribute 'mean'"
     ]
    }
   ],
   "source": [
    "import math\n",
    "x=math.mean(speed)"
   ]
  },
  {
   "cell_type": "code",
   "execution_count": 163,
   "id": "e9055471",
   "metadata": {},
   "outputs": [],
   "source": [
    "x=pd.DataFrame(speed)"
   ]
  },
  {
   "cell_type": "code",
   "execution_count": 168,
   "id": "f66640d4",
   "metadata": {},
   "outputs": [
    {
     "data": {
      "text/plain": [
       "89.76923076923077"
      ]
     },
     "execution_count": 168,
     "metadata": {},
     "output_type": "execute_result"
    }
   ],
   "source": [
    "x[0].mean()"
   ]
  },
  {
   "cell_type": "code",
   "execution_count": 173,
   "id": "ed644f12",
   "metadata": {},
   "outputs": [],
   "source": [
    "x=pd.DataFrame(speed)"
   ]
  },
  {
   "cell_type": "code",
   "execution_count": 174,
   "id": "fbd0e6e1",
   "metadata": {},
   "outputs": [
    {
     "data": {
      "text/html": [
       "<div>\n",
       "<style scoped>\n",
       "    .dataframe tbody tr th:only-of-type {\n",
       "        vertical-align: middle;\n",
       "    }\n",
       "\n",
       "    .dataframe tbody tr th {\n",
       "        vertical-align: top;\n",
       "    }\n",
       "\n",
       "    .dataframe thead th {\n",
       "        text-align: right;\n",
       "    }\n",
       "</style>\n",
       "<table border=\"1\" class=\"dataframe\">\n",
       "  <thead>\n",
       "    <tr style=\"text-align: right;\">\n",
       "      <th></th>\n",
       "      <th>0</th>\n",
       "    </tr>\n",
       "  </thead>\n",
       "  <tbody>\n",
       "    <tr>\n",
       "      <th>0</th>\n",
       "      <td>99</td>\n",
       "    </tr>\n",
       "    <tr>\n",
       "      <th>1</th>\n",
       "      <td>86</td>\n",
       "    </tr>\n",
       "    <tr>\n",
       "      <th>2</th>\n",
       "      <td>87</td>\n",
       "    </tr>\n",
       "    <tr>\n",
       "      <th>3</th>\n",
       "      <td>88</td>\n",
       "    </tr>\n",
       "    <tr>\n",
       "      <th>4</th>\n",
       "      <td>111</td>\n",
       "    </tr>\n",
       "    <tr>\n",
       "      <th>5</th>\n",
       "      <td>86</td>\n",
       "    </tr>\n",
       "    <tr>\n",
       "      <th>6</th>\n",
       "      <td>103</td>\n",
       "    </tr>\n",
       "    <tr>\n",
       "      <th>7</th>\n",
       "      <td>87</td>\n",
       "    </tr>\n",
       "    <tr>\n",
       "      <th>8</th>\n",
       "      <td>94</td>\n",
       "    </tr>\n",
       "    <tr>\n",
       "      <th>9</th>\n",
       "      <td>78</td>\n",
       "    </tr>\n",
       "    <tr>\n",
       "      <th>10</th>\n",
       "      <td>77</td>\n",
       "    </tr>\n",
       "    <tr>\n",
       "      <th>11</th>\n",
       "      <td>85</td>\n",
       "    </tr>\n",
       "    <tr>\n",
       "      <th>12</th>\n",
       "      <td>86</td>\n",
       "    </tr>\n",
       "  </tbody>\n",
       "</table>\n",
       "</div>"
      ],
      "text/plain": [
       "      0\n",
       "0    99\n",
       "1    86\n",
       "2    87\n",
       "3    88\n",
       "4   111\n",
       "5    86\n",
       "6   103\n",
       "7    87\n",
       "8    94\n",
       "9    78\n",
       "10   77\n",
       "11   85\n",
       "12   86"
      ]
     },
     "execution_count": 174,
     "metadata": {},
     "output_type": "execute_result"
    }
   ],
   "source": [
    "x"
   ]
  },
  {
   "cell_type": "code",
   "execution_count": 193,
   "id": "3a33d33c",
   "metadata": {},
   "outputs": [
    {
     "data": {
      "image/png": "[encoded data removed]",
      "text/plain": [
       "<Figure size 432x288 with 1 Axes>"
      ]
     },
     "metadata": {
      "needs_background": "light"
     },
     "output_type": "display_data"
    }
   ],
   "source": [
    "import numpy\n",
    "import matplotlib.pyplot as plt\n",
    "\n",
    "x = [1,2,3,5,6,7,8,9,10,12,13,14,15,16,18,19,21,22]\n",
    "y = [100,90,80,60,60,55,60,65,70,70,75,76,78,79,90,99,99,100]\n",
    "\n",
    "mymodel = numpy.poly1d(numpy.polyfit(x, y, 4))\n",
    "\n",
    "myline = numpy.linspace(1, 22, 10)\n",
    "\n",
    "plt.scatter(x, y)\n",
    "plt.plot(myline,mymodel(myline),'r:*')\n",
    "plt.show()"
   ]
  },
  {
   "cell_type": "code",
   "execution_count": 187,
   "id": "abd1974d",
   "metadata": {},
   "outputs": [
    {
     "data": {
      "text/plain": [
       "poly1d([-3.03208795e-02,  1.34333191e+00, -1.55383039e+01,  1.13768037e+02])"
      ]
     },
     "execution_count": 187,
     "metadata": {},
     "output_type": "execute_result"
    }
   ],
   "source": [
    "mymodel"
   ]
  },
  {
   "cell_type": "code",
   "execution_count": 191,
   "id": "927f7a3a",
   "metadata": {},
   "outputs": [
    {
     "data": {
      "text/plain": [
       "array([-3.03208795e-02,  1.34333191e+00, -1.55383039e+01,  1.13768037e+02])"
      ]
     },
     "execution_count": 191,
     "metadata": {},
     "output_type": "execute_result"
    }
   ],
   "source": [
    "numpy.polyfit(x, y, 3)"
   ]
  },
  {
   "cell_type": "code",
   "execution_count": 204,
   "id": "c2c39a4f",
   "metadata": {},
   "outputs": [
    {
     "name": "stderr",
     "output_type": "stream",
     "text": [
      "/opt/homebrew/lib/python3.9/site-packages/sklearn/cluster/_agglomerative.py:1005: FutureWarning: Attribute `affinity` was deprecated in version 1.2 and will be removed in 1.4. Use `metric` instead\n",
      "  warnings.warn(\n"
     ]
    },
    {
     "data": {
      "image/png": "[encoded data removed]",
      "text/plain": [
       "<Figure size 432x288 with 1 Axes>"
      ]
     },
     "metadata": {
      "needs_background": "light"
     },
     "output_type": "display_data"
    }
   ],
   "source": [
    "import numpy as np\n",
    "import matplotlib.pyplot as plt\n",
    "from sklearn.cluster import AgglomerativeClustering\n",
    "\n",
    "x = [4, 5, 10, 4, 3, 11, 14 , 6, 10, 12]\n",
    "y = [21, 19, 24, 17, 16, 25, 24, 22, 21, 21]\n",
    "\n",
    "data = list(zip(x, y))\n",
    "\n",
    "hierarchical_cluster = AgglomerativeClustering(n_clusters=2, affinity='euclidean', linkage='ward')\n",
    "labels1 = hierarchical_cluster.fit_predict(data)\n",
    "\n",
    "plt.scatter(x, y, c=labels)\n",
    "plt.legend(labels=labels1)\n",
    "plt.show()"
   ]
  },
  {
   "cell_type": "code",
   "execution_count": 205,
   "id": "2d7016e7",
   "metadata": {},
   "outputs": [
    {
     "data": {
      "text/plain": [
       "array([0, 0, 1, 0, 0, 1, 1, 0, 1, 1])"
      ]
     },
     "execution_count": 205,
     "metadata": {},
     "output_type": "execute_result"
    }
   ],
   "source": [
    "labels1"
   ]
  },
  {
   "cell_type": "code",
   "execution_count": 206,
   "id": "387792f2",
   "metadata": {},
   "outputs": [],
   "source": [
    "from sklearn import linear_model as lin\n",
    "\n"
   ]
  },
  {
   "cell_type": "code",
   "execution_count": 207,
   "id": "236cb6eb",
   "metadata": {},
   "outputs": [],
   "source": [
    "logr=lin.LogisticRegression()"
   ]
  },
  {
   "cell_type": "code",
   "execution_count": 215,
   "id": "823f97a9",
   "metadata": {},
   "outputs": [
    {
     "data": {
      "text/html": [
       "<style>#sk-container-id-1 {color: black;}#sk-container-id-1 pre{padding: 0;}#sk-container-id-1 div.sk-toggleable {background-color: white;}#sk-container-id-1 label.sk-toggleable__label {cursor: pointer;display: block;width: 100%;margin-bottom: 0;padding: 0.3em;box-sizing: border-box;text-align: center;}#sk-container-id-1 label.sk-toggleable__label-arrow:before {content: \"▸\";float: left;margin-right: 0.25em;color: #696969;}#sk-container-id-1 label.sk-toggleable__label-arrow:hover:before {color: black;}#sk-container-id-1 div.sk-estimator:hover label.sk-toggleable__label-arrow:before {color: black;}#sk-container-id-1 div.sk-toggleable__content {max-height: 0;max-width: 0;overflow: hidden;text-align: left;background-color: #f0f8ff;}#sk-container-id-1 div.sk-toggleable__content pre {margin: 0.2em;color: black;border-radius: 0.25em;background-color: #f0f8ff;}#sk-container-id-1 input.sk-toggleable__control:checked~div.sk-toggleable__content {max-height: 200px;max-width: 100%;overflow: auto;}#sk-container-id-1 input.sk-toggleable__control:checked~label.sk-toggleable__label-arrow:before {content: \"▾\";}#sk-container-id-1 div.sk-estimator input.sk-toggleable__control:checked~label.sk-toggleable__label {background-color: #d4ebff;}#sk-container-id-1 div.sk-label input.sk-toggleable__control:checked~label.sk-toggleable__label {background-color: #d4ebff;}#sk-container-id-1 input.sk-hidden--visually {border: 0;clip: rect(1px 1px 1px 1px);clip: rect(1px, 1px, 1px, 1px);height: 1px;margin: -1px;overflow: hidden;padding: 0;position: absolute;width: 1px;}#sk-container-id-1 div.sk-estimator {font-family: monospace;background-color: #f0f8ff;border: 1px dotted black;border-radius: 0.25em;box-sizing: border-box;margin-bottom: 0.5em;}#sk-container-id-1 div.sk-estimator:hover {background-color: #d4ebff;}#sk-container-id-1 div.sk-parallel-item::after {content: \"\";width: 100%;border-bottom: 1px solid gray;flex-grow: 1;}#sk-container-id-1 div.sk-label:hover label.sk-toggleable__label {background-color: #d4ebff;}#sk-container-id-1 div.sk-serial::before {content: \"\";position: absolute;border-left: 1px solid gray;box-sizing: border-box;top: 0;bottom: 0;left: 50%;z-index: 0;}#sk-container-id-1 div.sk-serial {display: flex;flex-direction: column;align-items: center;background-color: white;padding-right: 0.2em;padding-left: 0.2em;position: relative;}#sk-container-id-1 div.sk-item {position: relative;z-index: 1;}#sk-container-id-1 div.sk-parallel {display: flex;align-items: stretch;justify-content: center;background-color: white;position: relative;}#sk-container-id-1 div.sk-item::before, #sk-container-id-1 div.sk-parallel-item::before {content: \"\";position: absolute;border-left: 1px solid gray;box-sizing: border-box;top: 0;bottom: 0;left: 50%;z-index: -1;}#sk-container-id-1 div.sk-parallel-item {display: flex;flex-direction: column;z-index: 1;position: relative;background-color: white;}#sk-container-id-1 div.sk-parallel-item:first-child::after {align-self: flex-end;width: 50%;}#sk-container-id-1 div.sk-parallel-item:last-child::after {align-self: flex-start;width: 50%;}#sk-container-id-1 div.sk-parallel-item:only-child::after {width: 0;}#sk-container-id-1 div.sk-dashed-wrapped {border: 1px dashed gray;margin: 0 0.4em 0.5em 0.4em;box-sizing: border-box;padding-bottom: 0.4em;background-color: white;}#sk-container-id-1 div.sk-label label {font-family: monospace;font-weight: bold;display: inline-block;line-height: 1.2em;}#sk-container-id-1 div.sk-label-container {text-align: center;}#sk-container-id-1 div.sk-container {/* jupyter's `normalize.less` sets `[hidden] { display: none; }` but bootstrap.min.css set `[hidden] { display: none !important; }` so we also need the `!important` here to be able to override the default hidden behavior on the sphinx rendered scikit-learn.org. See: https://github.com/scikit-learn/scikit-learn/issues/21755 */display: inline-block !important;position: relative;}#sk-container-id-1 div.sk-text-repr-fallback {display: none;}</style><div id=\"sk-container-id-1\" class=\"sk-top-container\"><div class=\"sk-text-repr-fallback\"><pre>LogisticRegression()</pre><b>In a Jupyter environment, please rerun this cell to show the HTML representation or trust the notebook. <br />On GitHub, the HTML representation is unable to render, please try loading this page with nbviewer.org.</b></div><div class=\"sk-container\" hidden><div class=\"sk-item\"><div class=\"sk-estimator sk-toggleable\"><input class=\"sk-toggleable__control sk-hidden--visually\" id=\"sk-estimator-id-1\" type=\"checkbox\" checked><label for=\"sk-estimator-id-1\" class=\"sk-toggleable__label sk-toggleable__label-arrow\">LogisticRegression</label><div class=\"sk-toggleable__content\"><pre>LogisticRegression()</pre></div></div></div></div></div>"
      ],
      "text/plain": [
       "LogisticRegression()"
      ]
     },
     "execution_count": 215,
     "metadata": {},
     "output_type": "execute_result"
    }
   ],
   "source": [
    "logr.fit(np.random.normal(5,1,1000).reshape(-1,1),np.random.binomial(1,0.2,1000))"
   ]
  },
  {
   "cell_type": "code",
   "execution_count": 220,
   "id": "4c59eed8",
   "metadata": {},
   "outputs": [
    {
     "data": {
      "text/plain": [
       "array([0])"
      ]
     },
     "execution_count": 220,
     "metadata": {},
     "output_type": "execute_result"
    }
   ],
   "source": [
    "logr.predict(np.array(4).reshape(-1,1))"
   ]
  },
  {
   "cell_type": "code",
   "execution_count": 233,
   "id": "a6e3ecc2",
   "metadata": {},
   "outputs": [
    {
     "name": "stderr",
     "output_type": "stream",
     "text": [
      "/opt/homebrew/lib/python3.9/site-packages/sklearn/cluster/_kmeans.py:1412: FutureWarning: The default value of `n_init` will change from 10 to 'auto' in 1.4. Set the value of `n_init` explicitly to suppress the warning\n",
      "  super()._check_params_vs_input(X, default_n_init=10)\n",
      "/var/folders/nd/dj_lrx2d6j3fccjhjy5pqygc0000gn/T/ipykernel_23675/3107186818.py:18: UserWarning: Matplotlib is currently using agg, which is a non-GUI backend, so cannot show the figure.\n",
      "  plt.show()\n"
     ]
    },
    {
     "data": {
      "image/png": "[encoded data removed]",
      "text/plain": [
       "<Figure size 432x288 with 1 Axes>"
      ]
     },
     "metadata": {
      "needs_background": "light"
     },
     "output_type": "display_data"
    }
   ],
   "source": [
    "#Three lines to make our compiler able to draw:\n",
    "import sys\n",
    "import matplotlib\n",
    "matplotlib.use('Agg')\n",
    "\n",
    "import matplotlib.pyplot as plt\n",
    "from sklearn.cluster import KMeans\n",
    "\n",
    "x = [4, 5, 10, 4, 3, 11, 14 , 6, 10, 12]\n",
    "y = [21, 19, 24, 17, 16, 25, 24, 22, 21, 21]\n",
    "\n",
    "data = list(zip(x, y))\n",
    "\n",
    "kmeans = KMeans(n_clusters=2)\n",
    "kmeans.fit(data)\n",
    "\n",
    "plt.scatter(x, y, c=kmeans.labels_)\n",
    "plt.show()\n",
    "\n",
    "#Two  lines to make our compiler able to dra)\n"
   ]
  },
  {
   "cell_type": "code",
   "execution_count": 225,
   "id": "85ea387e",
   "metadata": {},
   "outputs": [
    {
     "data": {
      "text/plain": [
       "array([1, 1, 0, 1, 1, 0, 0, 1, 0, 0], dtype=int32)"
      ]
     },
     "execution_count": 225,
     "metadata": {},
     "output_type": "execute_result"
    }
   ],
   "source": [
    "kmeans.labels_"
   ]
  },
  {
   "cell_type": "code",
   "execution_count": 1,
   "id": "a87f9a3e",
   "metadata": {},
   "outputs": [],
   "source": [
    "import pandas as pd"
   ]
  },
  {
   "cell_type": "code",
   "execution_count": 2,
   "id": "c2635114",
   "metadata": {},
   "outputs": [],
   "source": [
    "path='/Users/murat/Downloads/Value_of_Energy_Cost_Savings_Program_Savings_for_Businesses.csv'"
   ]
  },
  {
   "cell_type": "code",
   "execution_count": 4,
   "id": "d2c15f1d",
   "metadata": {},
   "outputs": [],
   "source": [
    "df=pd.read_csv(path, header=0)"
   ]
  },
  {
   "cell_type": "markdown",
   "id": "fefbf294",
   "metadata": {},
   "source": [
    "### How many different comp?"
   ]
  },
  {
   "cell_type": "code",
   "execution_count": 6,
   "id": "0e1ef887",
   "metadata": {},
   "outputs": [
    {
     "data": {
      "text/html": [
       "<div>\n",
       "<style scoped>\n",
       "    .dataframe tbody tr th:only-of-type {\n",
       "        vertical-align: middle;\n",
       "    }\n",
       "\n",
       "    .dataframe tbody tr th {\n",
       "        vertical-align: top;\n",
       "    }\n",
       "\n",
       "    .dataframe thead th {\n",
       "        text-align: right;\n",
       "    }\n",
       "</style>\n",
       "<table border=\"1\" class=\"dataframe\">\n",
       "  <thead>\n",
       "    <tr style=\"text-align: right;\">\n",
       "      <th></th>\n",
       "      <th>Period</th>\n",
       "      <th>Company Name</th>\n",
       "      <th>company contact</th>\n",
       "      <th>company email</th>\n",
       "      <th>company phone</th>\n",
       "      <th>Address</th>\n",
       "      <th>City</th>\n",
       "      <th>State</th>\n",
       "      <th>Postcode</th>\n",
       "      <th>Industry</th>\n",
       "      <th>...</th>\n",
       "      <th>Electric Savings</th>\n",
       "      <th>Borough</th>\n",
       "      <th>Latitude</th>\n",
       "      <th>Longitude</th>\n",
       "      <th>Community Board</th>\n",
       "      <th>Council District</th>\n",
       "      <th>BIN</th>\n",
       "      <th>BBL</th>\n",
       "      <th>Census Tract (2020)</th>\n",
       "      <th>Neighborhood Tabulation Area (NTA) (2020)</th>\n",
       "    </tr>\n",
       "  </thead>\n",
       "  <tbody>\n",
       "    <tr>\n",
       "      <th>0</th>\n",
       "      <td>FY2018</td>\n",
       "      <td>139 ACA Realty, Inc.</td>\n",
       "      <td>Eitan Chandally</td>\n",
       "      <td>barbara@dial7.com</td>\n",
       "      <td>7187076123</td>\n",
       "      <td>43-23 35th Street</td>\n",
       "      <td>Long Island City</td>\n",
       "      <td>NY</td>\n",
       "      <td>11101</td>\n",
       "      <td>Commercial</td>\n",
       "      <td>...</td>\n",
       "      <td>NaN</td>\n",
       "      <td>QUEENS</td>\n",
       "      <td>40.745706</td>\n",
       "      <td>-73.929565</td>\n",
       "      <td>402.0</td>\n",
       "      <td>26.0</td>\n",
       "      <td>4003160.0</td>\n",
       "      <td>4.002220e+09</td>\n",
       "      <td>17902.0</td>\n",
       "      <td>QN0202</td>\n",
       "    </tr>\n",
       "    <tr>\n",
       "      <th>1</th>\n",
       "      <td>FY2018</td>\n",
       "      <td>141 Lake Avenue Realty c/o JR Produce, Inc.</td>\n",
       "      <td>Josef Raz</td>\n",
       "      <td>jrproduce@gmail.com</td>\n",
       "      <td>7183708782</td>\n",
       "      <td>141 Lake Avenue</td>\n",
       "      <td>Staten Island</td>\n",
       "      <td>NY</td>\n",
       "      <td>10303</td>\n",
       "      <td>Wholesale/Warehouse/Distribution</td>\n",
       "      <td>...</td>\n",
       "      <td>NaN</td>\n",
       "      <td>STATEN IS</td>\n",
       "      <td>40.632845</td>\n",
       "      <td>-74.151048</td>\n",
       "      <td>501.0</td>\n",
       "      <td>49.0</td>\n",
       "      <td>5146740.0</td>\n",
       "      <td>5.011610e+09</td>\n",
       "      <td>239.0</td>\n",
       "      <td>SI0107</td>\n",
       "    </tr>\n",
       "    <tr>\n",
       "      <th>2</th>\n",
       "      <td>FY2018</td>\n",
       "      <td>14-10 123rd Street LLC</td>\n",
       "      <td>Danica/Ivan Drazic</td>\n",
       "      <td>ddrazic@atjelectrical.com</td>\n",
       "      <td>7183210117</td>\n",
       "      <td>14-10 123rd Street</td>\n",
       "      <td>College Point</td>\n",
       "      <td>NY</td>\n",
       "      <td>11356</td>\n",
       "      <td>Commercial</td>\n",
       "      <td>...</td>\n",
       "      <td>NaN</td>\n",
       "      <td>QUEENS</td>\n",
       "      <td>40.785144</td>\n",
       "      <td>-73.844833</td>\n",
       "      <td>407.0</td>\n",
       "      <td>19.0</td>\n",
       "      <td>4098344.0</td>\n",
       "      <td>4.040850e+09</td>\n",
       "      <td>929.0</td>\n",
       "      <td>QN0701</td>\n",
       "    </tr>\n",
       "    <tr>\n",
       "      <th>3</th>\n",
       "      <td>FY2018</td>\n",
       "      <td>183 Lorriane Street LLC</td>\n",
       "      <td>Tom Sapienza</td>\n",
       "      <td>tsapienza@KLCNY.com</td>\n",
       "      <td>2128405588</td>\n",
       "      <td>183 Lorraine Street</td>\n",
       "      <td>Brooklyn</td>\n",
       "      <td>NY</td>\n",
       "      <td>11231</td>\n",
       "      <td>Wholesale/Warehouse/Distribution</td>\n",
       "      <td>...</td>\n",
       "      <td>NaN</td>\n",
       "      <td>BROOKLYN</td>\n",
       "      <td>40.673106</td>\n",
       "      <td>-74.002300</td>\n",
       "      <td>306.0</td>\n",
       "      <td>38.0</td>\n",
       "      <td>3336622.0</td>\n",
       "      <td>3.005720e+09</td>\n",
       "      <td>5302.0</td>\n",
       "      <td>BK0601</td>\n",
       "    </tr>\n",
       "    <tr>\n",
       "      <th>4</th>\n",
       "      <td>FY2018</td>\n",
       "      <td>21st Century Optics, Inc.</td>\n",
       "      <td>Ralph Woythaler</td>\n",
       "      <td>rwoythaler@21st centuryoptics.com</td>\n",
       "      <td>7183922310</td>\n",
       "      <td>47-00 33rd Street</td>\n",
       "      <td>Lond Island City</td>\n",
       "      <td>NY</td>\n",
       "      <td>11101</td>\n",
       "      <td>Manufacturing</td>\n",
       "      <td>...</td>\n",
       "      <td>NaN</td>\n",
       "      <td>QUEENS</td>\n",
       "      <td>40.742386</td>\n",
       "      <td>-73.932148</td>\n",
       "      <td>402.0</td>\n",
       "      <td>26.0</td>\n",
       "      <td>4003447.0</td>\n",
       "      <td>4.002520e+09</td>\n",
       "      <td>19901.0</td>\n",
       "      <td>QN0202</td>\n",
       "    </tr>\n",
       "  </tbody>\n",
       "</table>\n",
       "<p>5 rows × 30 columns</p>\n",
       "</div>"
      ],
      "text/plain": [
       "   Period                                 Company Name     company contact  \\\n",
       "0  FY2018                         139 ACA Realty, Inc.     Eitan Chandally   \n",
       "1  FY2018  141 Lake Avenue Realty c/o JR Produce, Inc.           Josef Raz   \n",
       "2  FY2018                       14-10 123rd Street LLC  Danica/Ivan Drazic   \n",
       "3  FY2018                      183 Lorriane Street LLC        Tom Sapienza   \n",
       "4  FY2018                    21st Century Optics, Inc.     Ralph Woythaler   \n",
       "\n",
       "                       company email company phone              Address  \\\n",
       "0                  barbara@dial7.com    7187076123    43-23 35th Street   \n",
       "1                jrproduce@gmail.com    7183708782      141 Lake Avenue   \n",
       "2          ddrazic@atjelectrical.com    7183210117   14-10 123rd Street   \n",
       "3                tsapienza@KLCNY.com    2128405588  183 Lorraine Street   \n",
       "4  rwoythaler@21st centuryoptics.com    7183922310    47-00 33rd Street   \n",
       "\n",
       "               City State  Postcode                          Industry  ...  \\\n",
       "0  Long Island City    NY     11101                        Commercial  ...   \n",
       "1     Staten Island    NY     10303  Wholesale/Warehouse/Distribution  ...   \n",
       "2     College Point    NY     11356                        Commercial  ...   \n",
       "3          Brooklyn    NY     11231  Wholesale/Warehouse/Distribution  ...   \n",
       "4  Lond Island City    NY     11101                     Manufacturing  ...   \n",
       "\n",
       "  Electric Savings    Borough   Latitude  Longitude  Community Board  \\\n",
       "0              NaN     QUEENS  40.745706 -73.929565            402.0   \n",
       "1              NaN  STATEN IS  40.632845 -74.151048            501.0   \n",
       "2              NaN     QUEENS  40.785144 -73.844833            407.0   \n",
       "3              NaN   BROOKLYN  40.673106 -74.002300            306.0   \n",
       "4              NaN     QUEENS  40.742386 -73.932148            402.0   \n",
       "\n",
       "  Council District        BIN           BBL  Census Tract (2020)  \\\n",
       "0             26.0  4003160.0  4.002220e+09              17902.0   \n",
       "1             49.0  5146740.0  5.011610e+09                239.0   \n",
       "2             19.0  4098344.0  4.040850e+09                929.0   \n",
       "3             38.0  3336622.0  3.005720e+09               5302.0   \n",
       "4             26.0  4003447.0  4.002520e+09              19901.0   \n",
       "\n",
       "   Neighborhood Tabulation Area (NTA) (2020)  \n",
       "0                                     QN0202  \n",
       "1                                     SI0107  \n",
       "2                                     QN0701  \n",
       "3                                     BK0601  \n",
       "4                                     QN0202  \n",
       "\n",
       "[5 rows x 30 columns]"
      ]
     },
     "execution_count": 6,
     "metadata": {},
     "output_type": "execute_result"
    }
   ],
   "source": [
    "df.head()"
   ]
  },
  {
   "cell_type": "code",
   "execution_count": 27,
   "id": "0ef88568",
   "metadata": {},
   "outputs": [
    {
     "data": {
      "text/plain": [
       "787"
      ]
     },
     "execution_count": 27,
     "metadata": {},
     "output_type": "execute_result"
    }
   ],
   "source": [
    "# len(df['Company Name'].value_counts())\n",
    "df['Company Name'].nunique()"
   ]
  },
  {
   "cell_type": "code",
   "execution_count": 21,
   "id": "552ea861",
   "metadata": {},
   "outputs": [
    {
     "data": {
      "text/plain": [
       "4"
      ]
     },
     "execution_count": 21,
     "metadata": {},
     "output_type": "execute_result"
    }
   ],
   "source": [
    "len(df['State'].value_counts())"
   ]
  },
  {
   "cell_type": "code",
   "execution_count": 28,
   "id": "a19e2106",
   "metadata": {},
   "outputs": [
    {
     "data": {
      "text/plain": [
       "Index(['Period', 'Company Name', 'company contact', 'company email',\n",
       "       'company phone', 'Address', 'City', 'State', 'Postcode', 'Industry',\n",
       "       'Industry descr', 'Company Type', 'Current fulltime', 'Job created',\n",
       "       'Job retain', 'Effective Date', 'Total Savings',\n",
       "       'Savings from beginning receiving benefits', 'Gas Savings',\n",
       "       'Cogen savings', 'Electric Savings', 'Borough', 'Latitude', 'Longitude',\n",
       "       'Community Board', 'Council District', 'BIN', 'BBL',\n",
       "       'Census Tract (2020)', 'Neighborhood Tabulation Area (NTA) (2020)'],\n",
       "      dtype='object')"
      ]
     },
     "execution_count": 28,
     "metadata": {},
     "output_type": "execute_result"
    }
   ],
   "source": [
    "df.columns"
   ]
  },
  {
   "cell_type": "code",
   "execution_count": 29,
   "id": "6598b0eb",
   "metadata": {},
   "outputs": [
    {
     "name": "stdout",
     "output_type": "stream",
     "text": [
      "<class 'pandas.core.frame.DataFrame'>\n",
      "RangeIndex: 2363 entries, 0 to 2362\n",
      "Data columns (total 30 columns):\n",
      " #   Column                                     Non-Null Count  Dtype  \n",
      "---  ------                                     --------------  -----  \n",
      " 0   Period                                     2363 non-null   object \n",
      " 1   Company Name                               2363 non-null   object \n",
      " 2   company contact                            2363 non-null   object \n",
      " 3   company email                              2234 non-null   object \n",
      " 4   company phone                              2360 non-null   object \n",
      " 5   Address                                    2363 non-null   object \n",
      " 6   City                                       2357 non-null   object \n",
      " 7   State                                      2363 non-null   object \n",
      " 8   Postcode                                   2363 non-null   int64  \n",
      " 9   Industry                                   2363 non-null   object \n",
      " 10  Industry descr                             2164 non-null   object \n",
      " 11  Company Type                               2363 non-null   object \n",
      " 12  Current fulltime                           2350 non-null   float64\n",
      " 13  Job created                                229 non-null    float64\n",
      " 14  Job retain                                 339 non-null    float64\n",
      " 15  Effective Date                             2363 non-null   object \n",
      " 16  Total Savings                              2363 non-null   float64\n",
      " 17  Savings from beginning receiving benefits  2363 non-null   float64\n",
      " 18  Gas Savings                                801 non-null    float64\n",
      " 19  Cogen savings                              801 non-null    float64\n",
      " 20  Electric Savings                           801 non-null    float64\n",
      " 21  Borough                                    2149 non-null   object \n",
      " 22  Latitude                                   2144 non-null   float64\n",
      " 23  Longitude                                  2144 non-null   float64\n",
      " 24  Community Board                            2144 non-null   float64\n",
      " 25  Council District                           2144 non-null   float64\n",
      " 26  BIN                                        2111 non-null   float64\n",
      " 27  BBL                                        2111 non-null   float64\n",
      " 28  Census Tract (2020)                        2144 non-null   float64\n",
      " 29  Neighborhood Tabulation Area (NTA) (2020)  2144 non-null   object \n",
      "dtypes: float64(15), int64(1), object(14)\n",
      "memory usage: 554.0+ KB\n"
     ]
    }
   ],
   "source": [
    "df.info()"
   ]
  },
  {
   "cell_type": "code",
   "execution_count": 32,
   "id": "6cfdddf6",
   "metadata": {},
   "outputs": [
    {
     "data": {
      "text/plain": [
       "1196.0"
      ]
     },
     "execution_count": 32,
     "metadata": {},
     "output_type": "execute_result"
    }
   ],
   "source": [
    "df[df['Borough']=='QUEENS']['Job created'].sum()"
   ]
  },
  {
   "cell_type": "code",
   "execution_count": 40,
   "id": "cd155d78",
   "metadata": {},
   "outputs": [
    {
     "data": {
      "text/plain": [
       "Borough\n",
       "BRONX         696.0\n",
       "BROOKLYN     1301.0\n",
       "MANHATTAN      70.0\n",
       "QUEENS       1196.0\n",
       "STATEN IS     326.0\n",
       "Name: Job created, dtype: float64"
      ]
     },
     "execution_count": 40,
     "metadata": {},
     "output_type": "execute_result"
    }
   ],
   "source": [
    "df.groupby('Borough')['Job created'].sum()"
   ]
  },
  {
   "cell_type": "code",
   "execution_count": 55,
   "id": "086c4add",
   "metadata": {},
   "outputs": [],
   "source": [
    "domain=str(df['company email']).split('@')[1]"
   ]
  },
  {
   "cell_type": "code",
   "execution_count": 56,
   "id": "6755ff7a",
   "metadata": {},
   "outputs": [
    {
     "data": {
      "text/plain": [
       "'dial7.com\\n1                     jrproduce'"
      ]
     },
     "execution_count": 56,
     "metadata": {},
     "output_type": "execute_result"
    }
   ],
   "source": [
    "domain"
   ]
  },
  {
   "cell_type": "code",
   "execution_count": 48,
   "id": "10bd937a",
   "metadata": {},
   "outputs": [],
   "source": [
    "a=str('murat.al.1')"
   ]
  },
  {
   "cell_type": "code",
   "execution_count": 54,
   "id": "1b1d5fda",
   "metadata": {},
   "outputs": [
    {
     "data": {
      "text/plain": [
       "'dial7.com'"
      ]
     },
     "execution_count": 54,
     "metadata": {},
     "output_type": "execute_result"
    }
   ],
   "source": [
    "a.split('@')[1]"
   ]
  },
  {
   "cell_type": "code",
   "execution_count": 51,
   "id": "1b332fb4",
   "metadata": {},
   "outputs": [],
   "source": [
    "a=df['company email'][0]"
   ]
  },
  {
   "cell_type": "code",
   "execution_count": 94,
   "id": "6ddeef1b",
   "metadata": {},
   "outputs": [
    {
     "data": {
      "text/plain": [
       "[['barbara', 'dial7.com'],\n",
       " ['jrproduce', 'gmail.com'],\n",
       " ['ddrazic', 'atjelectrical.com'],\n",
       " ['tsapienza', 'KLCNY.com'],\n",
       " ['rwoythaler', '21st centuryoptics.com'],\n",
       " ['eduke', 'amvchelsea.com'],\n",
       " ['Edgeinc', 'hotmail.com'],\n",
       " ['jcastellane', 'pqus.com'],\n",
       " ['wayne', '4c.com'],\n",
       " ['taso', '4over4.com'],\n",
       " ['tankman220', 'aol.com'],\n",
       " ['service', 'alscientific.com'],\n",
       " ['sales', 'beadmasterusa.com'],\n",
       " ['GRANDKOSHER', 'AOL.COM'],\n",
       " ['tnogalo', 'aksinternational.com'],\n",
       " ['sps', 'abigal.com'],\n",
       " ['FPark', 'arrowlinen.com'],\n",
       " ['jmatuza', 'bilingualsino.com'],\n",
       " ['info', 'acmepans.com'],\n",
       " ['ecarbajosa', 'acmesmokedfish.com'],\n",
       " ['ggalietti', 'actioncarting.com'],\n",
       " ['eileen', 'remains.com'],\n",
       " ['anrotlevi', 'afcindustries.com'],\n",
       " ['munah', 'africanservices.com'],\n",
       " ['agemanufac', 'aol.com'],\n",
       " ['shaunamei', 'ahalife.com'],\n",
       " ['marie', 'avac.com'],\n",
       " ['guzzi', 'aladdinbakery.com'],\n",
       " ['mwinkle1', 'yu.edu'],\n",
       " ['heather', 'alchemypaintworks.com'],\n",
       " ['shellyg', 'allaireconditioning.com'],\n",
       " ['Johnmdallcitymetal.com'],\n",
       " ['joan', 'allcityswbd.com'],\n",
       " ['halbycpa', 'alleprocessing.com'],\n",
       " ['officegreenfelds.com'],\n",
       " ['alliedsamplecard', 'netzero.net'],\n",
       " ['avi', 'alrue.com'],\n",
       " ['mggrella', 'amazon.com'],\n",
       " ['areilly', 'folkartmuseum.org'],\n",
       " ['Usinfo', 'turnstall.com'],\n",
       " ['Amtorq', 'gmail.com'],\n",
       " ['amy', 'amysbread.com'],\n",
       " ['steve.hunter', 'anhuser-busch.com'],\n",
       " ['anthony', 'adalowood.com'],\n",
       " ['sheika', 'apexglobe.com'],\n",
       " ['cbumcrot', 'arcllc.com'],\n",
       " ['vincenttheures', 'approvedoil.com'],\n",
       " ['apadilla', 'expresito.com'],\n",
       " ['apthorpcleaners', 'gmail.com'],\n",
       " ['bbrcontracting', 'aol.com'],\n",
       " ['tom', 'aristacoffee.com'],\n",
       " ['therman', 'ArtexFAS.com'],\n",
       " ['sr', 'aspromechanical.com'],\n",
       " ['admin', 'asymptote.net'],\n",
       " ['stephenhon', 'aol.com'],\n",
       " ['michael.diodato', 'avispl.com'],\n",
       " ['danazizo', 'aol.com'],\n",
       " ['bthayer', 'bthayerassociates.com'],\n",
       " ['david', 'bcsroyal.com'],\n",
       " ['andrew.morse', 'experiencebell.org'],\n",
       " ['bchrietzberg', 'bpair.com'],\n",
       " ['edebbah', 'aol.com'],\n",
       " ['bellbialy', 'aol.com'],\n",
       " ['eileen', 'baldorfood.com'],\n",
       " ['alanlevitz', 'gmail.com'],\n",
       " ['jbark', 'barkframeworks.com'],\n",
       " ['barkerbrothers', 'aol.com'],\n",
       " ['nbarone', 'baronesteel.com'],\n",
       " ['jbehrendt', 'belomtmetals.com'],\n",
       " ['gabe', 'bensonmills.com'],\n",
       " ['peter', 'bermudalimo.com'],\n",
       " ['MDANA', 'BESTCASECELLULAR.COM'],\n",
       " ['bestchoiceseafood', 'yahoo.com'],\n",
       " ['anrotlevi', 'bestmounting.com'],\n",
       " ['astange', 'gamlaphoto.com'],\n",
       " ['info', 'afish.com'],\n",
       " ['paul', 'bigcitygraphics.com'],\n",
       " ['jaber_farid', 'yahoo.com'],\n",
       " ['andrew', 'bigheavystudios.com'],\n",
       " ['billieannplastics.com'],\n",
       " ['elliot', 'bimmys.com'],\n",
       " ['elliot', 'bimmys.com'],\n",
       " ['bjorkcarle', 'earthlink.net'],\n",
       " ['blueribbonfish', 'verizon.net'],\n",
       " ['rrbrth1', 'aim.com'],\n",
       " ['RB', 'blumb.com'],\n",
       " ['bobopoultry', 'gmail.com'],\n",
       " ['dan.tucker', 'kidscreative.com'],\n",
       " ['nmenon', 'boycetech.com'],\n",
       " ['BENJAMIN', 'BRAGARDUSA.COM'],\n",
       " ['info', 'brkdistilling.com'],\n",
       " ['myleskehoe', 'bwtglass.com'],\n",
       " ['bellbialy', 'aol.com'],\n",
       " ['jgewitrtzbrooklynnets.com'],\n",
       " ['robert.bednarz', 'us.ngrid.com'],\n",
       " ['fern', 'brooklynphono.com'],\n",
       " ['info', 'jonathanburden.com'],\n",
       " ['cki.accounting', 'ckennethimports.com'],\n",
       " ['info', 'calypsostbarth.com'],\n",
       " ['vito', 'cameometal.com'],\n",
       " ['fw', 'candidlitho.com'],\n",
       " ['sarac', 'capjeff.com'],\n",
       " ['ericschweitzer', 'carnegielinen.com'],\n",
       " ['carlo', 'casabldg.com'],\n",
       " ['CASCONBAKERY1', 'AOL.COM'],\n",
       " ['rob', 'cavcoroofing.com'],\n",
       " ['mark', 'gnyada.com'],\n",
       " ['centre.interiors', 'verizon.net'],\n",
       " ['wdking', 'att.net'],\n",
       " ['mike.gracie', 'graciestudio.com'],\n",
       " ['patg', 'chelseacraftbrewing.com'],\n",
       " ['allen', 'plexi-craft.com'],\n",
       " ['stevedonowitz', 'childcenterny.com'],\n",
       " ['tyule', 'christies.com'],\n",
       " ['jkuduk', 'christies.com'],\n",
       " ['johnkym', 'lumiiode.com'],\n",
       " ['CINEMAWORLDED', 'VERIZON.NET'],\n",
       " ['tflanagan', 'citarella.com'],\n",
       " ['keith.owen', 'citi.com'],\n",
       " ['Michael', 'cityaquarium.com'],\n",
       " ['citybaking', 'aol.com'],\n",
       " ['David', 'classic-cooking.com'],\n",
       " ['ClearwaterFishCompany', 'newfultonfishmarket.com'],\n",
       " ['Aviviani', 'cbs-collins.com'],\n",
       " ['colortex18', 'gmail.com'],\n",
       " ['mark', 'comfortbeddinginc.com'],\n",
       " ['mark', 'comfortbeddinginc.com'],\n",
       " ['rsapo11', 'aol.com'],\n",
       " ['Computer Services Group, Inc.'],\n",
       " ['nzapata', 'controlelectropolishing.com'],\n",
       " ['david', 'coolwind.biz'],\n",
       " ['jeff', 'coronetparts.com'],\n",
       " ['jweiss', 'cosmoscommunications.com'],\n",
       " ['Renee', 'cotronics.com'],\n",
       " ['paula', 'crepini.com'],\n",
       " ['crownfishco.', 'aol.com'],\n",
       " ['pfung', 'crystallaketrading.com'],\n",
       " ['kleeper', 'cyracom.com'],\n",
       " ['melanda', 'uniquesettings.com'],\n",
       " ['dccentercorp', 'gmail.com'],\n",
       " ['kclark', 'chefswarehouse.com'],\n",
       " ['danielscuderi', 'Danielscuderi.com'],\n",
       " ['info', 'dartmedicallab.com'],\n",
       " ['info', 'dasnymech.com'],\n",
       " ['mitch', 'dcdad.com'],\n",
       " ['david', 'habersilver.com'],\n",
       " ['dana', 'dellscherry.com'],\n",
       " ['Dkhusial', 'DTCC.com'],\n",
       " ['aberger', 'ddp-ny.com'],\n",
       " ['lunabella3939', 'aol.com'],\n",
       " ['klikny', 'aol.com'],\n",
       " ['ccordoba', 'dinascorp.com'],\n",
       " ['mstewart', 'dlxonline.com'],\n",
       " ['rwalsh', 'donnellymech.com'],\n",
       " ['mike1downeast', 'hotmail.com'],\n",
       " ['info', 'downrightltd.com'],\n",
       " ['vejai', 'ducecc.com'],\n",
       " ['carla.krasner', 'dufourpastrykitchens.com'],\n",
       " ['eric', 'dundyglass.com'],\n",
       " ['ldyjewles', 'yahoo.com'],\n",
       " ['ricardow', 'interstate-envelope.com'],\n",
       " ['ricardow', 'interstate-envelope.com'],\n",
       " ['ericg', 'gm-graphics.com'],\n",
       " ['Scott', 'easterneffects.com'],\n",
       " ['sol', 'easterntabletop.com'],\n",
       " ['angelique.carter', 'dishnetwork.com'],\n",
       " ['sbieler', 'eclecticprops.com'],\n",
       " ['johnthepumpman1', 'verizon.net'],\n",
       " ['eprice', 'epl.com'],\n",
       " ['info', 'electronicdiecorp.com'],\n",
       " ['craig', 'elenis.com'],\n",
       " ['EmeraldSeaFoodCompany', 'newfultonfishmarket.com'],\n",
       " ['adamp', 'emgmediainc.com'],\n",
       " ['smeresman', 'empiremerchants.com'],\n",
       " ['smeresman', 'empiremerchants.com'],\n",
       " ['dave', 'empressmedia.com'],\n",
       " ['danielle.germain.em', 'verizon.net'],\n",
       " ['r.potti', 'epic-pharma.com'],\n",
       " ['dbrown', 'steinerstudios.com'],\n",
       " ['henry', 'export-sales.com'],\n",
       " ['oleg.ezink', 'gmail.com'],\n",
       " ['FairFish', 'newfultonfishmarket.com'],\n",
       " ['dennis.tortora', 'fairwaymarket.com'],\n",
       " ['Falconecookie', 'aol.com'],\n",
       " ['witchservice', 'fatwitch.com'],\n",
       " ['omid', 'faviana.com'],\n",
       " ['plasticsrus', 'aol.com'],\n",
       " ['plasticsrus', 'aol.com'],\n",
       " ['kellen', 'fayda.com'],\n",
       " ['debbie.dillinger', 'fedex.com'],\n",
       " ['debbie.dillinger', 'fedex.com'],\n",
       " ['debbie.dillinger', 'fedex.com'],\n",
       " ['ismetaksdc', 'gmail.com'],\n",
       " ['mitchsseafood', 'gmail.com'],\n",
       " ['jmconti', 'alltek1.com'],\n",
       " ['andre', 'cvmventures.com'],\n",
       " ['sluthr', 'victoryfoodservice.com'],\n",
       " ['bsillery', 'fcrc.com'],\n",
       " ['creilly', 'fraplaster.com'],\n",
       " ['fww779', 'aol.com'],\n",
       " ['efranke', 'fgca.com'],\n",
       " ['jfreeman', 'freemanlewis.com'],\n",
       " ['gbennett', 'freshdirect.com'],\n",
       " ['cjoseph', 'fultonferryliquidators.com'],\n",
       " ['jgold', 'manhattanfruitier.com'],\n",
       " ['jtiedemann', 'universal-seafood.com'],\n",
       " ['pinagracesmarketplace.com'],\n",
       " ['ddourgarian', 'gailer.com'],\n",
       " ['j.arbeit', 'generaltools.com'],\n",
       " ['tfallon', 'globalterminals.com'],\n",
       " ['GNYFiletFish', 'newfultonfishmarket.com'],\n",
       " ['viraj', 'gothamgreens.com'],\n",
       " ['macsfish', 'gmail.com'],\n",
       " ['rliberto', 'gourmetboutique.com'],\n",
       " ['vlichtenstrin', 'gourmetguru.com'],\n",
       " ['hgraf', 'glarchiects.com'],\n",
       " ['BonillaC', 'graham-windham.org'],\n",
       " ['gm3343388', 'aol.com'],\n",
       " ['scottw', 'grandstandsports.com'],\n",
       " ['ginabws', 'gmail.com'],\n",
       " ['aletaind', 'aol.com'],\n",
       " ['karingh', 'gustavrestoration.com'],\n",
       " ['dfox', 'foxgrops.corp'],\n",
       " ['beyhan', 'mygoldgran.com'],\n",
       " ['sjacobs', 'haleandhearty.com'],\n",
       " ['jsitt', 'vinegarhillhc.com'],\n",
       " ['jsitt', 'vinegarhillhc.com'],\n",
       " ['rachel', 'halmarkarchitectural.com'],\n",
       " ['oscar', 'heinsenproducts.com'],\n",
       " ['uffnervintagellc', 'aol.com'],\n",
       " ['joe', 'herculesht.com'],\n",
       " ['kristen', 'hergo.com'],\n",
       " ['alina', 'highlinestages.com'],\n",
       " ['babu', 'hgstones.com'],\n",
       " ['cblaker', 'millerblaker.com'],\n",
       " ['tnt71', 'mrtcarting.com'],\n",
       " ['mark', 'hedhifi.com'],\n",
       " ['dsweeney', 'hainyc.org'],\n",
       " ['ashwinshah', 'houseofspicesindia.com'],\n",
       " ['hudson', 'moving-storage.com'],\n",
       " ['msza', 'aol.com'],\n",
       " ['jim', 'intercaprealty.com'],\n",
       " ['bob', 'iehcorp.com'],\n",
       " ['ashira', 'insekdesign.com'],\n",
       " ['jimmy', 'iptnamedesign.com'],\n",
       " ['jhwang', 'irxtherapeutics.com'],\n",
       " ['haroldr', 'galwein.com'],\n",
       " ['my3js120', 'aol.com'],\n",
       " ['joe', 'jandjjohnson.com'],\n",
       " ['bakerboy', 'optonline.net'],\n",
       " ['robert.chichester', 'jcrew.com'],\n",
       " ['steve', 'jsussmaninc.com'],\n",
       " ['jacques', 'mrchocolate.com'],\n",
       " ['james.carpenter', 'aol.com'],\n",
       " ['ben', 'janusproperty.com'],\n",
       " ['JFDUSA8', 'yahoo.com'],\n",
       " ['marian', 'johnsnyc.com'],\n",
       " ['Dave.Barger.', 'Jetblue.com'],\n",
       " ['Dave.Barger.', 'Jetblue.com'],\n",
       " ['rkirschner', 'jetrord.com'],\n",
       " ['tomifm', 'gmail.com'],\n",
       " ['Milu525', 'aol.com'],\n",
       " ['JoeMonaniFish', 'newfultonfishmarket.com'],\n",
       " ['Jcarch', 'nyc.rr.com'],\n",
       " ['mindhandcoinc', 'verizon.net'],\n",
       " ['Markshortliffe', 'gmail.com'],\n",
       " ['charlii', 'justbagels.com'],\n",
       " ['nickkenner', 'justsalad.com'],\n",
       " ['joseph-c', 'us.klinelogistics.com'],\n",
       " ['everon', 'sureiron.com'],\n",
       " ['kkmachine', 'usa.com'],\n",
       " ['Lkarr', 'karrgraphics.com'],\n",
       " ['carla', 'kmf-inc.com'],\n",
       " ['info', 'kewforestplumbing.com'],\n",
       " ['ebond203', 'aol.com'],\n",
       " ['tom.smith', 'am.kwe.com'],\n",
       " ['cityonere', 'aol.com'],\n",
       " ['BG20744', 'hotmail.com'],\n",
       " ['ericm', 'Krinos.com'],\n",
       " ['shin', 'biwaihc.com'],\n",
       " ['bill.kastin', 'lafarge-na.com'],\n",
       " ['info', 'lafgrind.com'],\n",
       " ['sfermisco', 'leespring.com'],\n",
       " ['chandally', 'aol.com'],\n",
       " ['Lidausa88', 'gmail.com'],\n",
       " ['davidfspink', 'earthlink.net'],\n",
       " ['atabak', 'sunshinelighting.com'],\n",
       " ['mdimarino', 'lindatool.com'],\n",
       " ['ann.morgan', 'us-resources.com'],\n",
       " ['rgreene', 'liquid8technology.net'],\n",
       " ['jeff', 'horizonmills.net'],\n",
       " ['catherine.river', 'livestream.com'],\n",
       " ['ron', 'proaudiostar.com'],\n",
       " ['lockwoodwinant', 'newfultonfishmarket.com'],\n",
       " ['rob', 'lockwoodpublications.com'],\n",
       " ['jweiss', 'longislandconcrete.net'],\n",
       " ['gita103', 'hotmail.com'],\n",
       " ['mfallas', 'misssportswear.com'],\n",
       " ['tciuffo', 'aol.com'],\n",
       " ['mackglassnauth', 'aol.com'],\n",
       " ['jm', 'madamepaulette.com'],\n",
       " ['ngold', 'madelainechocolate.com'],\n",
       " ['ngold', 'madelainechocolate.com'],\n",
       " ['gregory.schmidt', 'magellan.aero'],\n",
       " ['davidn', 'magicnovelty.com'],\n",
       " ['chocolate', 'mariebelle.com'],\n",
       " ['lzahn', 'maricmechanical.com'],\n",
       " ['trrehab', 'aol.com'],\n",
       " ['brespler', 'marjam.com'],\n",
       " ['brespler', 'marjam.com'],\n",
       " ['roberto.mastrigli', 'marleyspoon.com'],\n",
       " ['darin', 'matros.com'],\n",
       " ['Maya.Foods', 'verizon.net'],\n",
       " ['mcnederpelt', 'mcndesign.com'],\n",
       " ['sheilaw', 'mechoshade.com'],\n",
       " ['smaroulis', 'corfufoods.com'],\n",
       " ['smaroulis', 'corfufoods.com'],\n",
       " ['sabiha2243', 'aol.com'],\n",
       " ['joel', 'menucovers.biz'],\n",
       " ['MEIR', 'MESORAH.COM'],\n",
       " ['JOHN', 'METALWORKSINC.COM'],\n",
       " ['wayne', 'garmentcare.com'],\n",
       " ['gfina', 'mcfina.com'],\n",
       " ['gfina', 'mcfina.com'],\n",
       " ['acct', 'mldesignandprinting.com'],\n",
       " ['modestibro', 'aol.com'],\n",
       " ['showky.k', 'gomondial.com'],\n",
       " ['kesjj143', 'aol.com'],\n",
       " ['sam', 'montebellofoods.com'],\n",
       " ['fishmonte', 'aol.com'],\n",
       " ['Timothy.F.Ryan', 'morganstanley.com'],\n",
       " ['mtsfish', 'aol.com'],\n",
       " ['dsylvester', 'promodev.com'],\n",
       " ['bjessop', 'nationalacoustics.com'],\n",
       " ['jay', 'nationaltextile.net'],\n",
       " ['John', 'unionmachinery.com'],\n",
       " ['slieberman', 'kaufmanshoe.com'],\n",
       " ['john', 'natuzzibrosice.com'],\n",
       " ['novak', 'jansproperty.com'],\n",
       " ['p.neuman', 'neumanskitch.com'],\n",
       " ['r.schwartz', 'newconceptsllc.com'],\n",
       " ['zkassim', 'nybc.org'],\n",
       " ['ecohen', 'nydigitalcolor.com'],\n",
       " ['ram', 'nyfusa.com'],\n",
       " ['nyinsulate', 'aol.com'],\n",
       " ['sevangelinos', 'gmail.com'],\n",
       " ['joanna', 'europanbakery.com'],\n",
       " ['danafortuna', 'nittsu.com'],\n",
       " ['richard_etra', 'norampac.com'],\n",
       " ['richard_etra', 'norampac.com'],\n",
       " ['lance', 'novaoffset.com'],\n",
       " ['adenovarebiologistics.com'],\n",
       " ['joe', 'noveltycrystal.com'],\n",
       " ['MD', 'NovoArts.com'],\n",
       " ['nulifedental', 'earthlink.net'],\n",
       " ['jahlin', 'nulux.com'],\n",
       " ['jack', 'caliendocontracting.com'],\n",
       " ['robert', 'artimusnyc.com'],\n",
       " ['yk', 'ohnuts.com'],\n",
       " ['r', 'okfoc.us'],\n",
       " ['shrage', 'oldwilliamsburgh.com'],\n",
       " ['steve', 'onestopblueprinting .com'],\n",
       " ['preilly', 'opinionaccess.com'],\n",
       " ['keith', 'ovenartisans.com'],\n",
       " ['info', 'paperenterprises.com'],\n",
       " ['will', 'paralleldevelopment.net'],\n",
       " ['parkwayequip', 'optimum.net'],\n",
       " ['vicki', 'parsons-meares.com'],\n",
       " ['zoria', 'financierpastries.com'],\n",
       " ['mmatassa', 'empiremerchants.com'],\n",
       " ['michael', 'raviolistore.com'],\n",
       " ['tax', 'pencom.com'],\n",
       " ['info', 'pentagram.com'],\n",
       " ['texroncommercial', 'aol.com'],\n",
       " ['shermanr', 'pepsi-ny.com'],\n",
       " ['peter.tirana', 'perrigo.com'],\n",
       " ['ppress160', 'aol.com'],\n",
       " ['vmanthripragada', 'petcarerx.com'],\n",
       " ['davids', 'cakedeco.com'],\n",
       " ['Patsimeone', 'forbee.com'],\n",
       " ['jason.kotara', 'gmail.com'],\n",
       " ['Barryt.teger', 'pintoandtegerelectrica.com'],\n",
       " ['info', 'pdoinc.com'],\n",
       " ['postalenvelope', 'verizon.net'],\n",
       " ['posterprinters', 'aol.com'],\n",
       " ['sari', 'premierpaintroller.com'],\n",
       " ['premiummillwork', 'gmail.com'],\n",
       " ['ben', 'p2print.com'],\n",
       " ['promptapparel.com'],\n",
       " ['cosmetics', 'nicka.com'],\n",
       " ['carl', 'qualitycasting.com'],\n",
       " ['maggie', 'rainbowplasticsinc.com'],\n",
       " ['ranchers2217', 'aol.com'],\n",
       " ['grandproperty1', 'aol.com'],\n",
       " ['michael.martini', 'rcn.net'],\n",
       " ['bemmert', 'jetrod.com'],\n",
       " ['paul', 'financierpastries.com'],\n",
       " ['INFO', 'KOSHERICECREAM.COM'],\n",
       " ['rhys', 'myredrabbit.com'],\n",
       " ['nat', 'regalhome.net'],\n",
       " ['reinfsupply', '.net'],\n",
       " ['rhondafeinman', 'aol.com'],\n",
       " ['jbadee', 'rivaprecision.com'],\n",
       " ['jlabarre', 'roanwellcorp.com'],\n",
       " ['dg', 'digitallaundry.net'],\n",
       " ['mgoldberg', 'rolexusa.com'],\n",
       " ['danny', 'roscomirrors.com'],\n",
       " ['KERRY', 'MADROSE.COM'],\n",
       " ['sofiampaine', 'mac.com'],\n",
       " ['royalbaltic', 'gmail.com'],\n",
       " ['royalbaltic', 'gmail.com'],\n",
       " ['mrudy', 'royalindustries.com'],\n",
       " ['errol', 'missgrimble.com'],\n",
       " ['joe', 'rwsandassociates.com'],\n",
       " ['ted', 'slaerospace.com'],\n",
       " ['DBROOME', 'SBROOME.COM'],\n",
       " ['roger', 'sadowskyguitars.com'],\n",
       " ['clive', 'safeart.com'],\n",
       " ['pwhelan', 'sahadifinefoods.com'],\n",
       " ['pcapraro', 'feldmanlumber.com'],\n",
       " ['info', 'sculpturehousecasting.com'],\n",
       " ['acordova', 'sequins.com'],\n",
       " ['office', 'sfainteriors.com'],\n",
       " ['jkolman', 'gmail.com'],\n",
       " ['babu', 'signsanddecal.com'],\n",
       " ['richard', 'sillyphillie.com'],\n",
       " ['norvel', 'silverhillarts.com'],\n",
       " ['gkesner', 'silvercupstudios.com'],\n",
       " ['gkesner', 'silvercupstudios.com'],\n",
       " ['bsilverman', 'attglobal.net'],\n",
       " ['info', 'simonliuinc.com'],\n",
       " ['Ppuccio', 'simdev.com'],\n",
       " ['al', 'influencegraphics.com'],\n",
       " ['ekraus', 'skylinewindows.com'],\n",
       " ['mattysolow', 'gmail.com'],\n",
       " ['sandreyev', 'solco.com'],\n",
       " ['perrettimvp', 'gmail.com'],\n",
       " ['sspaeth', 'spaethdesign.com'],\n",
       " ['john', 'stallionnyc.com'],\n",
       " ['emily', 'standandbuild.com'],\n",
       " ['stanleyplt', 'aol.com'],\n",
       " ['Yuji624', 'gmail.com'],\n",
       " ['js', 'jeshapiro.com'],\n",
       " ['YElbaz', 'superflex.com'],\n",
       " ['mpinkett', 'sweetsams.com'],\n",
       " ['tnlsalads', 'hotmail.com'],\n",
       " ['ginabws', 'gmail.com'],\n",
       " ['Disenber', 'Takoselectric.com'],\n",
       " ['jake', 'talasonline.com'],\n",
       " ['tkauffman', 'easternconnection.com'],\n",
       " ['texroncommercial', 'aol.com'],\n",
       " ['paul.mcnulty', 'bnymellon.com'],\n",
       " ['bgarland', 'gluckpartners.com'],\n",
       " ['rochelle', 'handytool.com'],\n",
       " ['sstewart', 'igrace.com'],\n",
       " ['ianm', 'lobsterplace.com'],\n",
       " ['ianm', 'lobsterplace.com'],\n",
       " ['why86', 'verizon.net'],\n",
       " ['gt', 'gtmachinetool.com'],\n",
       " ['thirdgeneration', 'aol.com'],\n",
       " ['PAMATO', 'AMATOFURNITURE.COM'],\n",
       " ['Tsapienza', 'KLCNY.com'],\n",
       " ['sal.azzaro', 'twcable.com'],\n",
       " ['jkc', 'nyu.edu'],\n",
       " ['katherine', 'titanmachine.com'],\n",
       " ['mwong', 'titone.com'],\n",
       " ['TonyCrabKing', 'newfultonfishmarket.com'],\n",
       " ['sfisher', 'tourneau.com'],\n",
       " ['tw', 'tracywatts.com'],\n",
       " ['rbennett', 'ultraflex.com'],\n",
       " ['annamaria', 'trinecorp.com'],\n",
       " ['tibs', 'tristatecamera.com'],\n",
       " ['sjacobs', 'triumphconstcorp.com'],\n",
       " ['kathy.alfano', 'pepsico.com'],\n",
       " ['Tufofoods', 'aol.com'],\n",
       " ['jing', 'tmitrading.com'],\n",
       " ['Franco', 'Twoseven.net'],\n",
       " ['phil', 'silkstonenyc.com'],\n",
       " ['finance', 'usballoon.com'],\n",
       " ['grassoe', 'ulano.com'],\n",
       " ['teresa', 'uncommongoods.com'],\n",
       " ['vmaniti', 'unitedair.com'],\n",
       " ['hschoor', 'uft.org'],\n",
       " ['hschoor', 'uft.org'],\n",
       " ['mlafrance', 'unfcu.com'],\n",
       " ['stella.canlas', 'uwgny.com'],\n",
       " ['gil', 'urbanarchaeology.com'],\n",
       " ['benjanusproperty.com'],\n",
       " ['urbangreenfurniture.com'],\n",
       " ['crowley', 'usta.com'],\n",
       " ['crowley', 'usta.com'],\n",
       " ['AFGIUMENTA', 'ARCHGRILLE.COM'],\n",
       " ['allroofingcorp', 'aol.com'],\n",
       " ['cor2vue', 'aol.com'],\n",
       " ['arnaud', 'petrossian.com'],\n",
       " ['karen.jessen', 'vnsny.org'],\n",
       " ['giskarou', 'prattindustries.com'],\n",
       " ['jpharari', 'vivatime.com'],\n",
       " ['bwilks', 'w-architecture.com'],\n",
       " ['mrdessert', 'gmail.com'],\n",
       " ['fgangi', 'wallst.mail.com'],\n",
       " ['Ryan.Walsh', 'Walshelectrical.com'],\n",
       " ['peterlee', 'waterliliesfood.com'],\n",
       " ['jdedona3', 'aol.com'],\n",
       " ['jabel', 'watermark-designs.com'],\n",
       " ['ryder', 'weaponspecialists.com'],\n",
       " ['www.bme.coumbia.edu/-sia'],\n",
       " ['michelletampakis', 'gmail.com'],\n",
       " ['jw', 'whitecoffee.com'],\n",
       " ['wiggbyprecision', 'prodigy.net'],\n",
       " ['tebury', 'hirdco.com'],\n",
       " ['rob', 'wolf-gordon.com'],\n",
       " ['donaldlau', 'wontonfood.com'],\n",
       " ['wayne', 'worksman.com'],\n",
       " ['keren', 'wudfurniture.com'],\n",
       " ['zecron', 'juno.com'],\n",
       " ['jl', 'zeluck.com'],\n",
       " ['clettich', 'silvprop.com'],\n",
       " ['jmccalla', 'silvprop.com'],\n",
       " ['barbara', 'dial7.com'],\n",
       " ['jrproduce', 'gmail.com'],\n",
       " ['ddrazic', 'atjelectrical.com'],\n",
       " ['Eskoblo', 'energyspec.com'],\n",
       " ['tsapienza', 'KLCNY.com'],\n",
       " ['rwoythaler', '21st centuryoptics.com'],\n",
       " ['Eskoblo', 'energyspec.com'],\n",
       " ['Edgeinc', 'hotmail.com'],\n",
       " ['taso', '4over4.com'],\n",
       " ['tankman220', 'aol.com'],\n",
       " ['info', 'MEQS.com'],\n",
       " ['Rlegati', 'mdc-partners.com'],\n",
       " ['Eskoblo', 'energyspec.com'],\n",
       " ['service', 'alscientific.com'],\n",
       " ['GRANDKOSHER', 'AOL.COM'],\n",
       " ['tnogalo', 'aksinternational.com'],\n",
       " ['sps', 'abigal.com'],\n",
       " ['jmatuza', 'bilingualsino.com'],\n",
       " ['info', 'acmepans.com'],\n",
       " ['ggalietti', 'actioncarting.com'],\n",
       " ['platta', 'aduiepyle.com'],\n",
       " ['eileen', 'remains.com'],\n",
       " ['anrotlevi', 'afcindustries.com'],\n",
       " ['munah', 'africanservices.com'],\n",
       " ['agemanufac', 'aol.com'],\n",
       " ['shaunamei', 'ahalife.com'],\n",
       " ['marie', 'avac.org'],\n",
       " ['guzzi', 'aladdinbakery.com'],\n",
       " ['mwinkle1', 'yu.edu'],\n",
       " ['heather', 'alchemypaintworks.com'],\n",
       " ['shellyg', 'allaireconditioning.com'],\n",
       " ['Johnmdallcitymetal.com'],\n",
       " ['halbycpa', 'alleprocessing.com'],\n",
       " ['alliedsamplecard', 'netzero.net'],\n",
       " ['garry', 'allisoneden.comP'],\n",
       " ['avi', 'alrue.com'],\n",
       " ['bweisfuse', 'amazon.com'],\n",
       " ['areilly', 'folkartmuseum.org'],\n",
       " ['Usinfo', 'turnstall.com'],\n",
       " ['Amtorq', 'gmail.com'],\n",
       " ['cryan', 'american-transit.com'],\n",
       " ['amy', 'amysbread.com'],\n",
       " ['steve.hunter', 'anhuser-busch.com'],\n",
       " ['anthony', 'adalowood.com'],\n",
       " ['sheika', 'apexglobe.com'],\n",
       " ['cbumcrot', 'arcllc.com'],\n",
       " ['vincenttheures', 'approvedoil.com'],\n",
       " ['apadilla', 'expresito.com'],\n",
       " ['apthorpcleaners', 'gmail.com'],\n",
       " ['bbrcontracting', 'aol.com'],\n",
       " ['tom', 'aristacoffee.com'],\n",
       " ['FPark', 'arrowlinen.com'],\n",
       " ['therman', 'ArtexFAS.com'],\n",
       " ['sr', 'aspromechanical.com'],\n",
       " ['admin', 'asymptote.net'],\n",
       " ['stephenhon', 'aol.com'],\n",
       " ['michael.diodato', 'avispl.com'],\n",
       " ['bthayer', 'bthayerassociates.com'],\n",
       " ['david', 'bcsroyal.com'],\n",
       " ['bchrietzberg', 'bpair.com'],\n",
       " ['edebbah', 'aol.com'],\n",
       " ['eileen', 'baldorfood.com'],\n",
       " ['alanlevitz', 'gmail.com'],\n",
       " ['jbark', 'barkframeworks.com'],\n",
       " ['barkerbrothers', 'aol.com'],\n",
       " ['nbarone', 'baronesteel.com'],\n",
       " ['jbehrendt', 'belomtmetals.com'],\n",
       " ['gabe', 'bensonmills.com'],\n",
       " ['peter', 'bermudalimo.com'],\n",
       " ['MDANA', 'BESTCASECELLULAR.COM'],\n",
       " ['bestchoiceseafood', 'yahoo.com'],\n",
       " ['anrotlevi', 'bestmounting.com'],\n",
       " ['maxivision', 'msn.com'],\n",
       " ['astange', 'gamlaphoto.com'],\n",
       " ['info', 'afish.com'],\n",
       " ['andrew', 'bigheavystudios.com'],\n",
       " ['billieannplastics.com'],\n",
       " ['elliot', 'bimmys.com'],\n",
       " ['elliot', 'bimmys.com'],\n",
       " ['bjorkcarle', 'earthlink.net'],\n",
       " ['blueribbonfish', 'verizon.net'],\n",
       " ['RB', 'blumb.com'],\n",
       " ['bobopoultry', 'gmail.com'],\n",
       " ['nmenon', 'boycetech.com'],\n",
       " ['BENJAMIN', 'BRAGARDUSA.COM'],\n",
       " ['charles.ma', 'b-reel.com'],\n",
       " ['info', 'brkdistilling.com'],\n",
       " ['myleskehoe', 'bwtglass.com'],\n",
       " ['crau', 'brooklynitx.com'],\n",
       " ['jgewitrtzbrooklynnets.com'],\n",
       " ['robert.bednarz', 'us.ngrid.com'],\n",
       " ['zalkin', 'brooklynbrands.com'],\n",
       " ['fern', 'brooklynphono.com'],\n",
       " ['info', 'jonathanburden.com'],\n",
       " ['cki.accounting', 'ckennethimports.com'],\n",
       " ['info', 'calypsostbarth.com'],\n",
       " ['vito', 'cameometal.com'],\n",
       " ['fw', 'candidlitho.com'],\n",
       " ['sarac', 'capjeff.com'],\n",
       " ['ericschweitzer', 'carnegielinen.com'],\n",
       " ['CASCONBAKERY1', 'AOL.COM'],\n",
       " ['rob', 'cavcoroofing.com'],\n",
       " ['mark', 'gnyada.com'],\n",
       " ['centre.interiors', 'verizon.net'],\n",
       " ['wdking', 'att.net'],\n",
       " ['mike.gracie', 'graciestudio.com'],\n",
       " ['edward.p.rooney', 'chase.com'],\n",
       " ['patg', 'chelseacraftbrewing.com'],\n",
       " ['allen', 'plexi-craft.com'],\n",
       " ['stevedonowitz', 'childcenterny.com'],\n",
       " ['tyule', 'christies.com'],\n",
       " ['jkuduk', 'christies.com'],\n",
       " ['ioannis', 'chromationspec.com'],\n",
       " ['tflanagan', 'citarella.com'],\n",
       " ['keith.owen', 'citi.com'],\n",
       " ['Michael', 'cityaquarium.com'],\n",
       " ['citybaking', 'aol.com'],\n",
       " ['David', 'classic-cooking.com'],\n",
       " ['ClearwaterFishCompany', 'newfultonfishmarket.com'],\n",
       " ['Aviviani', 'cbs-collins.com'],\n",
       " ['colortex18', 'gmail.com'],\n",
       " ['mark', 'comfortbeddinginc.com'],\n",
       " ['mark', 'comfortbeddinginc.com'],\n",
       " ['Computer Services Group, Inc.'],\n",
       " ['angel', 'conceptfarm.com'],\n",
       " ['nzapata', 'controlelectropolishing.com'],\n",
       " ['david', 'coolwind.biz'],\n",
       " ['jeff', 'coronetparts.com'],\n",
       " ['jweiss', 'cosmoscommunications.com'],\n",
       " ['Renee', 'cotronics.com'],\n",
       " ['paula', 'crepini.com'],\n",
       " ['crownfishco.', 'aol.com'],\n",
       " ['pfung', 'crystallaketrading.com'],\n",
       " ['kleeper', 'cyracom.com'],\n",
       " ['dccentercorp', 'gmail.com'],\n",
       " ['kclark', 'chefswarehouse.com'],\n",
       " ['danielscuderi', 'Danielscuderi.com'],\n",
       " ['info', 'dartmedicallab.com'],\n",
       " ['info', 'dasnymech.com'],\n",
       " ['mitch', 'dcdad.com'],\n",
       " ['david', 'habersilver.com'],\n",
       " ['villacisw', 'gmail.com'],\n",
       " ['Dkhusial', 'DTCC.com'],\n",
       " ['chandra.gopalakrishnan', 'db.com'],\n",
       " ['aberger', 'ddp-ny.com'],\n",
       " ['lunabella3939', 'aol.com'],\n",
       " ['ccordoba', 'dinascorp.com'],\n",
       " ['mstewart', 'dlxonline.com'],\n",
       " ['mike1downeast', 'hotmail.com'],\n",
       " ['info', 'downrightltd.com'],\n",
       " ['dans', 'drsmood.com'],\n",
       " ['vejai', 'ducecc.com'],\n",
       " ['eric', 'dundyglass.com'],\n",
       " ['ldyjewles', 'yahoo.com'],\n",
       " ['ricardow', 'interstate-envelope.com'],\n",
       " ['ericg', 'gm-graphics.com'],\n",
       " ['Scott', 'easterneffects.com'],\n",
       " ['sol', 'easterntabletop.com'],\n",
       " ['angelique.carter', 'dishnetwork.com'],\n",
       " ['sbieler', 'eclecticprops.com'],\n",
       " ['eprice', 'epl.com'],\n",
       " ['EmeraldSeaFoodCompany', 'newfultonfishmarket.com'],\n",
       " ['adamp', 'emgmediainc.com'],\n",
       " ['smeresman', 'empiremerchants.com'],\n",
       " ['smeresman', 'empiremerchants.com'],\n",
       " ['dmiller', 'empressmam.com'],\n",
       " ['danielle.germain.em', 'verizon.net'],\n",
       " ['r.potti', 'epic-pharma.com'],\n",
       " ['henry', 'export-sales.com'],\n",
       " ['oleg.ezink', 'gmail.com'],\n",
       " ['FairFish', 'newfultonfishmarket.com'],\n",
       " ['dennis.tortora', 'fairwaymarket.com'],\n",
       " ['Falconecookie', 'aol.com'],\n",
       " ['witchservice', 'fatwitch.com'],\n",
       " ['viraj', 'gothamgreens.com'],\n",
       " ['omid', 'faviana.com'],\n",
       " ['plasticsrus', 'aol.com'],\n",
       " ['plasticsrus', 'aol.com'],\n",
       " ['kellen', 'fayda.com'],\n",
       " ['sam.adamson', 'fedex.com'],\n",
       " ['sam.adamson', 'fedex.com'],\n",
       " ['sam.adamson', 'fedex.com'],\n",
       " ['ismetaksdc', 'gmail.com'],\n",
       " ['mitchsseafood', 'gmail.com'],\n",
       " ['andre', 'cvmventures.com'],\n",
       " ['mtyras', 'foodfestdepot.com'],\n",
       " ['rragaliotis', 'fcrc.com'],\n",
       " ['creilly', 'fraplaster.com'],\n",
       " ['fww779', 'aol.com'],\n",
       " ['studio', 'unionstreetstudiollc.com'],\n",
       " ['jfreeman', 'freemanlewis.com'],\n",
       " ['gbennett', 'freshdirect.com'],\n",
       " ['gbennett', 'freshdirect.com'],\n",
       " ['jgold', 'manhattanfruitier.com'],\n",
       " ['jtiedemann', 'universal-seafood.com'],\n",
       " ['pinagracesmarketplace.com'],\n",
       " ['ddourgarian', 'gailer.com'],\n",
       " ['j.arbeit', 'generaltools.com'],\n",
       " ['tfallon', 'globalterminals.com'],\n",
       " ['macsfish', 'gmail.com'],\n",
       " ['macsfish', 'gmail.com'],\n",
       " ['rliberto', 'gourmetboutique.com'],\n",
       " ['vlichtenstrin', 'gourmetguru.com'],\n",
       " ['hgraf', 'glarchiects.com'],\n",
       " ['BonillaC', 'graham-windham.org'],\n",
       " ['gm3343388', 'aol.com'],\n",
       " ['scottw', 'grandstandsports.com'],\n",
       " ['officegreenfelds.com'],\n",
       " ['ginabws', 'gmail.com'],\n",
       " ['aletaind', 'aol.com'],\n",
       " ['karingh', 'gustavrestoration.com'],\n",
       " ['sjacobs', 'haleandhearty.com'],\n",
       " ['jsitt', 'vinegarhillhc.com'],\n",
       " ['jsitt', 'vinegarhillhc.com'],\n",
       " ['rachel', 'halmarkarchitectural.com'],\n",
       " ['gbrainum', 'hbsteel.com'],\n",
       " ['oscar', 'heinsenproducts.com'],\n",
       " ['uffnervintagellc', 'aol.com'],\n",
       " ['joe', 'herculesht.com'],\n",
       " ['kristen', 'hergo.com'],\n",
       " ['alina', 'highlinestages.com'],\n",
       " ['babu', 'hgstones.com'],\n",
       " ['cblaker', 'millerblaker.com'],\n",
       " ['tnt71', 'mrtcarting.com'],\n",
       " ['mark', 'hedhifi.com'],\n",
       " ['ashwinshah', 'houseofspicesindia.com'],\n",
       " ['ashwinshah', 'houseofspicesindia.com'],\n",
       " ['hudson', 'moving-storage.com'],\n",
       " ['msza', 'aol.com'],\n",
       " ['jim', 'intercaprealty.com'],\n",
       " ['bob', 'iehcorp.com'],\n",
       " ['ashira', 'insekdesign.com'],\n",
       " ['jimmy', 'iptnamedesigns.com'],\n",
       " ['haroldr', 'galwein.com'],\n",
       " ['haroldr', 'galwein.com'],\n",
       " ['my3js120', 'aol.com'],\n",
       " ['joe', 'jandjjohnson.com'],\n",
       " ['bakerboy', 'optonline.net'],\n",
       " ['robert.chichester', 'jcrew.com'],\n",
       " ['jacques', 'mrchocolate.com'],\n",
       " ['james.carpenter', 'aol.com'],\n",
       " ['ben', 'janusproperty.com'],\n",
       " ['JFDUSA8', 'yahoo.com'],\n",
       " ['marian', 'johnsnyc.com'],\n",
       " ['Dave.Barger.', 'Jetblue.com'],\n",
       " ['Dave.Barger.', 'Jetblue.com'],\n",
       " ['rkirschner', 'jetrord.com'],\n",
       " ['tomifm', 'gmail.com'],\n",
       " ['Milu525', 'aol.com'],\n",
       " ['JoeMonaniFish', 'newfultonfishmarket.com'],\n",
       " ['mindhandcoinc', 'verizon.net'],\n",
       " ['Markshortliffe', 'gmail.com'],\n",
       " ['tschmidt', 'jprmechanical.com'],\n",
       " ['charlii', 'justbagels.com'],\n",
       " ['kdunlap', 'tectonicengineering.com'],\n",
       " ['joseph-c', 'us.klinelogistics.com'],\n",
       " ['everon', 'sureiron.com'],\n",
       " ['kkmachine', 'usa.com'],\n",
       " ['Lkarr', 'karrgraphics.com'],\n",
       " ['renuka', 'thekatirollcompany.com'],\n",
       " ['Finance', 'kickstarter.com'],\n",
       " ['ebond203', 'aol.com'],\n",
       " ['tom.smith', 'am.kwe.com'],\n",
       " ['carol', 'kleinbergelectric.net'],\n",
       " ['cityonere', 'aol.com'],\n",
       " ['BG20744', 'hotmail.com'],\n",
       " ['gvgendel', 'gmail.com'],\n",
       " ['ericm', 'Krinos.com'],\n",
       " ['info', 'kumoinc.com'],\n",
       " ['bill.kastin', 'lafarge-na.com'],\n",
       " ['info', 'lafgrind.com'],\n",
       " ['sfermisco', 'leespring.com'],\n",
       " ['chandally', 'aol.com'],\n",
       " ['Lidausa88', 'gmail.com'],\n",
       " ['davidfspink', 'earthlink.net'],\n",
       " ['atabak', 'sunshinelighting.com'],\n",
       " ['ann.morgan', 'us-resources.com'],\n",
       " ['rgreene', 'liquid8technology.net'],\n",
       " ['jeff', 'horizonmills.net'],\n",
       " ['catherine.rivera', 'livestream.com'],\n",
       " ['ron', 'proaudiostar.com'],\n",
       " ['lockwoodwinant', 'newfultonfishmarket.com'],\n",
       " ['rob', 'lockwoodpublications.com'],\n",
       " ['jweiss', 'longislandconcrete.net'],\n",
       " ['gita103', 'hotmail.com'],\n",
       " ['mfallas', 'misssportswear.com'],\n",
       " ['mackglassnauth', 'aol.com'],\n",
       " ['jm', 'madamepaulette.com'],\n",
       " ['ngold', 'madelainechocolate.com'],\n",
       " ['gregory.schmidt', 'magellan.aero'],\n",
       " ['gregory.schmidt', 'magellan.aero'],\n",
       " ['davidn', 'magicnovelty.com'],\n",
       " ['jerry', 'mecny.com'],\n",
       " ['info', 'mariebelle.com'],\n",
       " ['lzahn', 'maricmechanical.com'],\n",
       " ['trrehab', 'aol.com'],\n",
       " ['brespler', 'marjam.com'],\n",
       " ['brespler', 'marjam.com'],\n",
       " ['roberto.mastrigli', 'marleyspoon.com'],\n",
       " ['darin', 'matros.com'],\n",
       " ['klikny', 'aol.com'],\n",
       " ['mcnederpelt', 'mcndesign.com'],\n",
       " ['sheilaw', 'mechoshade.com'],\n",
       " ['smaroulis', 'corfufoods.com'],\n",
       " ['smaroulis', 'corfufoods.com'],\n",
       " ['joel', 'menucovers.biz'],\n",
       " ['MEIR', 'MESORAH.COM'],\n",
       " ['JOHN', 'METALWORKSINC.COM'],\n",
       " ['wayne', 'garmentcare.com'],\n",
       " ['gfina', 'mcfina.com'],\n",
       " ['jherman', 'mkjcomm.com'],\n",
       " ['modernwindows.linda', 'gmail.com'],\n",
       " ['modestibro', 'aol.com'],\n",
       " ['showky.k', 'gomondial.com'],\n",
       " ['kesjj143', 'aol.com'],\n",
       " ['sam', 'montebellofoods.com'],\n",
       " ['fishmonte', 'aol.com'],\n",
       " ['brian', 'forthepeople.com'],\n",
       " ['Timothy.F.Ryan', 'morganstanley.com'],\n",
       " ['mtsfish', 'aol.com'],\n",
       " ['dsylvester', 'promodev.com'],\n",
       " ['dsylvester', 'promodev.com'],\n",
       " ['bjessop', 'nationalacoustics.com'],\n",
       " ['jay', 'nationaltextile.net'],\n",
       " ['slieberman', 'kaufmanshoe.com'],\n",
       " ['john', 'natuzzibrosice.com'],\n",
       " ['novak', 'jansproperty.com'],\n",
       " ['p.neuman', 'neumanskitch.com'],\n",
       " ['r.schwartz', 'newconceptsllc.com'],\n",
       " ['zkassim', 'nybc.org'],\n",
       " ['ecohen', 'nydigitalcolor.com'],\n",
       " ['ram', 'nyfusa.com'],\n",
       " ['nyinsulate', 'aol.com'],\n",
       " ['sevangelinos', 'gmail.com'],\n",
       " ['joanna', 'europanbakery.com'],\n",
       " ['richard_etra', 'norampac.com'],\n",
       " ['richard_etra', 'norampac.com'],\n",
       " ['lance', 'novaoffset.com'],\n",
       " ['adenovarebiologistics.com'],\n",
       " ['joe', 'noveltycrystal.com'],\n",
       " ['MD', 'NovoArts.com'],\n",
       " ['nulifedental', 'earthlink.net'],\n",
       " ['jahlin', 'nulux.com'],\n",
       " ['robert', 'artimusnyc.com'],\n",
       " ['yk', 'ohnuts.com'],\n",
       " ['shrage', 'oldwilliamsburgh.com'],\n",
       " ['printing', 'onestopblueprinting .com'],\n",
       " ['preilly', 'opinionaccess.com'],\n",
       " ['keith', 'ovenartisans.com'],\n",
       " ['info', 'paperenterprises.com'],\n",
       " ['will', 'paralleldevelopment.net'],\n",
       " ['parkwayequip', 'optimum.net'],\n",
       " ['vicki', 'parsons-meares.com'],\n",
       " ['mmatassa', 'empiremerchants.com'],\n",
       " ['michael', 'raviolistore.com'],\n",
       " ['tax', 'pencom.com'],\n",
       " ['info', 'pentagram.com'],\n",
       " ['shermanr', 'pepsi-ny.com'],\n",
       " ['ppress160', 'aol.com'],\n",
       " ['vmanthripragada', 'petcarerx.com'],\n",
       " ['davids', 'cakedeco.com'],\n",
       " ['Patsimeone', 'forbee.com'],\n",
       " ['jason.kotara', 'gmail.com'],\n",
       " ['tida', 'pilotworks.com'],\n",
       " ['Barryt.teger', 'pintoandtegerelectric.com'],\n",
       " ['info', 'pdoinc.com'],\n",
       " ['posterprinters', 'aol.com'],\n",
       " ['premiummillwork', 'gmail.com'],\n",
       " ['dknopp', 'presentationproducts.com'],\n",
       " ['ben', 'p2print.com'],\n",
       " ['promptapparel.com'],\n",
       " ['cosmetics', 'nicka.com'],\n",
       " ['carl', 'qualitycasting.com'],\n",
       " ['maggie', 'rainbowplasticsinc.com'],\n",
       " ['ranchers2217', 'aol.com'],\n",
       " ['grandproperty1', 'aol.com'],\n",
       " ['michael.martini', 'rcn.net'],\n",
       " ['bemmert', 'jetrod.com'],\n",
       " ['paul', 'financierpastries.com'],\n",
       " ['rhys', 'myredrabbit.com'],\n",
       " ['nat', 'regalhome.net'],\n",
       " ['reinfsupply', '.net'],\n",
       " ['rhondafeinman', 'aol.com'],\n",
       " ['jbadee', 'rivaprecision.com'],\n",
       " ['dg', 'digitallaundry.net'],\n",
       " ['mgoldberg', 'rusa.com'],\n",
       " ['KERRY', 'MADROSE.COM'],\n",
       " ['sofiampaine', 'mac.com'],\n",
       " ['nperez', 'eliteairlineservices.com'],\n",
       " ['royalbaltic', 'gmail.com'],\n",
       " ['royalbaltic', 'gmail.com'],\n",
       " ['roobaby2', 'aol.com'],\n",
       " ['errol', 'missgrimble.com'],\n",
       " ['joe', 'rwsandassociates.com'],\n",
       " ['ted', 'slaerospace.com'],\n",
       " ['DBROOME', 'SBROOME.COM'],\n",
       " ['roger', 'sadowskyguitars.com'],\n",
       " ['clive', 'safeart.com'],\n",
       " ['pcapraro', 'feldmanlumber.com'],\n",
       " ['info', 'sculpturehousecasting.com'],\n",
       " ['sridhar', 'sdcdesigns.com'],\n",
       " ['office', 'sfainteriors.com'],\n",
       " ['sharanbuildersinc', 'gmail.com'],\n",
       " ['jkolman', 'gmail.com'],\n",
       " ['babu', 'signsanddecal.com'],\n",
       " ['richard', 'sillyphillie.com'],\n",
       " ['norvel', 'silverhillarts.com'],\n",
       " ['gkesner', 'silvercupstudios.com'],\n",
       " ['gkesner', 'silvercupstudios.com'],\n",
       " ['2bsilverman', 'gmail.com'],\n",
       " ['info', 'simonliuinc.com'],\n",
       " ['Ppuccio', 'simdev.com'],\n",
       " ['al', 'influencegraphics.com'],\n",
       " ['adrian', 'colossalmediagroup.com'],\n",
       " ['ekraus', 'skylinewindows.com'],\n",
       " ['mattysolow', 'gmail.com'],\n",
       " ['perrettimvp', 'gmail.com'],\n",
       " ['sspaeth', 'spaethdesign.com'],\n",
       " ['brian.c.wells', 'charter.com'],\n",
       " ['Elliott', 'squarerootsgrow.com'],\n",
       " ['john', 'stallionnyc.com'],\n",
       " ['emily', 'standandbuild.com'],\n",
       " ['stanleyplt', 'aol.com'],\n",
       " ['Yuji624', 'gmail.com'],\n",
       " ['js', 'jeshapiro.com'],\n",
       " ['YElbaz', 'superflex.com'],\n",
       " ['mpinkett', 'sweetsams.com'],\n",
       " ['ginabws', 'gmail.com'],\n",
       " ['jake', 'talasonline.com'],\n",
       " ['damian', 'thebronxbrewery.com'],\n",
       " ['cterrasi', 'dime.com'],\n",
       " ['bgarland', 'gluckpartners.com'],\n",
       " ['rochelle', 'handytool.com'],\n",
       " ['sstewart', 'igrace.com'],\n",
       " ['ianm', 'lobsterplace.com'],\n",
       " ['why86', 'verizon.net'],\n",
       " ['gt', 'gtmachinetool.com'],\n",
       " ['thirdgeneration', 'aol.com'],\n",
       " ['PAMATO', 'AMATOFURNITURE.COM'],\n",
       " ['Tsapienza', 'KLCNY.com'],\n",
       " ['jkc', 'nyu.edu'],\n",
       " ['katherine', 'titanmachine.com'],\n",
       " ['mwong', 'titone.com'],\n",
       " ['TonyCrabKing', 'newfultonfishmarket.com'],\n",
       " ['sfisher', 'tourneau.com'],\n",
       " ['tw', 'tracywatts.com'],\n",
       " ['rbennett', 'ultraflex.com'],\n",
       " ['rbennett', 'ultraflex.com'],\n",
       " ['tsapienza', 'treasureag.com'],\n",
       " ['DScenna', 'Nolva.com'],\n",
       " ['tibs', 'tristatecamera.com'],\n",
       " ['sjacobs', 'triumphconstcorp.com'],\n",
       " ['kathy.alfano', 'pepsico.com'],\n",
       " ['Tufofoods', 'aol.com'],\n",
       " ['jing', 'tmitrading.com'],\n",
       " ['Franco', 'Twoseven.net'],\n",
       " ['phil', 'silkstonenyc.com'],\n",
       " ['finance', 'usballoon.com'],\n",
       " ['grassoe', 'ulano.com'],\n",
       " ['teresa', 'uncommongoods.com'],\n",
       " ['vmaniti', 'unitedair.com'],\n",
       " ['mlafrance', 'unfcu.com'],\n",
       " ['stella.canlas', 'uwgny.com'],\n",
       " ['gil', 'urbanarchaeology.com'],\n",
       " ['urbangreenfurniture.com'],\n",
       " ['crowley', 'usta.com'],\n",
       " ['AFGIUMENTA', 'ARCHGRILLE.COM'],\n",
       " ['allroofingcorp', 'aol.com'],\n",
       " ['jscuderl', 'vbcpkg.com'],\n",
       " ['cor2vue', 'aol.com'],\n",
       " ['gary', 'vaynermedia.com'],\n",
       " ['arnaud', 'petrossian.com'],\n",
       " ['karen.jessen', 'vnsny.org'],\n",
       " ['giskarou', 'prattindustries.com'],\n",
       " ['jpharari', 'vivatime.com'],\n",
       " ['bwilks', 'w-architecture.com'],\n",
       " ['mrdessert', 'gmail.com'],\n",
       " ['fgangi', 'wallst.mail.com'],\n",
       " ['info', 'walshec.com'],\n",
       " ['peterlee', 'waterliliesfood.com'],\n",
       " ['jdedona3', 'aol.com'],\n",
       " ...]"
      ]
     },
     "execution_count": 94,
     "metadata": {},
     "output_type": "execute_result"
    }
   ],
   "source": [
    "domain=[str(d).split('@') for d in df['company email'].dropna()]\n",
    "domain"
   ]
  },
  {
   "cell_type": "code",
   "execution_count": 109,
   "id": "6cfb2622",
   "metadata": {},
   "outputs": [],
   "source": [
    "a=[]\n",
    "for d in df['company email'].dropna():\n",
    "        dom=str(d).split('@')\n",
    "        if len(dom)>1:\n",
    "            a.append(dom[1])\n",
    "        else:\n",
    "            a.append(dom)"
   ]
  },
  {
   "cell_type": "code",
   "execution_count": 110,
   "id": "1d6146aa",
   "metadata": {},
   "outputs": [
    {
     "data": {
      "text/plain": [
       "2234"
      ]
     },
     "execution_count": 110,
     "metadata": {},
     "output_type": "execute_result"
    }
   ],
   "source": [
    "len(a)"
   ]
  },
  {
   "cell_type": "code",
   "execution_count": 111,
   "id": "574bd2c3",
   "metadata": {},
   "outputs": [],
   "source": [
    "aa=set(str(d) for i,d in enumerate(a))"
   ]
  },
  {
   "cell_type": "code",
   "execution_count": 112,
   "id": "83d86726",
   "metadata": {},
   "outputs": [
    {
     "data": {
      "text/plain": [
       "603"
      ]
     },
     "execution_count": 112,
     "metadata": {},
     "output_type": "execute_result"
    }
   ],
   "source": [
    "len(aa)"
   ]
  },
  {
   "cell_type": "code",
   "execution_count": 113,
   "id": "a884979b",
   "metadata": {},
   "outputs": [
    {
     "data": {
      "text/html": [
       "<div>\n",
       "<style scoped>\n",
       "    .dataframe tbody tr th:only-of-type {\n",
       "        vertical-align: middle;\n",
       "    }\n",
       "\n",
       "    .dataframe tbody tr th {\n",
       "        vertical-align: top;\n",
       "    }\n",
       "\n",
       "    .dataframe thead th {\n",
       "        text-align: right;\n",
       "    }\n",
       "</style>\n",
       "<table border=\"1\" class=\"dataframe\">\n",
       "  <thead>\n",
       "    <tr style=\"text-align: right;\">\n",
       "      <th></th>\n",
       "      <th>Period</th>\n",
       "      <th>Company Name</th>\n",
       "      <th>company contact</th>\n",
       "      <th>company email</th>\n",
       "      <th>company phone</th>\n",
       "      <th>Address</th>\n",
       "      <th>City</th>\n",
       "      <th>State</th>\n",
       "      <th>Postcode</th>\n",
       "      <th>Industry</th>\n",
       "      <th>...</th>\n",
       "      <th>Electric Savings</th>\n",
       "      <th>Borough</th>\n",
       "      <th>Latitude</th>\n",
       "      <th>Longitude</th>\n",
       "      <th>Community Board</th>\n",
       "      <th>Council District</th>\n",
       "      <th>BIN</th>\n",
       "      <th>BBL</th>\n",
       "      <th>Census Tract (2020)</th>\n",
       "      <th>Neighborhood Tabulation Area (NTA) (2020)</th>\n",
       "    </tr>\n",
       "  </thead>\n",
       "  <tbody>\n",
       "    <tr>\n",
       "      <th>0</th>\n",
       "      <td>FY2018</td>\n",
       "      <td>139 ACA Realty, Inc.</td>\n",
       "      <td>Eitan Chandally</td>\n",
       "      <td>barbara@dial7.com</td>\n",
       "      <td>7187076123</td>\n",
       "      <td>43-23 35th Street</td>\n",
       "      <td>Long Island City</td>\n",
       "      <td>NY</td>\n",
       "      <td>11101</td>\n",
       "      <td>Commercial</td>\n",
       "      <td>...</td>\n",
       "      <td>NaN</td>\n",
       "      <td>QUEENS</td>\n",
       "      <td>40.745706</td>\n",
       "      <td>-73.929565</td>\n",
       "      <td>402.0</td>\n",
       "      <td>26.0</td>\n",
       "      <td>4003160.0</td>\n",
       "      <td>4.002220e+09</td>\n",
       "      <td>17902.0</td>\n",
       "      <td>QN0202</td>\n",
       "    </tr>\n",
       "    <tr>\n",
       "      <th>1</th>\n",
       "      <td>FY2018</td>\n",
       "      <td>141 Lake Avenue Realty c/o JR Produce, Inc.</td>\n",
       "      <td>Josef Raz</td>\n",
       "      <td>jrproduce@gmail.com</td>\n",
       "      <td>7183708782</td>\n",
       "      <td>141 Lake Avenue</td>\n",
       "      <td>Staten Island</td>\n",
       "      <td>NY</td>\n",
       "      <td>10303</td>\n",
       "      <td>Wholesale/Warehouse/Distribution</td>\n",
       "      <td>...</td>\n",
       "      <td>NaN</td>\n",
       "      <td>STATEN IS</td>\n",
       "      <td>40.632845</td>\n",
       "      <td>-74.151048</td>\n",
       "      <td>501.0</td>\n",
       "      <td>49.0</td>\n",
       "      <td>5146740.0</td>\n",
       "      <td>5.011610e+09</td>\n",
       "      <td>239.0</td>\n",
       "      <td>SI0107</td>\n",
       "    </tr>\n",
       "    <tr>\n",
       "      <th>2</th>\n",
       "      <td>FY2018</td>\n",
       "      <td>14-10 123rd Street LLC</td>\n",
       "      <td>Danica/Ivan Drazic</td>\n",
       "      <td>ddrazic@atjelectrical.com</td>\n",
       "      <td>7183210117</td>\n",
       "      <td>14-10 123rd Street</td>\n",
       "      <td>College Point</td>\n",
       "      <td>NY</td>\n",
       "      <td>11356</td>\n",
       "      <td>Commercial</td>\n",
       "      <td>...</td>\n",
       "      <td>NaN</td>\n",
       "      <td>QUEENS</td>\n",
       "      <td>40.785144</td>\n",
       "      <td>-73.844833</td>\n",
       "      <td>407.0</td>\n",
       "      <td>19.0</td>\n",
       "      <td>4098344.0</td>\n",
       "      <td>4.040850e+09</td>\n",
       "      <td>929.0</td>\n",
       "      <td>QN0701</td>\n",
       "    </tr>\n",
       "    <tr>\n",
       "      <th>3</th>\n",
       "      <td>FY2018</td>\n",
       "      <td>183 Lorriane Street LLC</td>\n",
       "      <td>Tom Sapienza</td>\n",
       "      <td>tsapienza@KLCNY.com</td>\n",
       "      <td>2128405588</td>\n",
       "      <td>183 Lorraine Street</td>\n",
       "      <td>Brooklyn</td>\n",
       "      <td>NY</td>\n",
       "      <td>11231</td>\n",
       "      <td>Wholesale/Warehouse/Distribution</td>\n",
       "      <td>...</td>\n",
       "      <td>NaN</td>\n",
       "      <td>BROOKLYN</td>\n",
       "      <td>40.673106</td>\n",
       "      <td>-74.002300</td>\n",
       "      <td>306.0</td>\n",
       "      <td>38.0</td>\n",
       "      <td>3336622.0</td>\n",
       "      <td>3.005720e+09</td>\n",
       "      <td>5302.0</td>\n",
       "      <td>BK0601</td>\n",
       "    </tr>\n",
       "    <tr>\n",
       "      <th>4</th>\n",
       "      <td>FY2018</td>\n",
       "      <td>21st Century Optics, Inc.</td>\n",
       "      <td>Ralph Woythaler</td>\n",
       "      <td>rwoythaler@21st centuryoptics.com</td>\n",
       "      <td>7183922310</td>\n",
       "      <td>47-00 33rd Street</td>\n",
       "      <td>Lond Island City</td>\n",
       "      <td>NY</td>\n",
       "      <td>11101</td>\n",
       "      <td>Manufacturing</td>\n",
       "      <td>...</td>\n",
       "      <td>NaN</td>\n",
       "      <td>QUEENS</td>\n",
       "      <td>40.742386</td>\n",
       "      <td>-73.932148</td>\n",
       "      <td>402.0</td>\n",
       "      <td>26.0</td>\n",
       "      <td>4003447.0</td>\n",
       "      <td>4.002520e+09</td>\n",
       "      <td>19901.0</td>\n",
       "      <td>QN0202</td>\n",
       "    </tr>\n",
       "  </tbody>\n",
       "</table>\n",
       "<p>5 rows × 30 columns</p>\n",
       "</div>"
      ],
      "text/plain": [
       "   Period                                 Company Name     company contact  \\\n",
       "0  FY2018                         139 ACA Realty, Inc.     Eitan Chandally   \n",
       "1  FY2018  141 Lake Avenue Realty c/o JR Produce, Inc.           Josef Raz   \n",
       "2  FY2018                       14-10 123rd Street LLC  Danica/Ivan Drazic   \n",
       "3  FY2018                      183 Lorriane Street LLC        Tom Sapienza   \n",
       "4  FY2018                    21st Century Optics, Inc.     Ralph Woythaler   \n",
       "\n",
       "                       company email company phone              Address  \\\n",
       "0                  barbara@dial7.com    7187076123    43-23 35th Street   \n",
       "1                jrproduce@gmail.com    7183708782      141 Lake Avenue   \n",
       "2          ddrazic@atjelectrical.com    7183210117   14-10 123rd Street   \n",
       "3                tsapienza@KLCNY.com    2128405588  183 Lorraine Street   \n",
       "4  rwoythaler@21st centuryoptics.com    7183922310    47-00 33rd Street   \n",
       "\n",
       "               City State  Postcode                          Industry  ...  \\\n",
       "0  Long Island City    NY     11101                        Commercial  ...   \n",
       "1     Staten Island    NY     10303  Wholesale/Warehouse/Distribution  ...   \n",
       "2     College Point    NY     11356                        Commercial  ...   \n",
       "3          Brooklyn    NY     11231  Wholesale/Warehouse/Distribution  ...   \n",
       "4  Lond Island City    NY     11101                     Manufacturing  ...   \n",
       "\n",
       "  Electric Savings    Borough   Latitude  Longitude  Community Board  \\\n",
       "0              NaN     QUEENS  40.745706 -73.929565            402.0   \n",
       "1              NaN  STATEN IS  40.632845 -74.151048            501.0   \n",
       "2              NaN     QUEENS  40.785144 -73.844833            407.0   \n",
       "3              NaN   BROOKLYN  40.673106 -74.002300            306.0   \n",
       "4              NaN     QUEENS  40.742386 -73.932148            402.0   \n",
       "\n",
       "  Council District        BIN           BBL  Census Tract (2020)  \\\n",
       "0             26.0  4003160.0  4.002220e+09              17902.0   \n",
       "1             49.0  5146740.0  5.011610e+09                239.0   \n",
       "2             19.0  4098344.0  4.040850e+09                929.0   \n",
       "3             38.0  3336622.0  3.005720e+09               5302.0   \n",
       "4             26.0  4003447.0  4.002520e+09              19901.0   \n",
       "\n",
       "   Neighborhood Tabulation Area (NTA) (2020)  \n",
       "0                                     QN0202  \n",
       "1                                     SI0107  \n",
       "2                                     QN0701  \n",
       "3                                     BK0601  \n",
       "4                                     QN0202  \n",
       "\n",
       "[5 rows x 30 columns]"
      ]
     },
     "execution_count": 113,
     "metadata": {},
     "output_type": "execute_result"
    }
   ],
   "source": [
    "df.head()"
   ]
  },
  {
   "cell_type": "code",
   "execution_count": 126,
   "id": "d756d8f2",
   "metadata": {},
   "outputs": [],
   "source": [
    "df1=df.groupby('Neighborhood Tabulation Area (NTA) (2020)')['Company Name'].nunique()>5"
   ]
  },
  {
   "cell_type": "code",
   "execution_count": 132,
   "id": "2c32b840",
   "metadata": {},
   "outputs": [],
   "source": [
    "df1=pd.DataFrame(df1)"
   ]
  },
  {
   "cell_type": "code",
   "execution_count": 133,
   "id": "219b7d77",
   "metadata": {},
   "outputs": [
    {
     "data": {
      "text/html": [
       "<div>\n",
       "<style scoped>\n",
       "    .dataframe tbody tr th:only-of-type {\n",
       "        vertical-align: middle;\n",
       "    }\n",
       "\n",
       "    .dataframe tbody tr th {\n",
       "        vertical-align: top;\n",
       "    }\n",
       "\n",
       "    .dataframe thead th {\n",
       "        text-align: right;\n",
       "    }\n",
       "</style>\n",
       "<table border=\"1\" class=\"dataframe\">\n",
       "  <thead>\n",
       "    <tr style=\"text-align: right;\">\n",
       "      <th></th>\n",
       "      <th>Company Name</th>\n",
       "    </tr>\n",
       "    <tr>\n",
       "      <th>Neighborhood Tabulation Area (NTA) (2020)</th>\n",
       "      <th></th>\n",
       "    </tr>\n",
       "  </thead>\n",
       "  <tbody>\n",
       "    <tr>\n",
       "      <th>BK0101</th>\n",
       "      <td>True</td>\n",
       "    </tr>\n",
       "    <tr>\n",
       "      <th>BK0102</th>\n",
       "      <td>False</td>\n",
       "    </tr>\n",
       "    <tr>\n",
       "      <th>BK0103</th>\n",
       "      <td>False</td>\n",
       "    </tr>\n",
       "    <tr>\n",
       "      <th>BK0104</th>\n",
       "      <td>True</td>\n",
       "    </tr>\n",
       "    <tr>\n",
       "      <th>BK0201</th>\n",
       "      <td>False</td>\n",
       "    </tr>\n",
       "    <tr>\n",
       "      <th>...</th>\n",
       "      <td>...</td>\n",
       "    </tr>\n",
       "    <tr>\n",
       "      <th>SI0106</th>\n",
       "      <td>False</td>\n",
       "    </tr>\n",
       "    <tr>\n",
       "      <th>SI0107</th>\n",
       "      <td>False</td>\n",
       "    </tr>\n",
       "    <tr>\n",
       "      <th>SI0204</th>\n",
       "      <td>False</td>\n",
       "    </tr>\n",
       "    <tr>\n",
       "      <th>SI0303</th>\n",
       "      <td>False</td>\n",
       "    </tr>\n",
       "    <tr>\n",
       "      <th>SI0305</th>\n",
       "      <td>False</td>\n",
       "    </tr>\n",
       "  </tbody>\n",
       "</table>\n",
       "<p>97 rows × 1 columns</p>\n",
       "</div>"
      ],
      "text/plain": [
       "                                           Company Name\n",
       "Neighborhood Tabulation Area (NTA) (2020)              \n",
       "BK0101                                             True\n",
       "BK0102                                            False\n",
       "BK0103                                            False\n",
       "BK0104                                             True\n",
       "BK0201                                            False\n",
       "...                                                 ...\n",
       "SI0106                                            False\n",
       "SI0107                                            False\n",
       "SI0204                                            False\n",
       "SI0303                                            False\n",
       "SI0305                                            False\n",
       "\n",
       "[97 rows x 1 columns]"
      ]
     },
     "execution_count": 133,
     "metadata": {},
     "output_type": "execute_result"
    }
   ],
   "source": [
    "df1"
   ]
  },
  {
   "cell_type": "code",
   "execution_count": 170,
   "id": "f4eef6e4",
   "metadata": {},
   "outputs": [],
   "source": [
    "NAT_5plus=[x for x in df1.index if df1.loc[x].bool()]"
   ]
  },
  {
   "cell_type": "code",
   "execution_count": 180,
   "id": "7459db84",
   "metadata": {},
   "outputs": [
    {
     "ename": "AttributeError",
     "evalue": "'SeriesGroupBy' object has no attribute 'avg'",
     "output_type": "error",
     "traceback": [
      "\u001b[0;31m---------------------------------------------------------------------------\u001b[0m",
      "\u001b[0;31mAttributeError\u001b[0m                            Traceback (most recent call last)",
      "Input \u001b[0;32mIn [180]\u001b[0m, in \u001b[0;36m<module>\u001b[0;34m\u001b[0m\n\u001b[0;32m----> 1\u001b[0m \u001b[43mdf\u001b[49m\u001b[38;5;241;43m.\u001b[39;49m\u001b[43mgroupby\u001b[49m\u001b[43m(\u001b[49m\u001b[38;5;124;43m'\u001b[39;49m\u001b[38;5;124;43mBorough\u001b[39;49m\u001b[38;5;124;43m'\u001b[39;49m\u001b[43m)\u001b[49m\u001b[43m[\u001b[49m\u001b[38;5;124;43m'\u001b[39;49m\u001b[38;5;124;43mTotal Savings\u001b[39;49m\u001b[38;5;124;43m'\u001b[39;49m\u001b[43m]\u001b[49m\u001b[38;5;241;43m.\u001b[39;49m\u001b[43mavg\u001b[49m()\n",
      "File \u001b[0;32m/opt/homebrew/lib/python3.9/site-packages/pandas/core/groupby/groupby.py:987\u001b[0m, in \u001b[0;36mGroupBy.__getattr__\u001b[0;34m(self, attr)\u001b[0m\n\u001b[1;32m    984\u001b[0m \u001b[38;5;28;01mif\u001b[39;00m attr \u001b[38;5;129;01min\u001b[39;00m \u001b[38;5;28mself\u001b[39m\u001b[38;5;241m.\u001b[39mobj:\n\u001b[1;32m    985\u001b[0m     \u001b[38;5;28;01mreturn\u001b[39;00m \u001b[38;5;28mself\u001b[39m[attr]\n\u001b[0;32m--> 987\u001b[0m \u001b[38;5;28;01mraise\u001b[39;00m \u001b[38;5;167;01mAttributeError\u001b[39;00m(\n\u001b[1;32m    988\u001b[0m     \u001b[38;5;124mf\u001b[39m\u001b[38;5;124m\"\u001b[39m\u001b[38;5;124m'\u001b[39m\u001b[38;5;132;01m{\u001b[39;00m\u001b[38;5;28mtype\u001b[39m(\u001b[38;5;28mself\u001b[39m)\u001b[38;5;241m.\u001b[39m\u001b[38;5;18m__name__\u001b[39m\u001b[38;5;132;01m}\u001b[39;00m\u001b[38;5;124m'\u001b[39m\u001b[38;5;124m object has no attribute \u001b[39m\u001b[38;5;124m'\u001b[39m\u001b[38;5;132;01m{\u001b[39;00mattr\u001b[38;5;132;01m}\u001b[39;00m\u001b[38;5;124m'\u001b[39m\u001b[38;5;124m\"\u001b[39m\n\u001b[1;32m    989\u001b[0m )\n",
      "\u001b[0;31mAttributeError\u001b[0m: 'SeriesGroupBy' object has no attribute 'avg'"
     ]
    }
   ],
   "source": [
    "df.groupby('Borough')['Total Savings'].avg()"
   ]
  },
  {
   "cell_type": "code",
   "execution_count": 184,
   "id": "322d92e1",
   "metadata": {},
   "outputs": [
    {
     "data": {
      "text/html": [
       "<div>\n",
       "<style scoped>\n",
       "    .dataframe tbody tr th:only-of-type {\n",
       "        vertical-align: middle;\n",
       "    }\n",
       "\n",
       "    .dataframe tbody tr th {\n",
       "        vertical-align: top;\n",
       "    }\n",
       "\n",
       "    .dataframe thead tr th {\n",
       "        text-align: left;\n",
       "    }\n",
       "\n",
       "    .dataframe thead tr:last-of-type th {\n",
       "        text-align: right;\n",
       "    }\n",
       "</style>\n",
       "<table border=\"1\" class=\"dataframe\">\n",
       "  <thead>\n",
       "    <tr>\n",
       "      <th></th>\n",
       "      <th colspan=\"3\" halign=\"left\">Total Savings</th>\n",
       "      <th>Job created</th>\n",
       "    </tr>\n",
       "    <tr>\n",
       "      <th></th>\n",
       "      <th>mean</th>\n",
       "      <th>min</th>\n",
       "      <th>max</th>\n",
       "      <th>sum</th>\n",
       "    </tr>\n",
       "    <tr>\n",
       "      <th>Borough</th>\n",
       "      <th></th>\n",
       "      <th></th>\n",
       "      <th></th>\n",
       "      <th></th>\n",
       "    </tr>\n",
       "  </thead>\n",
       "  <tbody>\n",
       "    <tr>\n",
       "      <th>BRONX</th>\n",
       "      <td>53605.361496</td>\n",
       "      <td>1.85</td>\n",
       "      <td>1145723.00</td>\n",
       "      <td>696.0</td>\n",
       "    </tr>\n",
       "    <tr>\n",
       "      <th>BROOKLYN</th>\n",
       "      <td>25072.093856</td>\n",
       "      <td>-109910.06</td>\n",
       "      <td>1324645.37</td>\n",
       "      <td>1301.0</td>\n",
       "    </tr>\n",
       "    <tr>\n",
       "      <th>MANHATTAN</th>\n",
       "      <td>89445.796587</td>\n",
       "      <td>7.76</td>\n",
       "      <td>2210101.42</td>\n",
       "      <td>70.0</td>\n",
       "    </tr>\n",
       "    <tr>\n",
       "      <th>QUEENS</th>\n",
       "      <td>23248.519822</td>\n",
       "      <td>-16370.51</td>\n",
       "      <td>971676.04</td>\n",
       "      <td>1196.0</td>\n",
       "    </tr>\n",
       "    <tr>\n",
       "      <th>STATEN IS</th>\n",
       "      <td>237812.919737</td>\n",
       "      <td>768.16</td>\n",
       "      <td>3998240.16</td>\n",
       "      <td>326.0</td>\n",
       "    </tr>\n",
       "  </tbody>\n",
       "</table>\n",
       "</div>"
      ],
      "text/plain": [
       "           Total Savings                        Job created\n",
       "                    mean        min         max         sum\n",
       "Borough                                                    \n",
       "BRONX       53605.361496       1.85  1145723.00       696.0\n",
       "BROOKLYN    25072.093856 -109910.06  1324645.37      1301.0\n",
       "MANHATTAN   89445.796587       7.76  2210101.42        70.0\n",
       "QUEENS      23248.519822  -16370.51   971676.04      1196.0\n",
       "STATEN IS  237812.919737     768.16  3998240.16       326.0"
      ]
     },
     "execution_count": 184,
     "metadata": {},
     "output_type": "execute_result"
    }
   ],
   "source": [
    "df.groupby('Borough').aggregate({'Total Savings':['mean','min','max'],'Job created':'sum'})\n"
   ]
  },
  {
   "cell_type": "code",
   "execution_count": 196,
   "id": "29120351",
   "metadata": {},
   "outputs": [
    {
     "data": {
      "text/html": [
       "<div>\n",
       "<style scoped>\n",
       "    .dataframe tbody tr th:only-of-type {\n",
       "        vertical-align: middle;\n",
       "    }\n",
       "\n",
       "    .dataframe tbody tr th {\n",
       "        vertical-align: top;\n",
       "    }\n",
       "\n",
       "    .dataframe thead tr th {\n",
       "        text-align: left;\n",
       "    }\n",
       "\n",
       "    .dataframe thead tr:last-of-type th {\n",
       "        text-align: right;\n",
       "    }\n",
       "</style>\n",
       "<table border=\"1\" class=\"dataframe\">\n",
       "  <thead>\n",
       "    <tr>\n",
       "      <th></th>\n",
       "      <th colspan=\"2\" halign=\"left\">Total Savings</th>\n",
       "      <th>Job created</th>\n",
       "    </tr>\n",
       "    <tr>\n",
       "      <th></th>\n",
       "      <th>mean</th>\n",
       "      <th>max</th>\n",
       "      <th>sum</th>\n",
       "    </tr>\n",
       "    <tr>\n",
       "      <th>Neighborhood Tabulation Area (NTA) (2020)</th>\n",
       "      <th></th>\n",
       "      <th></th>\n",
       "      <th></th>\n",
       "    </tr>\n",
       "  </thead>\n",
       "  <tbody>\n",
       "    <tr>\n",
       "      <th>BK0101</th>\n",
       "      <td>10367.961795</td>\n",
       "      <td>64115.16</td>\n",
       "      <td>16.0</td>\n",
       "    </tr>\n",
       "    <tr>\n",
       "      <th>BK0104</th>\n",
       "      <td>21158.253077</td>\n",
       "      <td>218485.27</td>\n",
       "      <td>187.0</td>\n",
       "    </tr>\n",
       "    <tr>\n",
       "      <th>BK0202</th>\n",
       "      <td>74011.255897</td>\n",
       "      <td>1324645.37</td>\n",
       "      <td>0.0</td>\n",
       "    </tr>\n",
       "    <tr>\n",
       "      <th>BK0261</th>\n",
       "      <td>12876.958500</td>\n",
       "      <td>69717.20</td>\n",
       "      <td>0.0</td>\n",
       "    </tr>\n",
       "    <tr>\n",
       "      <th>BK0502</th>\n",
       "      <td>13810.223333</td>\n",
       "      <td>70242.61</td>\n",
       "      <td>0.0</td>\n",
       "    </tr>\n",
       "    <tr>\n",
       "      <th>BK0503</th>\n",
       "      <td>62669.078889</td>\n",
       "      <td>362323.89</td>\n",
       "      <td>415.0</td>\n",
       "    </tr>\n",
       "    <tr>\n",
       "      <th>BK0601</th>\n",
       "      <td>25358.179524</td>\n",
       "      <td>140741.34</td>\n",
       "      <td>97.0</td>\n",
       "    </tr>\n",
       "    <tr>\n",
       "      <th>BK0702</th>\n",
       "      <td>17596.188571</td>\n",
       "      <td>454995.36</td>\n",
       "      <td>92.0</td>\n",
       "    </tr>\n",
       "    <tr>\n",
       "      <th>BK0802</th>\n",
       "      <td>3620.966591</td>\n",
       "      <td>17606.37</td>\n",
       "      <td>0.0</td>\n",
       "    </tr>\n",
       "    <tr>\n",
       "      <th>BX0101</th>\n",
       "      <td>17226.212931</td>\n",
       "      <td>146128.99</td>\n",
       "      <td>106.0</td>\n",
       "    </tr>\n",
       "    <tr>\n",
       "      <th>BX0201</th>\n",
       "      <td>21078.529496</td>\n",
       "      <td>185830.74</td>\n",
       "      <td>133.0</td>\n",
       "    </tr>\n",
       "    <tr>\n",
       "      <th>BX1001</th>\n",
       "      <td>10510.395882</td>\n",
       "      <td>53049.29</td>\n",
       "      <td>20.0</td>\n",
       "    </tr>\n",
       "    <tr>\n",
       "      <th>MN0101</th>\n",
       "      <td>431063.858667</td>\n",
       "      <td>2210101.42</td>\n",
       "      <td>0.0</td>\n",
       "    </tr>\n",
       "    <tr>\n",
       "      <th>MN0102</th>\n",
       "      <td>47655.748000</td>\n",
       "      <td>415074.57</td>\n",
       "      <td>4.0</td>\n",
       "    </tr>\n",
       "    <tr>\n",
       "      <th>MN0902</th>\n",
       "      <td>2398.261224</td>\n",
       "      <td>5327.14</td>\n",
       "      <td>10.0</td>\n",
       "    </tr>\n",
       "    <tr>\n",
       "      <th>MN1102</th>\n",
       "      <td>8909.400625</td>\n",
       "      <td>31914.22</td>\n",
       "      <td>8.0</td>\n",
       "    </tr>\n",
       "    <tr>\n",
       "      <th>QN0101</th>\n",
       "      <td>14292.983784</td>\n",
       "      <td>71361.26</td>\n",
       "      <td>100.0</td>\n",
       "    </tr>\n",
       "    <tr>\n",
       "      <th>QN0105</th>\n",
       "      <td>59201.958046</td>\n",
       "      <td>971676.04</td>\n",
       "      <td>105.0</td>\n",
       "    </tr>\n",
       "    <tr>\n",
       "      <th>QN0161</th>\n",
       "      <td>2489.384000</td>\n",
       "      <td>8244.36</td>\n",
       "      <td>0.0</td>\n",
       "    </tr>\n",
       "    <tr>\n",
       "      <th>QN0201</th>\n",
       "      <td>27410.526875</td>\n",
       "      <td>740244.55</td>\n",
       "      <td>78.0</td>\n",
       "    </tr>\n",
       "    <tr>\n",
       "      <th>QN0202</th>\n",
       "      <td>13586.924023</td>\n",
       "      <td>72631.58</td>\n",
       "      <td>125.0</td>\n",
       "    </tr>\n",
       "    <tr>\n",
       "      <th>QN0203</th>\n",
       "      <td>6549.470909</td>\n",
       "      <td>21904.83</td>\n",
       "      <td>10.0</td>\n",
       "    </tr>\n",
       "    <tr>\n",
       "      <th>QN0501</th>\n",
       "      <td>13278.137101</td>\n",
       "      <td>223063.13</td>\n",
       "      <td>195.0</td>\n",
       "    </tr>\n",
       "    <tr>\n",
       "      <th>QN0502</th>\n",
       "      <td>11908.803529</td>\n",
       "      <td>37564.03</td>\n",
       "      <td>3.0</td>\n",
       "    </tr>\n",
       "    <tr>\n",
       "      <th>QN0701</th>\n",
       "      <td>33604.169773</td>\n",
       "      <td>423362.55</td>\n",
       "      <td>120.0</td>\n",
       "    </tr>\n",
       "    <tr>\n",
       "      <th>QN0904</th>\n",
       "      <td>1739.515833</td>\n",
       "      <td>7768.10</td>\n",
       "      <td>0.0</td>\n",
       "    </tr>\n",
       "    <tr>\n",
       "      <th>QN1306</th>\n",
       "      <td>21160.505200</td>\n",
       "      <td>140294.51</td>\n",
       "      <td>0.0</td>\n",
       "    </tr>\n",
       "  </tbody>\n",
       "</table>\n",
       "</div>"
      ],
      "text/plain": [
       "                                           Total Savings              \\\n",
       "                                                    mean         max   \n",
       "Neighborhood Tabulation Area (NTA) (2020)                              \n",
       "BK0101                                      10367.961795    64115.16   \n",
       "BK0104                                      21158.253077   218485.27   \n",
       "BK0202                                      74011.255897  1324645.37   \n",
       "BK0261                                      12876.958500    69717.20   \n",
       "BK0502                                      13810.223333    70242.61   \n",
       "BK0503                                      62669.078889   362323.89   \n",
       "BK0601                                      25358.179524   140741.34   \n",
       "BK0702                                      17596.188571   454995.36   \n",
       "BK0802                                       3620.966591    17606.37   \n",
       "BX0101                                      17226.212931   146128.99   \n",
       "BX0201                                      21078.529496   185830.74   \n",
       "BX1001                                      10510.395882    53049.29   \n",
       "MN0101                                     431063.858667  2210101.42   \n",
       "MN0102                                      47655.748000   415074.57   \n",
       "MN0902                                       2398.261224     5327.14   \n",
       "MN1102                                       8909.400625    31914.22   \n",
       "QN0101                                      14292.983784    71361.26   \n",
       "QN0105                                      59201.958046   971676.04   \n",
       "QN0161                                       2489.384000     8244.36   \n",
       "QN0201                                      27410.526875   740244.55   \n",
       "QN0202                                      13586.924023    72631.58   \n",
       "QN0203                                       6549.470909    21904.83   \n",
       "QN0501                                      13278.137101   223063.13   \n",
       "QN0502                                      11908.803529    37564.03   \n",
       "QN0701                                      33604.169773   423362.55   \n",
       "QN0904                                       1739.515833     7768.10   \n",
       "QN1306                                      21160.505200   140294.51   \n",
       "\n",
       "                                          Job created  \n",
       "                                                  sum  \n",
       "Neighborhood Tabulation Area (NTA) (2020)              \n",
       "BK0101                                           16.0  \n",
       "BK0104                                          187.0  \n",
       "BK0202                                            0.0  \n",
       "BK0261                                            0.0  \n",
       "BK0502                                            0.0  \n",
       "BK0503                                          415.0  \n",
       "BK0601                                           97.0  \n",
       "BK0702                                           92.0  \n",
       "BK0802                                            0.0  \n",
       "BX0101                                          106.0  \n",
       "BX0201                                          133.0  \n",
       "BX1001                                           20.0  \n",
       "MN0101                                            0.0  \n",
       "MN0102                                            4.0  \n",
       "MN0902                                           10.0  \n",
       "MN1102                                            8.0  \n",
       "QN0101                                          100.0  \n",
       "QN0105                                          105.0  \n",
       "QN0161                                            0.0  \n",
       "QN0201                                           78.0  \n",
       "QN0202                                          125.0  \n",
       "QN0203                                           10.0  \n",
       "QN0501                                          195.0  \n",
       "QN0502                                            3.0  \n",
       "QN0701                                          120.0  \n",
       "QN0904                                            0.0  \n",
       "QN1306                                            0.0  "
      ]
     },
     "execution_count": 196,
     "metadata": {},
     "output_type": "execute_result"
    }
   ],
   "source": [
    "df[df['Neighborhood Tabulation Area (NTA) (2020)'].isin(NAT_5plus)].groupby('Neighborhood Tabulation Area (NTA) (2020)').aggregate({'Total Savings':['mean','max'],'Job created':'sum'})\n"
   ]
  },
  {
   "cell_type": "code",
   "execution_count": 3,
   "id": "076673fa",
   "metadata": {},
   "outputs": [],
   "source": [
    "import numpy as np"
   ]
  },
  {
   "cell_type": "code",
   "execution_count": 52,
   "id": "2441d3a1",
   "metadata": {
    "scrolled": false
   },
   "outputs": [],
   "source": [
    "label=np.ones((3,3,3))*0\n"
   ]
  },
  {
   "cell_type": "code",
   "execution_count": 49,
   "id": "300c4caf",
   "metadata": {},
   "outputs": [
    {
     "data": {
      "text/plain": [
       "array([[[0., 0., 0.],\n",
       "        [0., 0., 0.],\n",
       "        [0., 0., 0.]],\n",
       "\n",
       "       [[0., 0., 0.],\n",
       "        [0., 9., 9.],\n",
       "        [0., 9., 9.]],\n",
       "\n",
       "       [[0., 0., 0.],\n",
       "        [0., 0., 0.],\n",
       "        [0., 0., 0.]]])"
      ]
     },
     "execution_count": 49,
     "metadata": {},
     "output_type": "execute_result"
    }
   ],
   "source": [
    "a=label[1,1:,1:]\n",
    "label"
   ]
  },
  {
   "cell_type": "code",
   "execution_count": 62,
   "id": "94be17fe",
   "metadata": {},
   "outputs": [],
   "source": [
    "label=np.ones((4,4,4))*0\n",
    "label[1,:,3]=1"
   ]
  },
  {
   "cell_type": "code",
   "execution_count": 63,
   "id": "9538452e",
   "metadata": {},
   "outputs": [
    {
     "data": {
      "text/plain": [
       "array([[[0., 0., 0., 0.],\n",
       "        [0., 0., 0., 0.],\n",
       "        [0., 0., 0., 0.],\n",
       "        [0., 0., 0., 0.]],\n",
       "\n",
       "       [[0., 0., 0., 1.],\n",
       "        [0., 0., 0., 1.],\n",
       "        [0., 0., 0., 1.],\n",
       "        [0., 0., 0., 1.]],\n",
       "\n",
       "       [[0., 0., 0., 0.],\n",
       "        [0., 0., 0., 0.],\n",
       "        [0., 0., 0., 0.],\n",
       "        [0., 0., 0., 0.]],\n",
       "\n",
       "       [[0., 0., 0., 0.],\n",
       "        [0., 0., 0., 0.],\n",
       "        [0., 0., 0., 0.],\n",
       "        [0., 0., 0., 0.]]])"
      ]
     },
     "execution_count": 63,
     "metadata": {},
     "output_type": "execute_result"
    }
   ],
   "source": [
    "label"
   ]
  },
  {
   "cell_type": "code",
   "execution_count": 77,
   "id": "061671ec",
   "metadata": {},
   "outputs": [
    {
     "name": "stdout",
     "output_type": "stream",
     "text": [
      "None\n"
     ]
    }
   ],
   "source": [
    "fruits=['strawberry','apple','banana','cactus']\n",
    "\n",
    "print(fruits.sort())\n",
    "\n",
    "# print(fruits.sorted())"
   ]
  },
  {
   "cell_type": "code",
   "execution_count": 79,
   "id": "6692dec1",
   "metadata": {},
   "outputs": [],
   "source": [
    "d=fruits.sort()"
   ]
  },
  {
   "cell_type": "code",
   "execution_count": 81,
   "id": "68f5dee7",
   "metadata": {},
   "outputs": [],
   "source": [
    "d=[2,4,1,3,7,5]"
   ]
  },
  {
   "cell_type": "code",
   "execution_count": 82,
   "id": "38036b90",
   "metadata": {},
   "outputs": [],
   "source": [
    "d.sort()"
   ]
  },
  {
   "cell_type": "code",
   "execution_count": 83,
   "id": "684c25e6",
   "metadata": {},
   "outputs": [
    {
     "data": {
      "text/plain": [
       "[1, 2, 3, 4, 5, 7]"
      ]
     },
     "execution_count": 83,
     "metadata": {},
     "output_type": "execute_result"
    }
   ],
   "source": [
    "d"
   ]
  },
  {
   "cell_type": "code",
   "execution_count": 84,
   "id": "d7006e55",
   "metadata": {},
   "outputs": [
    {
     "data": {
      "text/plain": [
       "[1, 2, 3, 4, 5, 7]"
      ]
     },
     "execution_count": 84,
     "metadata": {},
     "output_type": "execute_result"
    }
   ],
   "source": [
    "d"
   ]
  },
  {
   "cell_type": "code",
   "execution_count": 85,
   "id": "6a5a886d",
   "metadata": {},
   "outputs": [
    {
     "name": "stdout",
     "output_type": "stream",
     "text": [
      "  (1, 2)\t3\n"
     ]
    }
   ],
   "source": [
    "import numpy as np \n",
    "\n",
    "from scipy.sparse import csr_matrix \n",
    "\n",
    "\n",
    "arr = np.array(([0, 0, 0], [0, 0, 3]))\n",
    "\n",
    "print(csr_matrix(arr))"
   ]
  },
  {
   "cell_type": "code",
   "execution_count": 91,
   "id": "47b7f43d",
   "metadata": {},
   "outputs": [],
   "source": [
    "def f1(outer):\n",
    "    def f2(inner):\n",
    "        outer='this is not a'\n",
    "        return outer+inner\n",
    "    return f2"
   ]
  },
  {
   "cell_type": "code",
   "execution_count": 92,
   "id": "13da84f1",
   "metadata": {},
   "outputs": [],
   "source": [
    "a=f1('this is a')"
   ]
  },
  {
   "cell_type": "code",
   "execution_count": 93,
   "id": "ae1899a5",
   "metadata": {},
   "outputs": [
    {
     "data": {
      "text/plain": [
       "<function __main__.f1.<locals>.f2(inner)>"
      ]
     },
     "execution_count": 93,
     "metadata": {},
     "output_type": "execute_result"
    }
   ],
   "source": [
    "a"
   ]
  },
  {
   "cell_type": "code",
   "execution_count": 94,
   "id": "a15c9009",
   "metadata": {},
   "outputs": [
    {
     "data": {
      "text/plain": [
       "'this is not adog'"
      ]
     },
     "execution_count": 94,
     "metadata": {},
     "output_type": "execute_result"
    }
   ],
   "source": [
    "a('dog')"
   ]
  },
  {
   "cell_type": "code",
   "execution_count": 99,
   "id": "964f8a46",
   "metadata": {},
   "outputs": [],
   "source": [
    "x=2\n",
    "y=x<<5"
   ]
  },
  {
   "cell_type": "code",
   "execution_count": 100,
   "id": "d00ca635",
   "metadata": {},
   "outputs": [
    {
     "data": {
      "text/plain": [
       "64"
      ]
     },
     "execution_count": 100,
     "metadata": {},
     "output_type": "execute_result"
    }
   ],
   "source": [
    "y"
   ]
  },
  {
   "cell_type": "code",
   "execution_count": 101,
   "id": "77d0ac6f",
   "metadata": {},
   "outputs": [
    {
     "data": {
      "text/plain": [
       "0"
      ]
     },
     "execution_count": 101,
     "metadata": {},
     "output_type": "execute_result"
    }
   ],
   "source": [
    "x&y"
   ]
  },
  {
   "cell_type": "code",
   "execution_count": 110,
   "id": "03295aa8",
   "metadata": {},
   "outputs": [],
   "source": [
    "x=np.arange(0,10,10)"
   ]
  },
  {
   "cell_type": "code",
   "execution_count": 111,
   "id": "bd8d6a33",
   "metadata": {},
   "outputs": [
    {
     "data": {
      "text/plain": [
       "array([0])"
      ]
     },
     "execution_count": 111,
     "metadata": {},
     "output_type": "execute_result"
    }
   ],
   "source": [
    "x"
   ]
  },
  {
   "cell_type": "code",
   "execution_count": 120,
   "id": "be937f8d",
   "metadata": {},
   "outputs": [
    {
     "name": "stdout",
     "output_type": "stream",
     "text": [
      "smile\n",
      "()\n"
     ]
    }
   ],
   "source": [
    "import re \n",
    "\n",
    "lst = [\"smile\"]\n",
    "\n",
    "for element in lst:\n",
    "    print(element)\n",
    "    l = re.match(\"^s...e$\", element)\n",
    "\n",
    "    if l:\n",
    "\n",
    "        print(l.groups())\n",
    "\n",
    "    else:\n",
    "\n",
    "        print(\"smile\")"
   ]
  },
  {
   "cell_type": "code",
   "execution_count": 145,
   "id": "d364211d",
   "metadata": {},
   "outputs": [
    {
     "name": "stdout",
     "output_type": "stream",
     "text": [
      "dict_values(['Workera', 'For', 'Learners'])\n"
     ]
    }
   ],
   "source": [
    "def print_function(**kwargs):\n",
    "    \n",
    "    print(kwargs.values())\n",
    "\n",
    "\n",
    "kwargs = {\"arg1\" : \"Workera\", \"arg2\" : \"For\", \"arg3\" : \"Learners\"}\n",
    "\n",
    "print_function(**kwargs)  "
   ]
  },
  {
   "cell_type": "code",
   "execution_count": 140,
   "id": "3dec6da9",
   "metadata": {},
   "outputs": [
    {
     "data": {
      "text/plain": [
       "('arg2', 'For')"
      ]
     },
     "execution_count": 140,
     "metadata": {},
     "output_type": "execute_result"
    }
   ],
   "source": [
    "list(kwargs.items())[1]"
   ]
  },
  {
   "cell_type": "code",
   "execution_count": 131,
   "id": "6a91c97a",
   "metadata": {},
   "outputs": [
    {
     "data": {
      "text/plain": [
       "'Workera'"
      ]
     },
     "execution_count": 131,
     "metadata": {},
     "output_type": "execute_result"
    }
   ],
   "source": [
    "kwargs['arg1']"
   ]
  },
  {
   "cell_type": "code",
   "execution_count": 147,
   "id": "ce02fed9",
   "metadata": {},
   "outputs": [],
   "source": [
    "a=np.array([1,2,3],ndmin=3)"
   ]
  },
  {
   "cell_type": "code",
   "execution_count": 148,
   "id": "eff8c601",
   "metadata": {},
   "outputs": [
    {
     "data": {
      "text/plain": [
       "array([[[1, 2, 3]]])"
      ]
     },
     "execution_count": 148,
     "metadata": {},
     "output_type": "execute_result"
    }
   ],
   "source": [
    "a[]"
   ]
  },
  {
   "cell_type": "code",
   "execution_count": 149,
   "id": "62719744",
   "metadata": {},
   "outputs": [],
   "source": [
    "b=np.arange(5)"
   ]
  },
  {
   "cell_type": "code",
   "execution_count": 150,
   "id": "e730393d",
   "metadata": {},
   "outputs": [
    {
     "data": {
      "text/plain": [
       "array([0, 1, 2, 3, 4])"
      ]
     },
     "execution_count": 150,
     "metadata": {},
     "output_type": "execute_result"
    }
   ],
   "source": [
    "b"
   ]
  },
  {
   "cell_type": "code",
   "execution_count": 151,
   "id": "d4604a40",
   "metadata": {},
   "outputs": [
    {
     "ename": "ValueError",
     "evalue": "operands could not be broadcast together with shapes (1,1,3) (5,) ",
     "output_type": "error",
     "traceback": [
      "\u001b[0;31m---------------------------------------------------------------------------\u001b[0m",
      "\u001b[0;31mValueError\u001b[0m                                Traceback (most recent call last)",
      "Input \u001b[0;32mIn [151]\u001b[0m, in \u001b[0;36m<module>\u001b[0;34m\u001b[0m\n\u001b[0;32m----> 1\u001b[0m \u001b[43ma\u001b[49m\u001b[38;5;241;43m-\u001b[39;49m\u001b[43mb\u001b[49m\n",
      "\u001b[0;31mValueError\u001b[0m: operands could not be broadcast together with shapes (1,1,3) (5,) "
     ]
    }
   ],
   "source": [
    "a-b"
   ]
  },
  {
   "cell_type": "code",
   "execution_count": 158,
   "id": "ff521d8a",
   "metadata": {},
   "outputs": [],
   "source": [
    "A='A51'"
   ]
  },
  {
   "cell_type": "code",
   "execution_count": 159,
   "id": "cb5ebd4f",
   "metadata": {},
   "outputs": [
    {
     "data": {
      "text/plain": [
       "str"
      ]
     },
     "execution_count": 159,
     "metadata": {},
     "output_type": "execute_result"
    }
   ],
   "source": [
    "type(A)"
   ]
  },
  {
   "cell_type": "code",
   "execution_count": 160,
   "id": "c8880638",
   "metadata": {},
   "outputs": [
    {
     "data": {
      "text/plain": [
       "'5'"
      ]
     },
     "execution_count": 160,
     "metadata": {},
     "output_type": "execute_result"
    }
   ],
   "source": [
    "A[1]"
   ]
  },
  {
   "cell_type": "code",
   "execution_count": 170,
   "id": "402afbef",
   "metadata": {},
   "outputs": [],
   "source": [
    "a=lambda x,y,z: x+y+2*z"
   ]
  },
  {
   "cell_type": "code",
   "execution_count": null,
   "id": "e2dbe225",
   "metadata": {},
   "outputs": [],
   "source": []
  },
  {
   "cell_type": "code",
   "execution_count": 172,
   "id": "15e3a000",
   "metadata": {},
   "outputs": [
    {
     "name": "stdout",
     "output_type": "stream",
     "text": [
      "9\n"
     ]
    }
   ],
   "source": [
    "print(a(1,2,3))"
   ]
  },
  {
   "cell_type": "code",
   "execution_count": 173,
   "id": "15777f3b",
   "metadata": {},
   "outputs": [],
   "source": [
    "a=np.arange(4)"
   ]
  },
  {
   "cell_type": "code",
   "execution_count": 174,
   "id": "eff2015c",
   "metadata": {},
   "outputs": [
    {
     "data": {
      "text/plain": [
       "array([0, 1, 2, 3])"
      ]
     },
     "execution_count": 174,
     "metadata": {},
     "output_type": "execute_result"
    }
   ],
   "source": [
    "a"
   ]
  },
  {
   "cell_type": "code",
   "execution_count": 187,
   "id": "c9ad927f",
   "metadata": {},
   "outputs": [],
   "source": [
    "def ff(t):\n",
    "    print(t)\n",
    "    \n"
   ]
  },
  {
   "cell_type": "code",
   "execution_count": 188,
   "id": "631cdb55",
   "metadata": {},
   "outputs": [
    {
     "ename": "TypeError",
     "evalue": "ff() takes 1 positional argument but 4 were given",
     "output_type": "error",
     "traceback": [
      "\u001b[0;31m---------------------------------------------------------------------------\u001b[0m",
      "\u001b[0;31mTypeError\u001b[0m                                 Traceback (most recent call last)",
      "Input \u001b[0;32mIn [188]\u001b[0m, in \u001b[0;36m<module>\u001b[0;34m\u001b[0m\n\u001b[0;32m----> 1\u001b[0m \u001b[43mff\u001b[49m\u001b[43m(\u001b[49m\u001b[43ma\u001b[49m\u001b[43m,\u001b[49m\u001b[43ma\u001b[49m\u001b[43m,\u001b[49m\u001b[43ma\u001b[49m\u001b[43m,\u001b[49m\u001b[43ma\u001b[49m\u001b[43m)\u001b[49m\n",
      "\u001b[0;31mTypeError\u001b[0m: ff() takes 1 positional argument but 4 were given"
     ]
    }
   ],
   "source": [
    "ff(a,a,a,a)"
   ]
  },
  {
   "cell_type": "code",
   "execution_count": 190,
   "id": "ab0c7e10",
   "metadata": {},
   "outputs": [],
   "source": [
    "class ev:\n",
    "    def _init_(self,kisi,yas):\n",
    "        self.kisi=kisi\n",
    "        self.yas=yas"
   ]
  },
  {
   "cell_type": "code",
   "execution_count": 191,
   "id": "8f008b66",
   "metadata": {},
   "outputs": [],
   "source": [
    "a=ev"
   ]
  },
  {
   "cell_type": "code",
   "execution_count": 193,
   "id": "4e05d04d",
   "metadata": {},
   "outputs": [],
   "source": [
    "a.k='murat'"
   ]
  },
  {
   "cell_type": "code",
   "execution_count": 195,
   "id": "7eccbf7c",
   "metadata": {},
   "outputs": [
    {
     "name": "stdout",
     "output_type": "stream",
     "text": [
      "John\n",
      "36\n"
     ]
    }
   ],
   "source": [
    "class Person:\n",
    "  def __init__(self, ad, yas):\n",
    "    self.name = ad\n",
    "    self.age = yas\n",
    "\n",
    "p1 = Person(\"John\", 36)\n",
    "\n",
    "print(p1.name)\n",
    "print(p1.age)"
   ]
  },
  {
   "cell_type": "code",
   "execution_count": 196,
   "id": "4321d4be",
   "metadata": {},
   "outputs": [
    {
     "data": {
      "text/plain": [
       "'John'"
      ]
     },
     "execution_count": 196,
     "metadata": {},
     "output_type": "execute_result"
    }
   ],
   "source": [
    "p1.name"
   ]
  },
  {
   "cell_type": "code",
   "execution_count": 197,
   "id": "a4a97a5a",
   "metadata": {},
   "outputs": [],
   "source": [
    "p1.name='ali'"
   ]
  },
  {
   "cell_type": "code",
   "execution_count": 203,
   "id": "26ce2b84",
   "metadata": {},
   "outputs": [],
   "source": [
    "A=Person('ali',33)"
   ]
  },
  {
   "cell_type": "code",
   "execution_count": 204,
   "id": "b83293a2",
   "metadata": {},
   "outputs": [
    {
     "data": {
      "text/plain": [
       "<__main__.Person at 0x16c662d30>"
      ]
     },
     "execution_count": 204,
     "metadata": {},
     "output_type": "execute_result"
    }
   ],
   "source": [
    "A"
   ]
  },
  {
   "cell_type": "code",
   "execution_count": 206,
   "id": "a00544d7",
   "metadata": {},
   "outputs": [
    {
     "data": {
      "text/plain": [
       "'ali'"
      ]
     },
     "execution_count": 206,
     "metadata": {},
     "output_type": "execute_result"
    }
   ],
   "source": [
    "A.name"
   ]
  },
  {
   "cell_type": "code",
   "execution_count": 224,
   "id": "b2e4053a",
   "metadata": {},
   "outputs": [],
   "source": [
    "x=dt.datetime(2023,9,7,22,33,33)"
   ]
  },
  {
   "cell_type": "code",
   "execution_count": 225,
   "id": "e4ea2f62",
   "metadata": {},
   "outputs": [],
   "source": [
    "import datetime as dt?"
   ]
  },
  {
   "cell_type": "code",
   "execution_count": null,
   "id": "9ebf58d3",
   "metadata": {},
   "outputs": [],
   "source": [
    "import datetime as dt"
   ]
  },
  {
   "cell_type": "code",
   "execution_count": 226,
   "id": "8e7cd9f6",
   "metadata": {},
   "outputs": [],
   "source": [
    "import datetime as dt"
   ]
  },
  {
   "cell_type": "code",
   "execution_count": 227,
   "id": "e945d505",
   "metadata": {},
   "outputs": [
    {
     "data": {
      "text/plain": [
       "datetime.datetime(2023, 9, 7, 22, 33, 33)"
      ]
     },
     "execution_count": 227,
     "metadata": {},
     "output_type": "execute_result"
    }
   ],
   "source": [
    "x"
   ]
  },
  {
   "cell_type": "code",
   "execution_count": 228,
   "id": "c0a19865",
   "metadata": {},
   "outputs": [
    {
     "data": {
      "text/plain": [
       "7"
      ]
     },
     "execution_count": 228,
     "metadata": {},
     "output_type": "execute_result"
    }
   ],
   "source": [
    "x.day"
   ]
  },
  {
   "cell_type": "code",
   "execution_count": 229,
   "id": "304caf0b",
   "metadata": {},
   "outputs": [],
   "source": [
    "### x.date()"
   ]
  },
  {
   "cell_type": "code",
   "execution_count": 235,
   "id": "65c1aea5",
   "metadata": {},
   "outputs": [
    {
     "data": {
      "text/plain": [
       "'Thu Sep  7 22:33:33 2023'"
      ]
     },
     "execution_count": 235,
     "metadata": {},
     "output_type": "execute_result"
    }
   ],
   "source": [
    "x.strftime('%c')"
   ]
  },
  {
   "cell_type": "code",
   "execution_count": 238,
   "id": "a059c9dd",
   "metadata": {},
   "outputs": [],
   "source": [
    "import math\n"
   ]
  },
  {
   "cell_type": "code",
   "execution_count": 245,
   "id": "538bdc84",
   "metadata": {},
   "outputs": [
    {
     "data": {
      "text/plain": [
       "54.598150033144236"
      ]
     },
     "execution_count": 245,
     "metadata": {},
     "output_type": "execute_result"
    }
   ],
   "source": [
    "math.exp(4)"
   ]
  },
  {
   "cell_type": "code",
   "execution_count": 247,
   "id": "10258c92",
   "metadata": {},
   "outputs": [
    {
     "data": {
      "text/plain": [
       "3"
      ]
     },
     "execution_count": 247,
     "metadata": {},
     "output_type": "execute_result"
    }
   ],
   "source": [
    "math.ceil(2.4)"
   ]
  },
  {
   "cell_type": "code",
   "execution_count": 241,
   "id": "71c0d1b7",
   "metadata": {},
   "outputs": [
    {
     "data": {
      "text/plain": [
       "2"
      ]
     },
     "execution_count": 241,
     "metadata": {},
     "output_type": "execute_result"
    }
   ],
   "source": [
    "abs(-2)"
   ]
  },
  {
   "cell_type": "code",
   "execution_count": 242,
   "id": "3763e51b",
   "metadata": {},
   "outputs": [
    {
     "ename": "NameError",
     "evalue": "name 'ceil' is not defined",
     "output_type": "error",
     "traceback": [
      "\u001b[0;31m---------------------------------------------------------------------------\u001b[0m",
      "\u001b[0;31mNameError\u001b[0m                                 Traceback (most recent call last)",
      "Input \u001b[0;32mIn [242]\u001b[0m, in \u001b[0;36m<module>\u001b[0;34m\u001b[0m\n\u001b[0;32m----> 1\u001b[0m \u001b[43mceil\u001b[49m(\u001b[38;5;241m4.5\u001b[39m)\n",
      "\u001b[0;31mNameError\u001b[0m: name 'ceil' is not defined"
     ]
    }
   ],
   "source": [
    "ceil(4.5)"
   ]
  },
  {
   "cell_type": "code",
   "execution_count": 250,
   "id": "9e9c8964",
   "metadata": {},
   "outputs": [
    {
     "data": {
      "text/plain": [
       "2.0"
      ]
     },
     "execution_count": 250,
     "metadata": {},
     "output_type": "execute_result"
    }
   ],
   "source": [
    "math.sqrt(4)"
   ]
  },
  {
   "cell_type": "code",
   "execution_count": 67,
   "id": "8ca10742",
   "metadata": {},
   "outputs": [],
   "source": [
    "np.random.seed(3)\n",
    "x=np.random.randint(0,5,(2,3))\n",
    "y=np.random.randint(4,9,(2,3))\n",
    "z=np.concatenate((x,y),axis=0)"
   ]
  },
  {
   "cell_type": "code",
   "execution_count": 68,
   "id": "c84c204e",
   "metadata": {},
   "outputs": [
    {
     "data": {
      "text/plain": [
       "array([[2, 0, 1],\n",
       "       [3, 0, 0],\n",
       "       [4, 7, 6],\n",
       "       [7, 5, 5]])"
      ]
     },
     "execution_count": 68,
     "metadata": {},
     "output_type": "execute_result"
    }
   ],
   "source": [
    "z"
   ]
  },
  {
   "cell_type": "code",
   "execution_count": 82,
   "id": "ffb3097e",
   "metadata": {},
   "outputs": [
    {
     "ename": "TypeError",
     "evalue": "list expected at most 1 argument, got 2",
     "output_type": "error",
     "traceback": [
      "\u001b[0;31m---------------------------------------------------------------------------\u001b[0m",
      "\u001b[0;31mTypeError\u001b[0m                                 Traceback (most recent call last)",
      "Input \u001b[0;32mIn [82]\u001b[0m, in \u001b[0;36m<module>\u001b[0;34m\u001b[0m\n\u001b[0;32m----> 1\u001b[0m zz\u001b[38;5;241m=\u001b[39m\u001b[38;5;28;43mlist\u001b[39;49m\u001b[43m(\u001b[49m\u001b[38;5;28;43;01mlambda\u001b[39;49;00m\u001b[43m \u001b[49m\u001b[43mx\u001b[49m\u001b[43m:\u001b[49m\u001b[43mx\u001b[49m\u001b[43m[\u001b[49m\u001b[38;5;241;43m0\u001b[39;49m\u001b[43m]\u001b[49m\u001b[43m,\u001b[49m\u001b[43m \u001b[49m\u001b[43mz\u001b[49m\u001b[43m)\u001b[49m\n",
      "\u001b[0;31mTypeError\u001b[0m: list expected at most 1 argument, got 2"
     ]
    }
   ],
   "source": [
    "zz=list(lambda x:x[0], z)"
   ]
  },
  {
   "cell_type": "code",
   "execution_count": 79,
   "id": "7d19cb80",
   "metadata": {},
   "outputs": [
    {
     "data": {
      "text/plain": [
       "(<function __main__.<lambda>(x)>, array([2, 0, 1]))"
      ]
     },
     "execution_count": 79,
     "metadata": {},
     "output_type": "execute_result"
    }
   ],
   "source": [
    "zz"
   ]
  },
  {
   "cell_type": "code",
   "execution_count": 288,
   "id": "e97cd415",
   "metadata": {},
   "outputs": [
    {
     "data": {
      "text/plain": [
       "(array([2, 3]), array([1, 0]))"
      ]
     },
     "execution_count": 288,
     "metadata": {},
     "output_type": "execute_result"
    }
   ],
   "source": [
    "np.where(z==7)"
   ]
  },
  {
   "cell_type": "code",
   "execution_count": null,
   "id": "123eb0a8",
   "metadata": {},
   "outputs": [],
   "source": []
  },
  {
   "cell_type": "code",
   "execution_count": 289,
   "id": "f80d8f4a",
   "metadata": {},
   "outputs": [
    {
     "ename": "NameError",
     "evalue": "name 'sys' is not defined",
     "output_type": "error",
     "traceback": [
      "\u001b[0;31m---------------------------------------------------------------------------\u001b[0m",
      "\u001b[0;31mNameError\u001b[0m                                 Traceback (most recent call last)",
      "Input \u001b[0;32mIn [289]\u001b[0m, in \u001b[0;36m<module>\u001b[0;34m\u001b[0m\n\u001b[0;32m----> 1\u001b[0m \u001b[43msys\u001b[49m\u001b[38;5;241m.\u001b[39mstdout\n",
      "\u001b[0;31mNameError\u001b[0m: name 'sys' is not defined"
     ]
    }
   ],
   "source": [
    "sys.stdout"
   ]
  },
  {
   "cell_type": "code",
   "execution_count": 291,
   "id": "3c21c608",
   "metadata": {},
   "outputs": [],
   "source": [
    "x=1j"
   ]
  },
  {
   "cell_type": "code",
   "execution_count": 292,
   "id": "18bc37be",
   "metadata": {},
   "outputs": [
    {
     "data": {
      "text/plain": [
       "(-1+0j)"
      ]
     },
     "execution_count": 292,
     "metadata": {},
     "output_type": "execute_result"
    }
   ],
   "source": [
    "x**2"
   ]
  },
  {
   "cell_type": "code",
   "execution_count": 293,
   "id": "2517ff70",
   "metadata": {},
   "outputs": [
    {
     "name": "stdout",
     "output_type": "stream",
     "text": [
      "False\n"
     ]
    }
   ],
   "source": [
    "print(x**2==1)"
   ]
  },
  {
   "cell_type": "code",
   "execution_count": 294,
   "id": "27128604",
   "metadata": {},
   "outputs": [
    {
     "name": "stdout",
     "output_type": "stream",
     "text": [
      "0\n",
      "1\n",
      "2\n",
      "3\n",
      "4\n",
      "doine\n"
     ]
    }
   ],
   "source": [
    "for i in range(5):\n",
    "    print(i)\n",
    "else:\n",
    "    print('doine')"
   ]
  },
  {
   "cell_type": "code",
   "execution_count": 295,
   "id": "c8bbd4d2",
   "metadata": {},
   "outputs": [],
   "source": [
    "def fun():\n",
    "    print(5)"
   ]
  },
  {
   "cell_type": "code",
   "execution_count": 296,
   "id": "bc2d4e98",
   "metadata": {},
   "outputs": [
    {
     "name": "stdout",
     "output_type": "stream",
     "text": [
      "5\n"
     ]
    }
   ],
   "source": [
    "fun()"
   ]
  },
  {
   "cell_type": "code",
   "execution_count": 297,
   "id": "a2b851c3",
   "metadata": {},
   "outputs": [
    {
     "data": {
      "text/plain": [
       "<function __main__.fun()>"
      ]
     },
     "execution_count": 297,
     "metadata": {},
     "output_type": "execute_result"
    }
   ],
   "source": [
    "fun"
   ]
  },
  {
   "cell_type": "code",
   "execution_count": 298,
   "id": "c268d3e5",
   "metadata": {},
   "outputs": [
    {
     "name": "stdout",
     "output_type": "stream",
     "text": [
      "5\n",
      "None\n"
     ]
    }
   ],
   "source": [
    "print(fun())"
   ]
  },
  {
   "cell_type": "code",
   "execution_count": 302,
   "id": "3dc11eef",
   "metadata": {},
   "outputs": [
    {
     "name": "stdout",
     "output_type": "stream",
     "text": [
      "0\n"
     ]
    }
   ],
   "source": [
    "print(33)"
   ]
  },
  {
   "cell_type": "code",
   "execution_count": 303,
   "id": "dd75d411",
   "metadata": {},
   "outputs": [
    {
     "data": {
      "text/plain": [
       "0"
      ]
     },
     "execution_count": 303,
     "metadata": {},
     "output_type": "execute_result"
    }
   ],
   "source": [
    "3^3"
   ]
  },
  {
   "cell_type": "code",
   "execution_count": 304,
   "id": "86609d5e",
   "metadata": {},
   "outputs": [
    {
     "data": {
      "text/plain": [
       "27"
      ]
     },
     "execution_count": 304,
     "metadata": {},
     "output_type": "execute_result"
    }
   ],
   "source": [
    "3**3"
   ]
  },
  {
   "cell_type": "code",
   "execution_count": 305,
   "id": "0a19aff3",
   "metadata": {},
   "outputs": [
    {
     "data": {
      "text/plain": [
       "8.0"
      ]
     },
     "execution_count": 305,
     "metadata": {},
     "output_type": "execute_result"
    }
   ],
   "source": [
    "math.pow(2,3)"
   ]
  },
  {
   "cell_type": "code",
   "execution_count": 306,
   "id": "fb96161a",
   "metadata": {},
   "outputs": [
    {
     "data": {
      "text/html": [
       "<div>\n",
       "<style scoped>\n",
       "    .dataframe tbody tr th:only-of-type {\n",
       "        vertical-align: middle;\n",
       "    }\n",
       "\n",
       "    .dataframe tbody tr th {\n",
       "        vertical-align: top;\n",
       "    }\n",
       "\n",
       "    .dataframe thead th {\n",
       "        text-align: right;\n",
       "    }\n",
       "</style>\n",
       "<table border=\"1\" class=\"dataframe\">\n",
       "  <thead>\n",
       "    <tr style=\"text-align: right;\">\n",
       "      <th></th>\n",
       "      <th>Category</th>\n",
       "      <th>Value1</th>\n",
       "      <th>Value2</th>\n",
       "    </tr>\n",
       "  </thead>\n",
       "  <tbody>\n",
       "    <tr>\n",
       "      <th>0</th>\n",
       "      <td>A</td>\n",
       "      <td>10</td>\n",
       "      <td>5</td>\n",
       "    </tr>\n",
       "    <tr>\n",
       "      <th>1</th>\n",
       "      <td>B</td>\n",
       "      <td>20</td>\n",
       "      <td>15</td>\n",
       "    </tr>\n",
       "    <tr>\n",
       "      <th>2</th>\n",
       "      <td>A</td>\n",
       "      <td>15</td>\n",
       "      <td>10</td>\n",
       "    </tr>\n",
       "    <tr>\n",
       "      <th>3</th>\n",
       "      <td>B</td>\n",
       "      <td>25</td>\n",
       "      <td>20</td>\n",
       "    </tr>\n",
       "    <tr>\n",
       "      <th>4</th>\n",
       "      <td>A</td>\n",
       "      <td>30</td>\n",
       "      <td>25</td>\n",
       "    </tr>\n",
       "    <tr>\n",
       "      <th>5</th>\n",
       "      <td>B</td>\n",
       "      <td>40</td>\n",
       "      <td>35</td>\n",
       "    </tr>\n",
       "    <tr>\n",
       "      <th>6</th>\n",
       "      <td>A</td>\n",
       "      <td>35</td>\n",
       "      <td>30</td>\n",
       "    </tr>\n",
       "    <tr>\n",
       "      <th>7</th>\n",
       "      <td>B</td>\n",
       "      <td>45</td>\n",
       "      <td>40</td>\n",
       "    </tr>\n",
       "  </tbody>\n",
       "</table>\n",
       "</div>"
      ],
      "text/plain": [
       "  Category  Value1  Value2\n",
       "0        A      10       5\n",
       "1        B      20      15\n",
       "2        A      15      10\n",
       "3        B      25      20\n",
       "4        A      30      25\n",
       "5        B      40      35\n",
       "6        A      35      30\n",
       "7        B      45      40"
      ]
     },
     "execution_count": 306,
     "metadata": {},
     "output_type": "execute_result"
    }
   ],
   "source": [
    "df"
   ]
  },
  {
   "cell_type": "code",
   "execution_count": 312,
   "id": "408d4d70",
   "metadata": {},
   "outputs": [
    {
     "data": {
      "text/html": [
       "<div>\n",
       "<style scoped>\n",
       "    .dataframe tbody tr th:only-of-type {\n",
       "        vertical-align: middle;\n",
       "    }\n",
       "\n",
       "    .dataframe tbody tr th {\n",
       "        vertical-align: top;\n",
       "    }\n",
       "\n",
       "    .dataframe thead th {\n",
       "        text-align: right;\n",
       "    }\n",
       "</style>\n",
       "<table border=\"1\" class=\"dataframe\">\n",
       "  <thead>\n",
       "    <tr style=\"text-align: right;\">\n",
       "      <th></th>\n",
       "      <th>Category</th>\n",
       "    </tr>\n",
       "  </thead>\n",
       "  <tbody>\n",
       "    <tr>\n",
       "      <th>0</th>\n",
       "      <td>A</td>\n",
       "    </tr>\n",
       "    <tr>\n",
       "      <th>1</th>\n",
       "      <td>B</td>\n",
       "    </tr>\n",
       "    <tr>\n",
       "      <th>2</th>\n",
       "      <td>A</td>\n",
       "    </tr>\n",
       "    <tr>\n",
       "      <th>3</th>\n",
       "      <td>B</td>\n",
       "    </tr>\n",
       "    <tr>\n",
       "      <th>4</th>\n",
       "      <td>A</td>\n",
       "    </tr>\n",
       "    <tr>\n",
       "      <th>5</th>\n",
       "      <td>B</td>\n",
       "    </tr>\n",
       "    <tr>\n",
       "      <th>6</th>\n",
       "      <td>A</td>\n",
       "    </tr>\n",
       "    <tr>\n",
       "      <th>7</th>\n",
       "      <td>B</td>\n",
       "    </tr>\n",
       "  </tbody>\n",
       "</table>\n",
       "</div>"
      ],
      "text/plain": [
       "  Category\n",
       "0        A\n",
       "1        B\n",
       "2        A\n",
       "3        B\n",
       "4        A\n",
       "5        B\n",
       "6        A\n",
       "7        B"
      ]
     },
     "execution_count": 312,
     "metadata": {},
     "output_type": "execute_result"
    }
   ],
   "source": [
    "df.select_dtypes(include='object')"
   ]
  },
  {
   "cell_type": "code",
   "execution_count": 323,
   "id": "52f5bda3",
   "metadata": {},
   "outputs": [
    {
     "data": {
      "text/plain": [
       "(array([10., 29., 23., 35., 42., 58., 52., 69., 75., 90., 78., 64., 72.,\n",
       "        72., 50., 41., 31., 27., 24., 13., 10.,  3.,  1.,  2.,  1.,  0.,\n",
       "         0.,  0.,  0.]),\n",
       " array([-10.,  -9.,  -8.,  -7.,  -6.,  -5.,  -4.,  -3.,  -2.,  -1.,   0.,\n",
       "          1.,   2.,   3.,   4.,   5.,   6.,   7.,   8.,   9.,  10.,  11.,\n",
       "         12.,  13.,  14.,  15.,  16.,  17.,  18.,  19.]),\n",
       " <BarContainer object of 29 artists>)"
      ]
     },
     "execution_count": 323,
     "metadata": {},
     "output_type": "execute_result"
    },
    {
     "data": {
      "image/png": "[encoded data removed]",
      "text/plain": [
       "<Figure size 432x288 with 1 Axes>"
      ]
     },
     "metadata": {
      "needs_background": "light"
     },
     "output_type": "display_data"
    }
   ],
   "source": [
    "plt.hist(np.random.normal(0,5,1000),bins=[x for x in range(-10,20,1)])"
   ]
  },
  {
   "cell_type": "code",
   "execution_count": 324,
   "id": "feab5003",
   "metadata": {},
   "outputs": [],
   "source": [
    "import seaborn as sns"
   ]
  },
  {
   "cell_type": "code",
   "execution_count": 330,
   "id": "2fad56b9",
   "metadata": {},
   "outputs": [
    {
     "data": {
      "text/plain": [
       "<Axes: ylabel='Count'>"
      ]
     },
     "execution_count": 330,
     "metadata": {},
     "output_type": "execute_result"
    },
    {
     "data": {
      "image/png": "[encoded data removed]",
      "text/plain": [
       "<Figure size 432x288 with 1 Axes>"
      ]
     },
     "metadata": {
      "needs_background": "light"
     },
     "output_type": "display_data"
    }
   ],
   "source": [
    "sns.histplot(np.random.normal(0,5,1000),color='r',bins=[x for x in range(-10,20,1)],kde=True)"
   ]
  },
  {
   "cell_type": "code",
   "execution_count": 130,
   "id": "9ff8bffc",
   "metadata": {},
   "outputs": [
    {
     "name": "stdout",
     "output_type": "stream",
     "text": [
      "517.7377517639616\n"
     ]
    }
   ],
   "source": [
    "result = 0\n",
    "\n",
    "for k in range(1, 101):\n",
    "    inner_sum = 0\n",
    "    n = 100  # Choose an appropriate value for n\n",
    "    \n",
    "    for i in range(1, 10000):\n",
    "        term = i * ((k / 100) ** (i - 1)) * ((100 - k) / 100)\n",
    "#         if term<1:\n",
    "            \n",
    "        inner_sum += term\n",
    "    \n",
    "    result += inner_sum\n",
    "\n",
    "print(result)"
   ]
  },
  {
   "cell_type": "code",
   "execution_count": 132,
   "id": "fc25f0c3",
   "metadata": {},
   "outputs": [],
   "source": [
    "y=np.arange(0,51,1)"
   ]
  },
  {
   "cell_type": "code",
   "execution_count": 133,
   "id": "2dc512f7",
   "metadata": {},
   "outputs": [],
   "source": [
    "s=1/(y+50)+1/(y+10)\n",
    "f=0.08"
   ]
  },
  {
   "cell_type": "code",
   "execution_count": 146,
   "id": "ac330acd",
   "metadata": {},
   "outputs": [],
   "source": [
    "from matplotlib import pyplot as plt"
   ]
  },
  {
   "cell_type": "code",
   "execution_count": 149,
   "id": "be1dabf6",
   "metadata": {},
   "outputs": [
    {
     "data": {
      "text/plain": [
       "(array([5., 5., 5., 5., 5., 5., 5., 5., 5., 6.]),\n",
       " array([ 0.,  5., 10., 15., 20., 25., 30., 35., 40., 45., 50.]),\n",
       " <BarContainer object of 10 artists>)"
      ]
     },
     "execution_count": 149,
     "metadata": {},
     "output_type": "execute_result"
    },
    {
     "data": {
      "image/png": "[encoded data removed]",
      "text/plain": [
       "<Figure size 432x288 with 1 Axes>"
      ]
     },
     "metadata": {
      "needs_background": "light"
     },
     "output_type": "display_data"
    }
   ],
   "source": [
    "plt.hist(y)"
   ]
  },
  {
   "cell_type": "code",
   "execution_count": 150,
   "id": "239ec425",
   "metadata": {},
   "outputs": [
    {
     "ename": "AttributeError",
     "evalue": "module 'matplotlib.pyplot' has no attribute 'line'",
     "output_type": "error",
     "traceback": [
      "\u001b[0;31m---------------------------------------------------------------------------\u001b[0m",
      "\u001b[0;31mAttributeError\u001b[0m                            Traceback (most recent call last)",
      "Input \u001b[0;32mIn [150]\u001b[0m, in \u001b[0;36m<module>\u001b[0;34m\u001b[0m\n\u001b[0;32m----> 1\u001b[0m \u001b[43mplt\u001b[49m\u001b[38;5;241;43m.\u001b[39;49m\u001b[43mline\u001b[49m(s,y)\n",
      "\u001b[0;31mAttributeError\u001b[0m: module 'matplotlib.pyplot' has no attribute 'line'"
     ]
    }
   ],
   "source": [
    "plt.line(s,y)"
   ]
  },
  {
   "cell_type": "code",
   "execution_count": 161,
   "id": "15489b00",
   "metadata": {},
   "outputs": [
    {
     "data": {
      "text/plain": [
       "<matplotlib.lines.Line2D at 0x14f7469a0>"
      ]
     },
     "execution_count": 161,
     "metadata": {},
     "output_type": "execute_result"
    },
    {
     "data": {
      "image/png": "[encoded data removed]",
      "text/plain": [
       "<Figure size 432x288 with 1 Axes>"
      ]
     },
     "metadata": {
      "needs_background": "light"
     },
     "output_type": "display_data"
    }
   ],
   "source": [
    "plt.scatter(y,s)\n",
    "plt.axhline(y=f)"
   ]
  },
  {
   "cell_type": "code",
   "execution_count": 162,
   "id": "0ccba316",
   "metadata": {},
   "outputs": [
    {
     "data": {
      "text/plain": [
       "-0.704125844168066"
      ]
     },
     "execution_count": 162,
     "metadata": {},
     "output_type": "execute_result"
    }
   ],
   "source": [
    "0.8*np.log(.957)+1.5*np.log(.378)+1.3*np.log(1.120)+0.643"
   ]
  },
  {
   "cell_type": "code",
   "execution_count": null,
   "id": "3fef4543",
   "metadata": {},
   "outputs": [],
   "source": [
    "np.log(np.exp)"
   ]
  },
  {
   "cell_type": "code",
   "execution_count": 4,
   "id": "3fa9099d",
   "metadata": {},
   "outputs": [],
   "source": [
    "table=[0]*3"
   ]
  },
  {
   "cell_type": "code",
   "execution_count": 22,
   "id": "147384c2",
   "metadata": {},
   "outputs": [],
   "source": [
    "t=np.array(table)\n",
    "t=t+2"
   ]
  },
  {
   "cell_type": "code",
   "execution_count": 23,
   "id": "7f696e88",
   "metadata": {},
   "outputs": [
    {
     "data": {
      "text/plain": [
       "array([6, 6, 6])"
      ]
     },
     "execution_count": 23,
     "metadata": {},
     "output_type": "execute_result"
    }
   ],
   "source": [
    "t*3"
   ]
  },
  {
   "cell_type": "code",
   "execution_count": 6,
   "id": "42fb0948",
   "metadata": {},
   "outputs": [
    {
     "data": {
      "text/plain": [
       "list"
      ]
     },
     "execution_count": 6,
     "metadata": {},
     "output_type": "execute_result"
    }
   ],
   "source": [
    "type(table)"
   ]
  },
  {
   "cell_type": "code",
   "execution_count": 8,
   "id": "ed452315",
   "metadata": {},
   "outputs": [],
   "source": [
    "import numpy as np"
   ]
  },
  {
   "cell_type": "code",
   "execution_count": 9,
   "id": "297e3db9",
   "metadata": {},
   "outputs": [],
   "source": [
    "t=np.ones(5)"
   ]
  },
  {
   "cell_type": "code",
   "execution_count": 11,
   "id": "0f925a8f",
   "metadata": {},
   "outputs": [
    {
     "data": {
      "text/plain": [
       "array([2., 2., 2., 2., 2.])"
      ]
     },
     "execution_count": 11,
     "metadata": {},
     "output_type": "execute_result"
    }
   ],
   "source": [
    "t*2"
   ]
  },
  {
   "cell_type": "code",
   "execution_count": 27,
   "id": "add42d26",
   "metadata": {},
   "outputs": [],
   "source": [
    "t=np.random.randint(1,100,(3,4))"
   ]
  },
  {
   "cell_type": "code",
   "execution_count": 28,
   "id": "9864fe39",
   "metadata": {},
   "outputs": [
    {
     "data": {
      "text/plain": [
       "array([[69, 37,  9, 91],\n",
       "       [12, 25, 55, 64],\n",
       "       [88, 33, 41, 41]])"
      ]
     },
     "execution_count": 28,
     "metadata": {},
     "output_type": "execute_result"
    }
   ],
   "source": [
    "t"
   ]
  },
  {
   "cell_type": "code",
   "execution_count": 29,
   "id": "05be368e",
   "metadata": {},
   "outputs": [
    {
     "data": {
      "text/plain": [
       "47.083333333333336"
      ]
     },
     "execution_count": 29,
     "metadata": {},
     "output_type": "execute_result"
    }
   ],
   "source": [
    "np.mean(t)"
   ]
  },
  {
   "cell_type": "code",
   "execution_count": 32,
   "id": "64786da3",
   "metadata": {},
   "outputs": [
    {
     "data": {
      "text/plain": [
       "array([51.5 , 39.  , 50.75])"
      ]
     },
     "execution_count": 32,
     "metadata": {},
     "output_type": "execute_result"
    }
   ],
   "source": [
    "t.mean(axis=1)"
   ]
  },
  {
   "cell_type": "code",
   "execution_count": 1,
   "id": "46314cc1",
   "metadata": {},
   "outputs": [],
   "source": [
    "import pandas as pd\n",
    "import numpy as np"
   ]
  },
  {
   "cell_type": "code",
   "execution_count": 30,
   "id": "bcf41029",
   "metadata": {},
   "outputs": [],
   "source": [
    "t=pd.DataFrame({'cl':['A','B','C'],'time':[10,20,30],'risk':[.90,.60,.55]})\n"
   ]
  },
  {
   "cell_type": "code",
   "execution_count": 31,
   "id": "29f6eb9d",
   "metadata": {},
   "outputs": [
    {
     "data": {
      "text/plain": [
       "'C'"
      ]
     },
     "execution_count": 31,
     "metadata": {},
     "output_type": "execute_result"
    }
   ],
   "source": [
    "t.cl[2]"
   ]
  },
  {
   "cell_type": "code",
   "execution_count": 33,
   "id": "9cec9b5c",
   "metadata": {},
   "outputs": [
    {
     "name": "stdout",
     "output_type": "stream",
     "text": [
      "AB\n",
      "AC\n",
      "BC\n"
     ]
    },
    {
     "data": {
      "text/html": [
       "<div>\n",
       "<style scoped>\n",
       "    .dataframe tbody tr th:only-of-type {\n",
       "        vertical-align: middle;\n",
       "    }\n",
       "\n",
       "    .dataframe tbody tr th {\n",
       "        vertical-align: top;\n",
       "    }\n",
       "\n",
       "    .dataframe thead th {\n",
       "        text-align: right;\n",
       "    }\n",
       "</style>\n",
       "<table border=\"1\" class=\"dataframe\">\n",
       "  <thead>\n",
       "    <tr style=\"text-align: right;\">\n",
       "      <th></th>\n",
       "      <th>class</th>\n",
       "      <th>time1</th>\n",
       "      <th>time2</th>\n",
       "      <th>R1</th>\n",
       "      <th>R2</th>\n",
       "    </tr>\n",
       "  </thead>\n",
       "  <tbody>\n",
       "    <tr>\n",
       "      <th>0</th>\n",
       "      <td>AB</td>\n",
       "      <td>10</td>\n",
       "      <td>20</td>\n",
       "      <td>0.9</td>\n",
       "      <td>0.60</td>\n",
       "    </tr>\n",
       "    <tr>\n",
       "      <th>1</th>\n",
       "      <td>AC</td>\n",
       "      <td>10</td>\n",
       "      <td>30</td>\n",
       "      <td>0.9</td>\n",
       "      <td>0.55</td>\n",
       "    </tr>\n",
       "    <tr>\n",
       "      <th>2</th>\n",
       "      <td>BC</td>\n",
       "      <td>20</td>\n",
       "      <td>30</td>\n",
       "      <td>0.6</td>\n",
       "      <td>0.55</td>\n",
       "    </tr>\n",
       "  </tbody>\n",
       "</table>\n",
       "</div>"
      ],
      "text/plain": [
       "  class  time1  time2   R1    R2\n",
       "0    AB     10     20  0.9  0.60\n",
       "1    AC     10     30  0.9  0.55\n",
       "2    BC     20     30  0.6  0.55"
      ]
     },
     "execution_count": 33,
     "metadata": {},
     "output_type": "execute_result"
    }
   ],
   "source": [
    "\n",
    "clas=[]\n",
    "par1=[]\n",
    "par2=[]\n",
    "r1=[]\n",
    "r2=[]\n",
    "for i in range(len (t)):\n",
    "    for j in range(i+1,len(t)):\n",
    "        cl=str(t.cl[i]+t.cl[j])\n",
    "        par1.append(t.time[i])\n",
    "        par2.append(t.time[j])\n",
    "        r1.append(t.risk[i])\n",
    "        r2.append(t.risk[j])\n",
    "        clas.append(cl)\n",
    "        print(cl)\n",
    "tt=pd.DataFrame({'class':clas,'time1':par1,'time2':par2,'R1':r1,'R2':r2})\n",
    "      \n",
    "tt"
   ]
  },
  {
   "cell_type": "code",
   "execution_count": 53,
   "id": "1a7ea327",
   "metadata": {},
   "outputs": [
    {
     "name": "stdout",
     "output_type": "stream",
     "text": [
      "   Value  Category_B  Category_C\n",
      "0     10           0           0\n",
      "1     20           1           0\n",
      "2     15           0           0\n",
      "3      5           0           1\n",
      "4     25           1           0\n"
     ]
    }
   ],
   "source": [
    "data = {'Category': ['A', 'B', 'A', 'C', 'B'],\n",
    "        'Value': [10, 20, 15, 5, 25]}\n",
    "df = pd.DataFrame(data)\n",
    "\n",
    "# List of columns to one-hot encode\n",
    "columns_to_encode = ['Category']\n",
    "\n",
    "# Perform one-hot encoding\n",
    "df = pd.get_dummies(df, columns=columns_to_encode,drop_first=True)\n",
    "\n",
    "print(df)"
   ]
  },
  {
   "cell_type": "code",
   "execution_count": 62,
   "id": "499fed8f",
   "metadata": {},
   "outputs": [],
   "source": [
    "params = {\n",
    "    'solver': 'liblinear',\n",
    "    'max_iter': 500\n",
    "}"
   ]
  },
  {
   "cell_type": "code",
   "execution_count": 65,
   "id": "92a94a32",
   "metadata": {},
   "outputs": [],
   "source": [
    "def tt(solver,max_iter):\n",
    "    print(solver)\n",
    "    print(max_iter)\n",
    "\n",
    "    return\n",
    "\n"
   ]
  },
  {
   "cell_type": "code",
   "execution_count": 66,
   "id": "f16a0fdb",
   "metadata": {},
   "outputs": [
    {
     "name": "stdout",
     "output_type": "stream",
     "text": [
      "liblinear\n",
      "500\n"
     ]
    }
   ],
   "source": [
    "tt(**params)"
   ]
  },
  {
   "cell_type": "code",
   "execution_count": 10,
   "id": "89f9a013",
   "metadata": {},
   "outputs": [
    {
     "name": "stdout",
     "output_type": "stream",
     "text": [
      "ali\n",
      "500\n"
     ]
    }
   ],
   "source": [
    "tt('ali',500)"
   ]
  },
  {
   "cell_type": "code",
   "execution_count": 12,
   "id": "3d965532",
   "metadata": {},
   "outputs": [
    {
     "name": "stdout",
     "output_type": "stream",
     "text": [
      "solver max_iter\n"
     ]
    }
   ],
   "source": [
    "print(*params)"
   ]
  },
  {
   "cell_type": "code",
   "execution_count": 14,
   "id": "99f7dee9",
   "metadata": {},
   "outputs": [
    {
     "data": {
      "text/plain": [
       "dict_keys(['solver', 'max_iter'])"
      ]
     },
     "execution_count": 14,
     "metadata": {},
     "output_type": "execute_result"
    }
   ],
   "source": [
    "params.keys()"
   ]
  },
  {
   "cell_type": "code",
   "execution_count": 16,
   "id": "3c42b334",
   "metadata": {},
   "outputs": [],
   "source": [
    "from matplotlib import pyplot as plt"
   ]
  },
  {
   "cell_type": "code",
   "execution_count": 1,
   "id": "7764f014",
   "metadata": {},
   "outputs": [],
   "source": [
    "import numpy as np\n",
    "import pandas as pd"
   ]
  },
  {
   "cell_type": "code",
   "execution_count": 9,
   "id": "2b15e894",
   "metadata": {},
   "outputs": [
    {
     "data": {
      "text/plain": [
       "array([0., 0., 0., 0.])"
      ]
     },
     "execution_count": 9,
     "metadata": {},
     "output_type": "execute_result"
    }
   ],
   "source": [
    "t=np.zeros(4)\n",
    "t"
   ]
  },
  {
   "cell_type": "code",
   "execution_count": 50,
   "id": "84511eaf",
   "metadata": {},
   "outputs": [],
   "source": [
    "p=t/1000"
   ]
  },
  {
   "cell_type": "code",
   "execution_count": 10,
   "id": "02697a59",
   "metadata": {},
   "outputs": [
    {
     "data": {
      "text/plain": [
       "array([[0., 0., 0.],\n",
       "       [0., 0., 0.]])"
      ]
     },
     "execution_count": 10,
     "metadata": {},
     "output_type": "execute_result"
    }
   ],
   "source": [
    " np.zeros((2, 3))"
   ]
  },
  {
   "cell_type": "code",
   "execution_count": 52,
   "id": "e92f1449",
   "metadata": {},
   "outputs": [
    {
     "name": "stderr",
     "output_type": "stream",
     "text": [
      "/var/folders/nd/dj_lrx2d6j3fccjhjy5pqygc0000gn/T/ipykernel_81667/1762408350.py:1: RuntimeWarning: divide by zero encountered in divide\n",
      "  plt.scatter(x=p,y=p/(1-p))\n"
     ]
    },
    {
     "data": {
      "text/plain": [
       "<matplotlib.collections.PathCollection at 0x1193144f0>"
      ]
     },
     "execution_count": 52,
     "metadata": {},
     "output_type": "execute_result"
    },
    {
     "data": {
      "image/png": "[encoded data removed]",
      "text/plain": [
       "<Figure size 432x288 with 1 Axes>"
      ]
     },
     "metadata": {
      "needs_background": "light"
     },
     "output_type": "display_data"
    }
   ],
   "source": [
    "plt.scatter(x=p,y=p/(1-p))"
   ]
  },
  {
   "cell_type": "code",
   "execution_count": 84,
   "id": "fa37713a",
   "metadata": {},
   "outputs": [
    {
     "data": {
      "text/plain": [
       "'ali'"
      ]
     },
     "execution_count": 84,
     "metadata": {},
     "output_type": "execute_result"
    }
   ],
   "source": [
    "s='Ali'\n",
    "s.lower()"
   ]
  },
  {
   "cell_type": "code",
   "execution_count": 90,
   "id": "e4455597",
   "metadata": {},
   "outputs": [
    {
     "name": "stdout",
     "output_type": "stream",
     "text": [
      "this is the word a..>  a..>  0\n",
      "this is the word a..>  a..>  1\n",
      "this is the word a..>  a..>  2\n",
      "this is the word a..>  a..>  3\n",
      "this is the word a..>  a..>  4\n",
      "this is the word a..>  a..>  5\n",
      "this is the word a..>  a..>  6\n",
      "this is the word a..>  a..>  7\n",
      "this is the word a..>  a..>  8\n",
      "this is the word a..>  a..>  9\n"
     ]
    }
   ],
   "source": [
    "for i in range(10):\n",
    "    print(\"this is the word {}\".format('..>  '.join(f'aa{i}')))"
   ]
  },
  {
   "cell_type": "code",
   "execution_count": 96,
   "id": "e7f4ce57",
   "metadata": {},
   "outputs": [
    {
     "name": "stdout",
     "output_type": "stream",
     "text": [
      "raw text: \n",
      "\n",
      " Ali\n"
     ]
    }
   ],
   "source": [
    "print(f'raw text: \\n\\n {s}')"
   ]
  },
  {
   "cell_type": "markdown",
   "id": "e194dc9e",
   "metadata": {},
   "source": [
    "punctuation_spacer = str.maketrans({key: f\"{key} \" for key in \".,\"})"
   ]
  },
  {
   "cell_type": "code",
   "execution_count": 97,
   "id": "16e0425d",
   "metadata": {},
   "outputs": [],
   "source": [
    "punctuation_spacer = str.maketrans({key: f\"{key} \" for key in \".,\"})"
   ]
  },
  {
   "cell_type": "code",
   "execution_count": 98,
   "id": "06a7c08c",
   "metadata": {},
   "outputs": [
    {
     "data": {
      "text/plain": [
       "{46: '. ', 44: ', '}"
      ]
     },
     "execution_count": 98,
     "metadata": {},
     "output_type": "execute_result"
    }
   ],
   "source": [
    "punctuation_spacer"
   ]
  },
  {
   "cell_type": "code",
   "execution_count": 104,
   "id": "24fcc493",
   "metadata": {},
   "outputs": [],
   "source": [
    "test=str.maketrans({'a':'.'})"
   ]
  },
  {
   "cell_type": "code",
   "execution_count": 105,
   "id": "278bb86b",
   "metadata": {},
   "outputs": [
    {
     "data": {
      "text/plain": [
       "'mir.t'"
      ]
     },
     "execution_count": 105,
     "metadata": {},
     "output_type": "execute_result"
    }
   ],
   "source": [
    "'mirat'.translate(test)"
   ]
  },
  {
   "cell_type": "code",
   "execution_count": 106,
   "id": "daa314b8",
   "metadata": {},
   "outputs": [],
   "source": [
    "a=['a','b']\n",
    "b=[1,2]\n",
    "c=[a,b]"
   ]
  },
  {
   "cell_type": "code",
   "execution_count": 107,
   "id": "c58c0533",
   "metadata": {},
   "outputs": [
    {
     "data": {
      "text/plain": [
       "[['a', 'b'], [1, 2]]"
      ]
     },
     "execution_count": 107,
     "metadata": {},
     "output_type": "execute_result"
    }
   ],
   "source": [
    "c"
   ]
  },
  {
   "cell_type": "code",
   "execution_count": 112,
   "id": "dcac6d80",
   "metadata": {},
   "outputs": [
    {
     "ename": "TypeError",
     "evalue": "list.extend() takes exactly one argument (0 given)",
     "output_type": "error",
     "traceback": [
      "\u001b[0;31m---------------------------------------------------------------------------\u001b[0m",
      "\u001b[0;31mTypeError\u001b[0m                                 Traceback (most recent call last)",
      "Input \u001b[0;32mIn [112]\u001b[0m, in \u001b[0;36m<module>\u001b[0;34m\u001b[0m\n\u001b[0;32m----> 1\u001b[0m c\u001b[38;5;241m=\u001b[39m\u001b[38;5;28;43mlist\u001b[39;49m\u001b[43m[\u001b[49m\u001b[38;5;124;43m'\u001b[39;49m\u001b[38;5;124;43mA\u001b[39;49m\u001b[38;5;124;43m'\u001b[39;49m\u001b[43m]\u001b[49m\u001b[38;5;241;43m.\u001b[39;49m\u001b[43mextend\u001b[49m\u001b[43m(\u001b[49m\u001b[43mb\u001b[49m\u001b[43m)\u001b[49m\n",
      "\u001b[0;31mTypeError\u001b[0m: list.extend() takes exactly one argument (0 given)"
     ]
    }
   ],
   "source": [
    "c=list['A'].extend()"
   ]
  },
  {
   "cell_type": "code",
   "execution_count": 122,
   "id": "4a273e16",
   "metadata": {},
   "outputs": [],
   "source": [
    "a=[1]*5"
   ]
  },
  {
   "cell_type": "code",
   "execution_count": 125,
   "id": "ad560153",
   "metadata": {},
   "outputs": [
    {
     "data": {
      "text/plain": [
       "list"
      ]
     },
     "execution_count": 125,
     "metadata": {},
     "output_type": "execute_result"
    }
   ],
   "source": [
    "type(a)"
   ]
  },
  {
   "cell_type": "code",
   "execution_count": 120,
   "id": "952d4943",
   "metadata": {},
   "outputs": [],
   "source": [
    "a=np.ones((4,5))"
   ]
  },
  {
   "cell_type": "code",
   "execution_count": 121,
   "id": "9b9833ff",
   "metadata": {},
   "outputs": [
    {
     "data": {
      "text/plain": [
       "array([[1., 1., 1., 1., 1.],\n",
       "       [1., 1., 1., 1., 1.],\n",
       "       [1., 1., 1., 1., 1.],\n",
       "       [1., 1., 1., 1., 1.]])"
      ]
     },
     "execution_count": 121,
     "metadata": {},
     "output_type": "execute_result"
    }
   ],
   "source": [
    "a"
   ]
  },
  {
   "cell_type": "code",
   "execution_count": 126,
   "id": "e44cdb39",
   "metadata": {},
   "outputs": [
    {
     "name": "stdout",
     "output_type": "stream",
     "text": [
      "3\n"
     ]
    }
   ],
   "source": [
    "a,b=1,1\n",
    "\n",
    "if a==b==1:\n",
    "    print(3)"
   ]
  },
  {
   "cell_type": "code",
   "execution_count": 14,
   "id": "32a3b9b0",
   "metadata": {},
   "outputs": [
    {
     "data": {
      "text/html": [
       "<div>\n",
       "<style scoped>\n",
       "    .dataframe tbody tr th:only-of-type {\n",
       "        vertical-align: middle;\n",
       "    }\n",
       "\n",
       "    .dataframe tbody tr th {\n",
       "        vertical-align: top;\n",
       "    }\n",
       "\n",
       "    .dataframe thead th {\n",
       "        text-align: right;\n",
       "    }\n",
       "</style>\n",
       "<table border=\"1\" class=\"dataframe\">\n",
       "  <thead>\n",
       "    <tr style=\"text-align: right;\">\n",
       "      <th></th>\n",
       "      <th>column_0</th>\n",
       "      <th>column_1</th>\n",
       "      <th>column_2</th>\n",
       "      <th>column_3</th>\n",
       "      <th>column_4</th>\n",
       "      <th>column_5</th>\n",
       "      <th>column_6</th>\n",
       "      <th>column_7</th>\n",
       "      <th>column_8</th>\n",
       "      <th>column_9</th>\n",
       "      <th>column_10</th>\n",
       "      <th>column_11</th>\n",
       "      <th>column_12</th>\n",
       "      <th>column_13</th>\n",
       "      <th>column_14</th>\n",
       "      <th>column_15</th>\n",
       "    </tr>\n",
       "  </thead>\n",
       "  <tbody>\n",
       "    <tr>\n",
       "      <th>0</th>\n",
       "      <td>0.496714</td>\n",
       "      <td>-0.138264</td>\n",
       "      <td>0.647689</td>\n",
       "      <td>1.523030</td>\n",
       "      <td>-0.234153</td>\n",
       "      <td>-0.234137</td>\n",
       "      <td>1.579213</td>\n",
       "      <td>0.767435</td>\n",
       "      <td>-0.469474</td>\n",
       "      <td>0.542560</td>\n",
       "      <td>-0.463418</td>\n",
       "      <td>-0.465730</td>\n",
       "      <td>0.241962</td>\n",
       "      <td>-1.913280</td>\n",
       "      <td>-1.724918</td>\n",
       "      <td>-0.562288</td>\n",
       "    </tr>\n",
       "    <tr>\n",
       "      <th>1</th>\n",
       "      <td>-1.012831</td>\n",
       "      <td>0.314247</td>\n",
       "      <td>-0.908024</td>\n",
       "      <td>-1.412304</td>\n",
       "      <td>1.465649</td>\n",
       "      <td>-0.225776</td>\n",
       "      <td>0.067528</td>\n",
       "      <td>-1.424748</td>\n",
       "      <td>-0.544383</td>\n",
       "      <td>0.110923</td>\n",
       "      <td>-1.150994</td>\n",
       "      <td>0.375698</td>\n",
       "      <td>-0.600639</td>\n",
       "      <td>-0.291694</td>\n",
       "      <td>-0.601707</td>\n",
       "      <td>1.852278</td>\n",
       "    </tr>\n",
       "    <tr>\n",
       "      <th>2</th>\n",
       "      <td>-0.013497</td>\n",
       "      <td>-1.057711</td>\n",
       "      <td>0.822545</td>\n",
       "      <td>-1.220844</td>\n",
       "      <td>0.208864</td>\n",
       "      <td>-1.959670</td>\n",
       "      <td>-1.328186</td>\n",
       "      <td>0.196861</td>\n",
       "      <td>0.738467</td>\n",
       "      <td>0.171368</td>\n",
       "      <td>-0.115648</td>\n",
       "      <td>-0.301104</td>\n",
       "      <td>-1.478522</td>\n",
       "      <td>-0.719844</td>\n",
       "      <td>-0.460639</td>\n",
       "      <td>1.057122</td>\n",
       "    </tr>\n",
       "    <tr>\n",
       "      <th>3</th>\n",
       "      <td>0.343618</td>\n",
       "      <td>-1.763040</td>\n",
       "      <td>0.324084</td>\n",
       "      <td>-0.385082</td>\n",
       "      <td>-0.676922</td>\n",
       "      <td>0.611676</td>\n",
       "      <td>1.031000</td>\n",
       "      <td>0.931280</td>\n",
       "      <td>-0.839218</td>\n",
       "      <td>-0.309212</td>\n",
       "      <td>0.331263</td>\n",
       "      <td>0.975545</td>\n",
       "      <td>-0.479174</td>\n",
       "      <td>-0.185659</td>\n",
       "      <td>-1.106335</td>\n",
       "      <td>-1.196207</td>\n",
       "    </tr>\n",
       "    <tr>\n",
       "      <th>4</th>\n",
       "      <td>0.812526</td>\n",
       "      <td>1.356240</td>\n",
       "      <td>-0.072010</td>\n",
       "      <td>1.003533</td>\n",
       "      <td>0.361636</td>\n",
       "      <td>-0.645120</td>\n",
       "      <td>0.361396</td>\n",
       "      <td>1.538037</td>\n",
       "      <td>-0.035826</td>\n",
       "      <td>1.564644</td>\n",
       "      <td>-2.619745</td>\n",
       "      <td>0.821903</td>\n",
       "      <td>0.087047</td>\n",
       "      <td>-0.299007</td>\n",
       "      <td>0.091761</td>\n",
       "      <td>-1.987569</td>\n",
       "    </tr>\n",
       "    <tr>\n",
       "      <th>...</th>\n",
       "      <td>...</td>\n",
       "      <td>...</td>\n",
       "      <td>...</td>\n",
       "      <td>...</td>\n",
       "      <td>...</td>\n",
       "      <td>...</td>\n",
       "      <td>...</td>\n",
       "      <td>...</td>\n",
       "      <td>...</td>\n",
       "      <td>...</td>\n",
       "      <td>...</td>\n",
       "      <td>...</td>\n",
       "      <td>...</td>\n",
       "      <td>...</td>\n",
       "      <td>...</td>\n",
       "      <td>...</td>\n",
       "    </tr>\n",
       "    <tr>\n",
       "      <th>95</th>\n",
       "      <td>1.221034</td>\n",
       "      <td>0.582098</td>\n",
       "      <td>-0.226484</td>\n",
       "      <td>-0.959439</td>\n",
       "      <td>-0.372207</td>\n",
       "      <td>1.088749</td>\n",
       "      <td>1.884586</td>\n",
       "      <td>1.543244</td>\n",
       "      <td>-0.488849</td>\n",
       "      <td>-1.119617</td>\n",
       "      <td>0.140886</td>\n",
       "      <td>-1.768439</td>\n",
       "      <td>0.323168</td>\n",
       "      <td>-0.147603</td>\n",
       "      <td>-0.466037</td>\n",
       "      <td>-1.594703</td>\n",
       "    </tr>\n",
       "    <tr>\n",
       "      <th>96</th>\n",
       "      <td>0.513600</td>\n",
       "      <td>-0.532701</td>\n",
       "      <td>-1.169917</td>\n",
       "      <td>-2.872262</td>\n",
       "      <td>-0.027515</td>\n",
       "      <td>1.772252</td>\n",
       "      <td>1.661259</td>\n",
       "      <td>-0.457096</td>\n",
       "      <td>-0.602212</td>\n",
       "      <td>0.468774</td>\n",
       "      <td>-0.998385</td>\n",
       "      <td>0.301792</td>\n",
       "      <td>0.766080</td>\n",
       "      <td>1.226933</td>\n",
       "      <td>-0.100154</td>\n",
       "      <td>-0.203674</td>\n",
       "    </tr>\n",
       "    <tr>\n",
       "      <th>97</th>\n",
       "      <td>-0.877983</td>\n",
       "      <td>-0.826880</td>\n",
       "      <td>-0.226479</td>\n",
       "      <td>0.367366</td>\n",
       "      <td>0.913585</td>\n",
       "      <td>-0.803179</td>\n",
       "      <td>1.492689</td>\n",
       "      <td>-0.271124</td>\n",
       "      <td>-0.021367</td>\n",
       "      <td>-0.747212</td>\n",
       "      <td>-2.424240</td>\n",
       "      <td>0.884045</td>\n",
       "      <td>0.736844</td>\n",
       "      <td>-0.281328</td>\n",
       "      <td>0.066991</td>\n",
       "      <td>0.515939</td>\n",
       "    </tr>\n",
       "    <tr>\n",
       "      <th>98</th>\n",
       "      <td>-1.562546</td>\n",
       "      <td>-0.529053</td>\n",
       "      <td>0.794265</td>\n",
       "      <td>-1.254289</td>\n",
       "      <td>0.293558</td>\n",
       "      <td>-1.356582</td>\n",
       "      <td>0.466430</td>\n",
       "      <td>-0.035641</td>\n",
       "      <td>-1.615132</td>\n",
       "      <td>1.164739</td>\n",
       "      <td>-0.734592</td>\n",
       "      <td>-0.810252</td>\n",
       "      <td>0.200569</td>\n",
       "      <td>1.148637</td>\n",
       "      <td>-1.015822</td>\n",
       "      <td>0.061680</td>\n",
       "    </tr>\n",
       "    <tr>\n",
       "      <th>99</th>\n",
       "      <td>0.428817</td>\n",
       "      <td>0.693106</td>\n",
       "      <td>0.176442</td>\n",
       "      <td>-0.367028</td>\n",
       "      <td>-0.827590</td>\n",
       "      <td>0.086144</td>\n",
       "      <td>-1.072139</td>\n",
       "      <td>-2.921350</td>\n",
       "      <td>0.436560</td>\n",
       "      <td>0.903935</td>\n",
       "      <td>-2.362932</td>\n",
       "      <td>-1.009731</td>\n",
       "      <td>0.619154</td>\n",
       "      <td>2.057495</td>\n",
       "      <td>0.020794</td>\n",
       "      <td>-0.728003</td>\n",
       "    </tr>\n",
       "  </tbody>\n",
       "</table>\n",
       "<p>100 rows × 16 columns</p>\n",
       "</div>"
      ],
      "text/plain": [
       "    column_0  column_1  column_2  column_3  column_4  column_5  column_6  \\\n",
       "0   0.496714 -0.138264  0.647689  1.523030 -0.234153 -0.234137  1.579213   \n",
       "1  -1.012831  0.314247 -0.908024 -1.412304  1.465649 -0.225776  0.067528   \n",
       "2  -0.013497 -1.057711  0.822545 -1.220844  0.208864 -1.959670 -1.328186   \n",
       "3   0.343618 -1.763040  0.324084 -0.385082 -0.676922  0.611676  1.031000   \n",
       "4   0.812526  1.356240 -0.072010  1.003533  0.361636 -0.645120  0.361396   \n",
       "..       ...       ...       ...       ...       ...       ...       ...   \n",
       "95  1.221034  0.582098 -0.226484 -0.959439 -0.372207  1.088749  1.884586   \n",
       "96  0.513600 -0.532701 -1.169917 -2.872262 -0.027515  1.772252  1.661259   \n",
       "97 -0.877983 -0.826880 -0.226479  0.367366  0.913585 -0.803179  1.492689   \n",
       "98 -1.562546 -0.529053  0.794265 -1.254289  0.293558 -1.356582  0.466430   \n",
       "99  0.428817  0.693106  0.176442 -0.367028 -0.827590  0.086144 -1.072139   \n",
       "\n",
       "    column_7  column_8  column_9  column_10  column_11  column_12  column_13  \\\n",
       "0   0.767435 -0.469474  0.542560  -0.463418  -0.465730   0.241962  -1.913280   \n",
       "1  -1.424748 -0.544383  0.110923  -1.150994   0.375698  -0.600639  -0.291694   \n",
       "2   0.196861  0.738467  0.171368  -0.115648  -0.301104  -1.478522  -0.719844   \n",
       "3   0.931280 -0.839218 -0.309212   0.331263   0.975545  -0.479174  -0.185659   \n",
       "4   1.538037 -0.035826  1.564644  -2.619745   0.821903   0.087047  -0.299007   \n",
       "..       ...       ...       ...        ...        ...        ...        ...   \n",
       "95  1.543244 -0.488849 -1.119617   0.140886  -1.768439   0.323168  -0.147603   \n",
       "96 -0.457096 -0.602212  0.468774  -0.998385   0.301792   0.766080   1.226933   \n",
       "97 -0.271124 -0.021367 -0.747212  -2.424240   0.884045   0.736844  -0.281328   \n",
       "98 -0.035641 -1.615132  1.164739  -0.734592  -0.810252   0.200569   1.148637   \n",
       "99 -2.921350  0.436560  0.903935  -2.362932  -1.009731   0.619154   2.057495   \n",
       "\n",
       "    column_14  column_15  \n",
       "0   -1.724918  -0.562288  \n",
       "1   -0.601707   1.852278  \n",
       "2   -0.460639   1.057122  \n",
       "3   -1.106335  -1.196207  \n",
       "4    0.091761  -1.987569  \n",
       "..        ...        ...  \n",
       "95  -0.466037  -1.594703  \n",
       "96  -0.100154  -0.203674  \n",
       "97   0.066991   0.515939  \n",
       "98  -1.015822   0.061680  \n",
       "99   0.020794  -0.728003  \n",
       "\n",
       "[100 rows x 16 columns]"
      ]
     },
     "execution_count": 14,
     "metadata": {},
     "output_type": "execute_result"
    }
   ],
   "source": [
    "df"
   ]
  },
  {
   "cell_type": "code",
   "execution_count": null,
   "id": "d773d541",
   "metadata": {},
   "outputs": [],
   "source": [
    "df=permut"
   ]
  }
 ],
 "metadata": {
  "kernelspec": {
   "display_name": "Python 3 (ipykernel)",
   "language": "python",
   "name": "python3"
  },
  "language_info": {
   "codemirror_mode": {
    "name": "ipython",
    "version": 3
   },
   "file_extension": ".py",
   "mimetype": "text/x-python",
   "name": "python",
   "nbconvert_exporter": "python",
   "pygments_lexer": "ipython3",
   "version": "3.9.9"
  }
 },
 "nbformat": 4,
 "nbformat_minor": 5
}
