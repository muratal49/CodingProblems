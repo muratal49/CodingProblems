{
 "cells": [
  {
   "cell_type": "markdown",
   "id": "a04b4e5d",
   "metadata": {},
   "source": [
    "# SAMPLE PROBLEM PRACTICE NOTEBOOK"
   ]
  },
  {
   "cell_type": "markdown",
   "id": "0b2fab0b",
   "metadata": {},
   "source": [
    "## 1- Segregating Even-Odd numbers\n",
    "### seperate, in sorted order, evens to the right"
   ]
  },
  {
   "cell_type": "code",
   "execution_count": 1,
   "id": "8f551d6a",
   "metadata": {},
   "outputs": [
    {
     "name": "stdout",
     "output_type": "stream",
     "text": [
      "0 6\n",
      "1 5\n",
      "2 5\n",
      "2 4\n"
     ]
    },
    {
     "data": {
      "text/plain": [
       "[10, 2, 6, 4, 3, 7, 1]"
      ]
     },
     "execution_count": 1,
     "metadata": {},
     "output_type": "execute_result"
    }
   ],
   "source": [
    "A=[1,2,3,4,6,7,10]\n",
    "\n",
    "i=0\n",
    "j=len(A)-1\n",
    "while i<j :\n",
    "    print(i,j)\n",
    "    if A[i]%2==0: \n",
    "        i+=1\n",
    "    elif A[j]%2==0:\n",
    "        A[j],A[i]=A[i],A[j]\n",
    "        i+=1\n",
    "        j-=1\n",
    "    else : j-=1\n",
    "\n",
    "A"
   ]
  },
  {
   "cell_type": "markdown",
   "id": "c527a2e0",
   "metadata": {},
   "source": [
    "## 2) Merge Sort\n"
   ]
  },
  {
   "cell_type": "code",
   "execution_count": 224,
   "id": "2f2c4be4",
   "metadata": {},
   "outputs": [],
   "source": [
    "def helper(A,s,e):\n",
    "\n",
    "    if s==e :  #s=start, e=end\n",
    "        return A\n",
    "    \n",
    "    mid=s+int((e-s)/2)\n",
    "    \n",
    "    helper(A,s,mid)\n",
    "    helper(A,mid+1,e)\n",
    "    \n",
    "    i=s\n",
    "    j=mid+1\n",
    "    Aux=[]*(e-s+1)\n",
    "    \n",
    "    while i<=mid and j<=e:\n",
    "        if A[i]<=A[j]:\n",
    "            Aux.append(A[i])\n",
    "            i+=1\n",
    "        else:\n",
    "            Aux.append(A[j])\n",
    "            j+=1\n",
    "        \n",
    "    #rest of the elements\n",
    "    while i<=mid:\n",
    "         Aux.append(A[i])\n",
    "         i+=1\n",
    "    while j<=e:\n",
    "         Aux.append(A[j])\n",
    "         j+=1\n",
    "    # Copy Aux to A\n",
    "    \n",
    "#This was the critical point I missed, Copy'yin Aux of size [start to end] to the selected slice of [start to end] ONLY!\n",
    "    A[s:e+1]=Aux\n",
    "        \n",
    "    \n",
    "    #return A,Aux,s,mid,e   \n",
    "    return A\n",
    "def merge_sort(A):\n",
    "    \"\"\"\n",
    "    Args:\n",
    "     arr(list_int32)\n",
    "    Returns:\n",
    "     list_int32\n",
    "    \"\"\"\n",
    "    # Write your code here.\n",
    "    helper(A,0,len(A)-1)\n",
    "    \n",
    "    return A"
   ]
  },
  {
   "cell_type": "code",
   "execution_count": 227,
   "id": "dbffb727",
   "metadata": {},
   "outputs": [],
   "source": [
    "A=[4,3,1,5,6,8,3,1,11,13,17,0]\n",
    "\n",
    "\n"
   ]
  },
  {
   "cell_type": "code",
   "execution_count": 228,
   "id": "c52f6745",
   "metadata": {},
   "outputs": [
    {
     "data": {
      "text/plain": [
       "[1, 3, 4, 5, 6, 8, 3, 1, 11, 13, 17, 0]"
      ]
     },
     "execution_count": 228,
     "metadata": {},
     "output_type": "execute_result"
    }
   ],
   "source": [
    "helper(A,0,3)"
   ]
  },
  {
   "cell_type": "code",
   "execution_count": 229,
   "id": "b684daa0",
   "metadata": {},
   "outputs": [
    {
     "data": {
      "text/plain": [
       "[0, 1, 1, 3, 3, 4, 5, 6, 8, 11, 13, 17]"
      ]
     },
     "execution_count": 229,
     "metadata": {},
     "output_type": "execute_result"
    }
   ],
   "source": [
    "merge_sort(A)"
   ]
  },
  {
   "cell_type": "code",
   "execution_count": 230,
   "id": "57428173",
   "metadata": {},
   "outputs": [
    {
     "data": {
      "text/plain": [
       "6"
      ]
     },
     "execution_count": 230,
     "metadata": {},
     "output_type": "execute_result"
    }
   ],
   "source": [
    "f= [1, 3, 5]\n",
    "s= [2, 4, 6, 0, 0, 0]\n",
    "len(s)\n",
    "# replace Rahul with Shikhar\n",
    "#l = l[:i]+['Shikhar']+l[i+1:]"
   ]
  },
  {
   "cell_type": "markdown",
   "id": "d0c75125",
   "metadata": {},
   "source": [
    "### Inverse iteration 'range(N,-1,stepsize)"
   ]
  },
  {
   "cell_type": "code",
   "execution_count": null,
   "id": "c218721f",
   "metadata": {},
   "outputs": [],
   "source": [
    "for num in range(10, -1,-1) :\n",
    "    print (num, end = \"-> \")"
   ]
  },
  {
   "cell_type": "markdown",
   "id": "d096a01e",
   "metadata": {},
   "source": [
    "## 3) Merge sorted array size n, into sorted array size 2n\n",
    "### right half of the array is all zeros"
   ]
  },
  {
   "cell_type": "code",
   "execution_count": 234,
   "id": "801159d8",
   "metadata": {},
   "outputs": [],
   "source": [
    "def merge_one_into_another(first, second):\n",
    "    \"\"\"\n",
    "    Args:\n",
    "     first(list_int32)\n",
    "     second(list_int32)\n",
    "    Returns:\n",
    "     list_int32\n",
    "    \"\"\"\n",
    "    # Write your code here.\n",
    "    i=len(first)-1\n",
    "    j=len(first)-1\n",
    "    k=len(second)-1\n",
    "    \n",
    "    while(i>=0 and j>=0):\n",
    "        if first[i]>=second[j]:\n",
    "            second[k]=first[i]\n",
    "            i-=1\n",
    "        else:\n",
    "            second[k]=second[j]\n",
    "            j-=1\n",
    "        k-=1\n",
    "    \n",
    "    while(i>=0):\n",
    "        second[k]=first[i]\n",
    "        i-=1\n",
    "        k-=1\n",
    "    while(j>=0):\n",
    "        second[k]=second[j]\n",
    "        j-=1\n",
    "        k-=1\n",
    "    \n",
    "    return second\n"
   ]
  },
  {
   "cell_type": "markdown",
   "id": "5744fffa",
   "metadata": {},
   "source": [
    "## 4) Dutch Flag :"
   ]
  },
  {
   "cell_type": "markdown",
   "id": "14bb83e4",
   "metadata": {},
   "source": [
    "### a- Using Brute Force"
   ]
  },
  {
   "cell_type": "code",
   "execution_count": 237,
   "id": "4cdc105f",
   "metadata": {},
   "outputs": [],
   "source": [
    "#using Brute Force\n",
    "\n",
    "\n",
    "def dutch_flag_sort(balls):\n",
    "    \"\"\"\n",
    "    Args:\n",
    "     balls(list_char)\n",
    "    Returns:\n",
    "     list_char\n",
    "    \"\"\"\n",
    "    # Write your code here.\n",
    "        \n",
    "    n= len(balls)\n",
    "\n",
    "    print(n)\n",
    "    bptr =n-1\n",
    "    \n",
    "    # loop for bptr\n",
    "    for i in range(n-1,-1,-1):\n",
    "         #print(f\"i {i} balls{balls[i]}\")\n",
    "         if balls[i] == 'B':\n",
    "             balls[bptr], balls[i] = balls[i], balls[bptr]\n",
    "             bptr -= 1\n",
    "    \n",
    "    \n",
    "    print(bptr)\n",
    "    rptr = 0\n",
    "    for i in range(0, bptr+1):\n",
    "        if balls[i] == 'R':\n",
    "            balls[rptr], balls[i] = balls[i], balls[rptr]\n",
    "            rptr += 1\n",
    "    \n",
    "    return balls\n",
    "          \n",
    "    \n"
   ]
  },
  {
   "cell_type": "markdown",
   "id": "0482b51e",
   "metadata": {},
   "source": [
    "### b) Divide-Conquer Quick sort"
   ]
  },
  {
   "cell_type": "code",
   "execution_count": 235,
   "id": "10262801",
   "metadata": {},
   "outputs": [],
   "source": [
    "import random\n",
    "def dutch_flag_sort(A,S,E):\n",
    "    \"\"\"\n",
    "    Args:\n",
    "     A(list_char)\n",
    "    Returns:\n",
    "     list_char\n",
    "    \"\"\"\n",
    "    # Write your code here.\n",
    "\n",
    "    #brute force, selection sort\n",
    "    #A[i],A[j]=A[j],A[i] \n",
    "    \n",
    "    if S==E:\n",
    "      \n",
    "       return A\n",
    "    \n",
    "    \n",
    "    P=random.randint(S,E)\n",
    "    \n",
    "    dutch_flag_sort(A,S,P)\n",
    "    dutch_flag_sort(A,P+1,E)\n",
    "    \n",
    "    i=S\n",
    "    j=E\n",
    "    \n",
    "    while i<=j:\n",
    "        if A[i]>=A[j]:\n",
    "            i+=1\n",
    "        else: \n",
    "           A[i],A[j]=A[j],A[i] \n",
    "           j-=1\n",
    "    \n",
    "             \n",
    "    return A\n",
    "\n",
    "def  dflag(A):\n",
    "    dutch_flag_sort(A,0,len(A)-1)\n",
    "    return A\n",
    "  "
   ]
  },
  {
   "cell_type": "code",
   "execution_count": 341,
   "id": "3d34f846",
   "metadata": {},
   "outputs": [],
   "source": [
    "A=[\"G\", \"B\", \"G\", \"G\", \"R\", \"B\", \"R\", \"G\"]"
   ]
  },
  {
   "cell_type": "code",
   "execution_count": 342,
   "id": "3b6c047e",
   "metadata": {},
   "outputs": [
    {
     "data": {
      "text/plain": [
       "True"
      ]
     },
     "execution_count": 342,
     "metadata": {},
     "output_type": "execute_result"
    }
   ],
   "source": [
    "'R'>'A'"
   ]
  },
  {
   "cell_type": "markdown",
   "id": "d74ee46e",
   "metadata": {},
   "source": [
    "### b)3 Pointer sort  we have three kinds, does not work for more kinds..."
   ]
  },
  {
   "cell_type": "code",
   "execution_count": 381,
   "id": "c1a71201",
   "metadata": {},
   "outputs": [],
   "source": [
    "def dutch_flag_sort(A):\n",
    "    \"\"\"\n",
    "    Args:\n",
    "     A(list_char)\n",
    "    Returns:\n",
    "     list_char\n",
    "    \"\"\"\n",
    "    # Write your code here.\n",
    "\n",
    "    #brute force, selection sort\n",
    "    #A[i],A[j]=A[j],A[i] \n",
    "    \n",
    "   \n",
    "   #there are 3 colors only...\n",
    "   \n",
    "    if len(A)==1:\n",
    "      return A\n",
    "    \n",
    "    i=1 \n",
    "    j=len(A)-1 #hi end\n",
    "     #pivot index\n",
    "    #A[s],A[p]=A[p],A[s] #swaping the first box with the pivot\n",
    " \n",
    "    big=0\n",
    "    \n",
    "    while i<=j:\n",
    "        if A[i]>A[big]:\n",
    "            A[i],A[big]=A[big],A[i]\n",
    "            i+=1\n",
    "            big+=1 \n",
    "            \n",
    "        elif A[i]==A[big]:\n",
    "             i+=1\n",
    "             \n",
    "        elif A[i] <= A[j]:\n",
    "                A[i],A[j]=A[j],A[i] \n",
    "                j-=1\n",
    "           \n",
    "        elif A[i]>A[j]:\n",
    "                j-=1\n",
    "           \n",
    "    return A\n",
    "\n"
   ]
  },
  {
   "cell_type": "code",
   "execution_count": 388,
   "id": "8738a0ed",
   "metadata": {},
   "outputs": [],
   "source": [
    "A=['G', 'B', 'G', 'G', 'R', 'B', 'R','B','B','B','B']\n"
   ]
  },
  {
   "cell_type": "code",
   "execution_count": 389,
   "id": "c24dc482",
   "metadata": {},
   "outputs": [
    {
     "data": {
      "text/plain": [
       "['R', 'R', 'G', 'G', 'G', 'B', 'B', 'B', 'B', 'B', 'B']"
      ]
     },
     "execution_count": 389,
     "metadata": {},
     "output_type": "execute_result"
    }
   ],
   "source": [
    "dutch_flag_sort(A)"
   ]
  },
  {
   "cell_type": "code",
   "execution_count": 419,
   "id": "5866a3f9",
   "metadata": {},
   "outputs": [],
   "source": [
    "n=100\n",
    "\n",
    "def printingf (a):\n",
    "\n",
    "    if a<=10:\n",
    "        print(a)\n",
    "        return \n",
    "   # else:\n",
    "    printingf(a/2)\n",
    "    x=a/2\n",
    "    print(a,x)\n",
    "    return\n",
    "                \n",
    "    "
   ]
  },
  {
   "cell_type": "code",
   "execution_count": 420,
   "id": "7c656961",
   "metadata": {},
   "outputs": [
    {
     "name": "stdout",
     "output_type": "stream",
     "text": [
      "6.25\n",
      "12.5 6.25\n",
      "25.0 12.5\n",
      "50.0 25.0\n",
      "100 50.0\n"
     ]
    }
   ],
   "source": [
    "printingf(100)"
   ]
  },
  {
   "cell_type": "code",
   "execution_count": 400,
   "id": "d92d55b1",
   "metadata": {},
   "outputs": [
    {
     "data": {
      "text/plain": [
       "2"
      ]
     },
     "execution_count": 400,
     "metadata": {},
     "output_type": "execute_result"
    }
   ],
   "source": [
    "a=2.4\n",
    "int(a)"
   ]
  }
 ],
 "metadata": {
  "celltoolbar": "Raw Cell Format",
  "kernelspec": {
   "display_name": "Python 3 (ipykernel)",
   "language": "python",
   "name": "python3"
  },
  "language_info": {
   "codemirror_mode": {
    "name": "ipython",
    "version": 3
   },
   "file_extension": ".py",
   "mimetype": "text/x-python",
   "name": "python",
   "nbconvert_exporter": "python",
   "pygments_lexer": "ipython3",
   "version": "3.9.9"
  }
 },
 "nbformat": 4,
 "nbformat_minor": 5
}
